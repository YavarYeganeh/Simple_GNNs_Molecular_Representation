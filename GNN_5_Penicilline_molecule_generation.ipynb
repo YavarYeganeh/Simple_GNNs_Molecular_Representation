{
  "nbformat": 4,
  "nbformat_minor": 0,
  "metadata": {
    "colab": {
      "name": "YGNN-5_Penicilline_molecule-generation.ipynb",
      "provenance": [],
      "collapsed_sections": []
    },
    "kernelspec": {
      "name": "python3",
      "display_name": "Python 3"
    },
    "language_info": {
      "name": "python"
    }
  },
  "cells": [
    {
      "cell_type": "code",
      "metadata": {
        "id": "SSkylKa7jPr1"
      },
      "source": [
        "%%capture\n",
        "try:\n",
        "  already_installed\n",
        "except:  \n",
        "    !pip install kora\n",
        "    !pip install dgl\n",
        "    !pip install dgl-cu101\n",
        "    !pip install --pre dgl-cu101\n",
        "    !pip install dgllife\n",
        "    # !pip install -q torch-scatter -f https://pytorch-geometric.com/whl/torch-1.7.0+cu101.html\n",
        "    # !pip install -q torch-sparse -f https://pytorch-geometric.com/whl/torch-1.7.0+cu101.html\n",
        "    # !pip install -q torch-geometric\n",
        "    !pip install torch_optimizer\n",
        "    #!pip install pytorch_lightning\n",
        "    import sys\n",
        "    import time\n",
        "    import dgl\n",
        "    import dgllife\n",
        "    import torch \n",
        "    import pickle\n",
        "    from IPython.display import clear_output\n",
        "    import networkx as nx\n",
        "    import dgl.function as fn\n",
        "    import torch.nn.functional as F\n",
        "    import torch.nn as nn\n",
        "    sys.path.append('/usr/local/lib/python3.6/dist-packages/') # For using RDKit utilizing KORA\n",
        "    import kora.install.rdkit\n",
        "    from rdkit import Chem\n",
        "    from rdkit.Chem import Descriptors\n",
        "    from rdkit.Chem.Draw import IPythonConsole\n",
        "    from rdkit.Chem import ChemicalFeatures\n",
        "    from rdkit import RDConfig\n",
        "    from dgllife.utils import featurizers as fs\n",
        "    from torch.utils.data import DataLoader\n",
        "    import networkx as nx\n",
        "    import matplotlib.pyplot as plt\n",
        "    import torch_optimizer as optim\n",
        "    # import pytorch_lightning as pl  \n",
        "    # from pytorch_lightning.metrics.classification import AUROC\n",
        "    # from pytorch_lightning.metrics.classification import AveragePrecision\n",
        "    # from pytorch_lightning.metrics.classification import Recall\n",
        "    # from pytorch_lightning.metrics.classification import Precision\n",
        "    # from pytorch_lightning.metrics.classification import ConfusionMatrix\n",
        "    from sklearn.metrics import roc_auc_score\n",
        "    from sklearn.model_selection import train_test_split\n",
        "    import pandas as pd\n",
        "    import numpy as np\n",
        "    import itertools\n",
        "    import os\n",
        "    %matplotlib inline\n",
        "    import warnings\n",
        "    warnings.filterwarnings(\"ignore\")\n",
        "    # Fix Seeds\n",
        "    # Set a seed value\n",
        "    seed_value= 213 \n",
        "    # 1. Set `PYTHONHASHSEED` environment variable at a fixed value\n",
        "    os.environ['PYTHONHASHSEED']=str(seed_value)\n",
        "    # 2. Set `python` built-in pseudo-random generator at a fixed value\n",
        "    import random \n",
        "    random.seed(seed_value)\n",
        "    # 3. Set `numpy` pseudo-random generator at a fixed value\n",
        "    np.random.seed(seed_value)\n",
        "    # 4. Set `pytorch` pseudo-random generator at a fixed value\n",
        "    torch.manual_seed(seed_value)\n",
        "    # 5. Set `dgl` pseudo-random generator at a fixed value\n",
        "    dgl.seed(seed_value)\n",
        "    # 6. For layers that introduce randomness like dropout, make sure to set seed values \n",
        "    # model.add(Dropout(0.25, seed=seed_value))\n",
        "    already_installed=True"
      ],
      "execution_count": null,
      "outputs": []
    },
    {
      "cell_type": "code",
      "metadata": {
        "id": "zTFzmuZIFxZC"
      },
      "source": [
        ""
      ],
      "execution_count": null,
      "outputs": []
    },
    {
      "cell_type": "code",
      "metadata": {
        "colab": {
          "base_uri": "https://localhost:8080/",
          "height": 167
        },
        "id": "3Lsy7EGOVTO4",
        "outputId": "d51aeea5-efac-434f-dfde-e8742fb3b0cc"
      },
      "source": [
        "mol = Chem.MolFromSmiles('CC1(C(N2C(S1)C(C2=O)NC(=O)CC3=CC=CC=C3)C(=O)O)C')\n",
        "from rdkit import Chem\n",
        "from rdkit.Chem.Draw import IPythonConsole\n",
        "\n",
        "def show_atom_number(mol, label):\n",
        "    for atom in mol.GetAtoms():\n",
        "        atom.SetProp(label, str(atom.GetIdx()))\n",
        "    return mol\n",
        "show_atom_number(mol, 'molAtomMapNumber')"
      ],
      "execution_count": null,
      "outputs": [
        {
          "output_type": "execute_result",
          "data": {
            "image/png": "[encoded data removed]",
            "text/plain": [
              "<rdkit.Chem.rdchem.Mol at 0x7f77663b3da0>"
            ]
          },
          "metadata": {
            "tags": []
          },
          "execution_count": 11
        }
      ]
    },
    {
      "cell_type": "code",
      "metadata": {
        "id": "ZXoFM0eIWbMV"
      },
      "source": [
        "graph = dgllife.utils.mol_to_bigraph(mol, add_self_loop=False, node_featurizer=None, edge_featurizer=None, canonical_atom_order=True)"
      ],
      "execution_count": null,
      "outputs": []
    },
    {
      "cell_type": "code",
      "metadata": {
        "colab": {
          "base_uri": "https://localhost:8080/",
          "height": 319
        },
        "id": "yZMWYKLaWuKS",
        "outputId": "3bce3f54-af88-4441-f274-13967c820dba"
      },
      "source": [
        "import networkx as nx\n",
        "# Since the actual graph is undirected, we convert it for visualization\n",
        "# purpose.\n",
        "nx_G = graph.to_networkx()\n",
        "# Kamada-Kawaii layout usually looks pretty for arbitrary graphs\n",
        "pos = nx.kamada_kawai_layout(nx_G, scale=1)\n",
        "#nx.draw(nx_G, pos, with_labels=True, node_color=[[.7, .7, .7]])\n",
        "nx.draw(nx_G, pos, with_labels=True, node_color=[[.1, .7, .7]])"
      ],
      "execution_count": null,
      "outputs": [
        {
          "output_type": "display_data",
          "data": {
            "image/png": "[encoded data removed]",
            "text/plain": [
              "<Figure size 432x288 with 1 Axes>"
            ]
          },
          "metadata": {
            "tags": []
          }
        }
      ]
    },
    {
      "cell_type": "code",
      "metadata": {
        "colab": {
          "base_uri": "https://localhost:8080/",
          "height": 167
        },
        "id": "0jlTkO5fV7dX",
        "outputId": "6e33c2af-2cab-4491-cca6-952d1c222d11"
      },
      "source": [
        "mol"
      ],
      "execution_count": null,
      "outputs": [
        {
          "output_type": "execute_result",
          "data": {
            "image/png": "[encoded data removed]",
            "text/plain": [
              "<rdkit.Chem.rdchem.Mol at 0x7f77583fe850>"
            ]
          },
          "metadata": {
            "tags": []
          },
          "execution_count": 3
        }
      ]
    },
    {
      "cell_type": "code",
      "metadata": {
        "id": "jkndCOAjjRib"
      },
      "source": [
        "from google.colab import drive\n",
        "drive.mount('/content/drive')"
      ],
      "execution_count": null,
      "outputs": []
    },
    {
      "cell_type": "code",
      "metadata": {
        "id": "hpPFENX24ZyC"
      },
      "source": [
        " https://deepchemdata.s3-us-west-1.amazonaws.com/datasets/HIV.csv\n"
      ],
      "execution_count": null,
      "outputs": []
    },
    {
      "cell_type": "code",
      "metadata": {
        "id": "A5UgCdQ87qXW"
      },
      "source": [
        "HIV_dataset = pd.read_csv('https://deepchemdata.s3-us-west-1.amazonaws.com/datasets/HIV.csv')#.fillna(0)"
      ],
      "execution_count": null,
      "outputs": []
    },
    {
      "cell_type": "code",
      "metadata": {
        "id": "O64NoB2jC4nU"
      },
      "source": [
        "dataset = pd.read_csv('https://deepchemdata.s3-us-west-1.amazonaws.com/datasets/HIV.csv')"
      ],
      "execution_count": null,
      "outputs": []
    },
    {
      "cell_type": "code",
      "metadata": {
        "colab": {
          "base_uri": "https://localhost:8080/",
          "height": 424
        },
        "id": "SrbbdFD370-x",
        "outputId": "8b76ad31-7651-43b6-a12d-ad09b922b37b"
      },
      "source": [
        "HIV_dataset"
      ],
      "execution_count": null,
      "outputs": [
        {
          "output_type": "execute_result",
          "data": {
            "text/html": [
              "<div>\n",
              "<style scoped>\n",
              "    .dataframe tbody tr th:only-of-type {\n",
              "        vertical-align: middle;\n",
              "    }\n",
              "\n",
              "    .dataframe tbody tr th {\n",
              "        vertical-align: top;\n",
              "    }\n",
              "\n",
              "    .dataframe thead th {\n",
              "        text-align: right;\n",
              "    }\n",
              "</style>\n",
              "<table border=\"1\" class=\"dataframe\">\n",
              "  <thead>\n",
              "    <tr style=\"text-align: right;\">\n",
              "      <th></th>\n",
              "      <th>smiles</th>\n",
              "      <th>activity</th>\n",
              "      <th>HIV_active</th>\n",
              "    </tr>\n",
              "  </thead>\n",
              "  <tbody>\n",
              "    <tr>\n",
              "      <th>0</th>\n",
              "      <td>CCC1=[O+][Cu-3]2([O+]=C(CC)C1)[O+]=C(CC)CC(CC)...</td>\n",
              "      <td>CI</td>\n",
              "      <td>0</td>\n",
              "    </tr>\n",
              "    <tr>\n",
              "      <th>1</th>\n",
              "      <td>C(=Cc1ccccc1)C1=[O+][Cu-3]2([O+]=C(C=Cc3ccccc3...</td>\n",
              "      <td>CI</td>\n",
              "      <td>0</td>\n",
              "    </tr>\n",
              "    <tr>\n",
              "      <th>2</th>\n",
              "      <td>CC(=O)N1c2ccccc2Sc2c1ccc1ccccc21</td>\n",
              "      <td>CI</td>\n",
              "      <td>0</td>\n",
              "    </tr>\n",
              "    <tr>\n",
              "      <th>3</th>\n",
              "      <td>Nc1ccc(C=Cc2ccc(N)cc2S(=O)(=O)O)c(S(=O)(=O)O)c1</td>\n",
              "      <td>CI</td>\n",
              "      <td>0</td>\n",
              "    </tr>\n",
              "    <tr>\n",
              "      <th>4</th>\n",
              "      <td>O=S(=O)(O)CCS(=O)(=O)O</td>\n",
              "      <td>CI</td>\n",
              "      <td>0</td>\n",
              "    </tr>\n",
              "    <tr>\n",
              "      <th>...</th>\n",
              "      <td>...</td>\n",
              "      <td>...</td>\n",
              "      <td>...</td>\n",
              "    </tr>\n",
              "    <tr>\n",
              "      <th>41122</th>\n",
              "      <td>CCC1CCC2c3c([nH]c4ccc(C)cc34)C3C(=O)N(N(C)C)C(...</td>\n",
              "      <td>CI</td>\n",
              "      <td>0</td>\n",
              "    </tr>\n",
              "    <tr>\n",
              "      <th>41123</th>\n",
              "      <td>Cc1ccc2[nH]c3c(c2c1)C1CCC(C(C)(C)C)CC1C1C(=O)N...</td>\n",
              "      <td>CI</td>\n",
              "      <td>0</td>\n",
              "    </tr>\n",
              "    <tr>\n",
              "      <th>41124</th>\n",
              "      <td>Cc1ccc(N2C(=O)C3c4[nH]c5ccccc5c4C4CCC(C(C)(C)C...</td>\n",
              "      <td>CI</td>\n",
              "      <td>0</td>\n",
              "    </tr>\n",
              "    <tr>\n",
              "      <th>41125</th>\n",
              "      <td>Cc1cccc(N2C(=O)C3c4[nH]c5ccccc5c4C4CCC(C(C)(C)...</td>\n",
              "      <td>CI</td>\n",
              "      <td>0</td>\n",
              "    </tr>\n",
              "    <tr>\n",
              "      <th>41126</th>\n",
              "      <td>CCCCCC=C(c1cc(Cl)c(OC)c(-c2nc(C)no2)c1)c1cc(Cl...</td>\n",
              "      <td>CI</td>\n",
              "      <td>0</td>\n",
              "    </tr>\n",
              "  </tbody>\n",
              "</table>\n",
              "<p>41127 rows × 3 columns</p>\n",
              "</div>"
            ],
            "text/plain": [
              "                                                  smiles activity  HIV_active\n",
              "0      CCC1=[O+][Cu-3]2([O+]=C(CC)C1)[O+]=C(CC)CC(CC)...       CI           0\n",
              "1      C(=Cc1ccccc1)C1=[O+][Cu-3]2([O+]=C(C=Cc3ccccc3...       CI           0\n",
              "2                       CC(=O)N1c2ccccc2Sc2c1ccc1ccccc21       CI           0\n",
              "3        Nc1ccc(C=Cc2ccc(N)cc2S(=O)(=O)O)c(S(=O)(=O)O)c1       CI           0\n",
              "4                                 O=S(=O)(O)CCS(=O)(=O)O       CI           0\n",
              "...                                                  ...      ...         ...\n",
              "41122  CCC1CCC2c3c([nH]c4ccc(C)cc34)C3C(=O)N(N(C)C)C(...       CI           0\n",
              "41123  Cc1ccc2[nH]c3c(c2c1)C1CCC(C(C)(C)C)CC1C1C(=O)N...       CI           0\n",
              "41124  Cc1ccc(N2C(=O)C3c4[nH]c5ccccc5c4C4CCC(C(C)(C)C...       CI           0\n",
              "41125  Cc1cccc(N2C(=O)C3c4[nH]c5ccccc5c4C4CCC(C(C)(C)...       CI           0\n",
              "41126  CCCCCC=C(c1cc(Cl)c(OC)c(-c2nc(C)no2)c1)c1cc(Cl...       CI           0\n",
              "\n",
              "[41127 rows x 3 columns]"
            ]
          },
          "metadata": {
            "tags": []
          },
          "execution_count": 26
        }
      ]
    },
    {
      "cell_type": "code",
      "metadata": {
        "colab": {
          "base_uri": "https://localhost:8080/"
        },
        "id": "-SZl6YkMCeME",
        "outputId": "0e6209b1-4556-455b-ca20-42b492c763b5"
      },
      "source": [
        "CanonicalBondFeaturizer(Chem.MolFromSmiles(HIV_dataset.smiles[0]))['e'].shape"
      ],
      "execution_count": null,
      "outputs": [
        {
          "output_type": "execute_result",
          "data": {
            "text/plain": [
              "torch.Size([40, 12])"
            ]
          },
          "metadata": {
            "tags": []
          },
          "execution_count": 27
        }
      ]
    },
    {
      "cell_type": "code",
      "metadata": {
        "colab": {
          "base_uri": "https://localhost:8080/"
        },
        "id": "gkEfI8OwClyQ",
        "outputId": "04f50fc5-d6a4-4e68-b0ee-ab2fd276ba85"
      },
      "source": [
        "CanonicalAtomFeaturizer_without_AF_OH(Chem.MolFromSmiles('[U]'))['h'].shape"
      ],
      "execution_count": null,
      "outputs": [
        {
          "output_type": "execute_result",
          "data": {
            "text/plain": [
              "torch.Size([1, 128])"
            ]
          },
          "metadata": {
            "tags": []
          },
          "execution_count": 24
        }
      ]
    },
    {
      "cell_type": "code",
      "metadata": {
        "id": "djGOiWtyDwDN"
      },
      "source": [
        "mol = Chem.MolFromSmiles(HIV_dataset.smiles[0])\n"
      ],
      "execution_count": null,
      "outputs": []
    },
    {
      "cell_type": "code",
      "metadata": {
        "colab": {
          "base_uri": "https://localhost:8080/",
          "height": 167
        },
        "id": "8tncLTciH7K4",
        "outputId": "401ac52e-24a9-4e9c-aea5-ef4e2efd236a"
      },
      "source": [
        "Draw.MolToImage(Chem.MolFromSmiles(HIV_dataset.smiles[0]), includeAtomNumbers=True)"
      ],
      "execution_count": null,
      "outputs": [
        {
          "output_type": "error",
          "ename": "NameError",
          "evalue": "ignored",
          "traceback": [
            "\u001b[0;31m---------------------------------------------------------------------------\u001b[0m",
            "\u001b[0;31mNameError\u001b[0m                                 Traceback (most recent call last)",
            "\u001b[0;32m<ipython-input-33-9aa2d0f5ae7d>\u001b[0m in \u001b[0;36m<module>\u001b[0;34m()\u001b[0m\n\u001b[0;32m----> 1\u001b[0;31m \u001b[0mDraw\u001b[0m\u001b[0;34m.\u001b[0m\u001b[0mMolToImage\u001b[0m\u001b[0;34m(\u001b[0m\u001b[0mChem\u001b[0m\u001b[0;34m.\u001b[0m\u001b[0mMolFromSmiles\u001b[0m\u001b[0;34m(\u001b[0m\u001b[0mHIV_dataset\u001b[0m\u001b[0;34m.\u001b[0m\u001b[0msmiles\u001b[0m\u001b[0;34m[\u001b[0m\u001b[0;36m0\u001b[0m\u001b[0;34m]\u001b[0m\u001b[0;34m)\u001b[0m\u001b[0;34m,\u001b[0m \u001b[0mincludeAtomNumbers\u001b[0m\u001b[0;34m=\u001b[0m\u001b[0;32mTrue\u001b[0m\u001b[0;34m)\u001b[0m\u001b[0;34m\u001b[0m\u001b[0;34m\u001b[0m\u001b[0m\n\u001b[0m",
            "\u001b[0;31mNameError\u001b[0m: name 'Draw' is not defined"
          ]
        }
      ]
    },
    {
      "cell_type": "code",
      "metadata": {
        "id": "wuzwvRGZIGxP"
      },
      "source": [
        "for atom in mol.GetAtoms():\n",
        "    atom.SetProp('atomLabel',str(atom.GetIdx()))"
      ],
      "execution_count": null,
      "outputs": []
    },
    {
      "cell_type": "code",
      "metadata": {
        "colab": {
          "base_uri": "https://localhost:8080/",
          "height": 167
        },
        "id": "FFs87hrcIUqv",
        "outputId": "020a9c53-e296-479e-f393-e60e56c3008a"
      },
      "source": [
        "mol"
      ],
      "execution_count": null,
      "outputs": [
        {
          "output_type": "execute_result",
          "data": {
            "image/png": "[encoded data removed]",
            "text/plain": [
              "<rdkit.Chem.rdchem.Mol at 0x7fd782b94800>"
            ]
          },
          "metadata": {
            "tags": []
          },
          "execution_count": 37
        }
      ]
    },
    {
      "cell_type": "code",
      "metadata": {
        "id": "gcBWJnpMHq-q"
      },
      "source": [
        "mol.GetAtoms("
      ],
      "execution_count": null,
      "outputs": []
    },
    {
      "cell_type": "code",
      "metadata": {
        "id": "awJAgB4LKETo"
      },
      "source": [
        "mol2 = Chem.AddHs(mol)"
      ],
      "execution_count": null,
      "outputs": []
    },
    {
      "cell_type": "code",
      "metadata": {
        "colab": {
          "base_uri": "https://localhost:8080/",
          "height": 167
        },
        "id": "BqUEeqZlKLyv",
        "outputId": "fd93f88c-aa2f-4d6a-bf43-7584734f7a20"
      },
      "source": [
        "mol2"
      ],
      "execution_count": null,
      "outputs": [
        {
          "output_type": "execute_result",
          "data": {
            "image/png": "[encoded data removed]",
            "text/plain": [
              "<rdkit.Chem.rdchem.Mol at 0x7fd782ac2760>"
            ]
          },
          "metadata": {
            "tags": []
          },
          "execution_count": 41
        }
      ]
    },
    {
      "cell_type": "code",
      "metadata": {
        "id": "oEDiRH11KNSb",
        "colab": {
          "base_uri": "https://localhost:8080/",
          "height": 167
        },
        "outputId": "43314614-dd73-4c3a-be70-3124ccc8cd81"
      },
      "source": [
        "mol"
      ],
      "execution_count": null,
      "outputs": [
        {
          "output_type": "execute_result",
          "data": {
            "image/png": "[encoded data removed]",
            "text/plain": [
              "<rdkit.Chem.rdchem.Mol at 0x7fd782b94800>"
            ]
          },
          "metadata": {
            "tags": []
          },
          "execution_count": 42
        }
      ]
    },
    {
      "cell_type": "code",
      "metadata": {
        "id": "lDWVBVYJHoi6"
      },
      "source": [
        "HIV_dataset.smiles[0]"
      ],
      "execution_count": null,
      "outputs": []
    },
    {
      "cell_type": "code",
      "metadata": {
        "colab": {
          "base_uri": "https://localhost:8080/",
          "height": 35
        },
        "id": "2ldOGodMDzSE",
        "outputId": "bea8c0fa-00df-45ee-8f64-bbb31b779de1"
      },
      "source": [
        "HIV_dataset.smiles[0]"
      ],
      "execution_count": null,
      "outputs": [
        {
          "output_type": "execute_result",
          "data": {
            "application/vnd.google.colaboratory.intrinsic+json": {
              "type": "string"
            },
            "text/plain": [
              "'CCC1=[O+][Cu-3]2([O+]=C(CC)C1)[O+]=C(CC)CC(CC)=[O+]2'"
            ]
          },
          "metadata": {
            "tags": []
          },
          "execution_count": 18
        }
      ]
    },
    {
      "cell_type": "code",
      "metadata": {
        "id": "6gLfajqUE5Q4"
      },
      "source": [
        "## Node and Edge Featurizer\n",
        "\n",
        "def atom_is_in_ring_list_one_hot(atom, allowable_set=None, encode_unknown=False):\n",
        "          list = [3,4,5] # List denotes the size of cycles\n",
        "          return [atom.IsInRing()]+[atom.IsInRingSize(i) for i in list]\n",
        "\n",
        "def bond_is_in_ring_list_one_hot(bond, allowable_set=None, encode_unknown=False):\n",
        "          list = [3,4,5] # List denotes the size of cycles\n",
        "          return [bond.IsInRing()]+[bond.IsInRingSize(i) for i in list]\n",
        "\n",
        "# Same as DMPNN; Not sure about chirlarity\n",
        "class CanonicalAtomFeaturizer_without_AF_OH(fs.BaseAtomFeaturizer):\n",
        "    def __init__(self, atom_data_field='h'):\n",
        "        super().__init__(\n",
        "            featurizer_funcs={atom_data_field: fs.ConcatFeaturizer(\n",
        "                [\n",
        "                 fs.atomic_number_one_hot,\n",
        "                 fs.atom_degree_one_hot,\n",
        "                 fs.atom_formal_charge_one_hot,\n",
        "                 fs.atom_chiral_tag_one_hot,\n",
        "                 fs.atom_chirality_type_one_hot, \n",
        "                 fs.atom_is_chiral_center,\n",
        "                 fs.atom_total_num_H_one_hot,\n",
        "                 fs.atom_hybridization_one_hot,\n",
        "                 fs.atom_is_aromatic,\n",
        "                 fs.atom_mass,\n",
        "                 #fs.atom_explicit_valence_one_hot,\n",
        "                 #fs.atom_implicit_valence_one_hot,                \n",
        "                 #fs.atom_num_radical_electrons_one_hot,\n",
        "                 #fs.atom_is_in_ring,\n",
        "                 #atom_is_in_ring_list_one_hot\n",
        "                 ]\n",
        "            )})\n",
        "\n",
        "# Same as DMPNN\n",
        "class CanonicalBondFeaturizer(fs.BaseBondFeaturizer):\n",
        "       def __init__(self, bond_data_field='e', self_loop=False):\n",
        "        super(CanonicalBondFeaturizer, self).__init__(\n",
        "            featurizer_funcs={bond_data_field: fs.ConcatFeaturizer(\n",
        "                [fs.bond_type_one_hot,\n",
        "                 fs.bond_is_conjugated,\n",
        "                 fs.bond_is_in_ring,\n",
        "                 fs.bond_stereo_one_hot,\n",
        "                 #fs.bond_direction_one_hot,\n",
        "                 #bond_is_in_ring_list_one_hot\n",
        "                 ]\n",
        "            )}, self_loop=self_loop)\n",
        "        \n",
        "CanonicalBondFeaturizer = CanonicalBondFeaturizer()\n",
        "CanonicalAtomFeaturizer = CanonicalAtomFeaturizer_without_AF_OH()"
      ],
      "execution_count": null,
      "outputs": []
    },
    {
      "cell_type": "code",
      "metadata": {
        "id": "iXMlBv7KFvyf"
      },
      "source": [
        "\n",
        "def atom_is_in_ring_list_one_hot(atom, allowable_set=None, encode_unknown=False):\n",
        "          list = [3,4,5] # List denotes the size of cycles\n",
        "          return [atom.IsInRing()]+[atom.IsInRingSize(i) for i in list]\n",
        "\n",
        "def bond_is_in_ring_list_one_hot(bond, allowable_set=None, encode_unknown=False):\n",
        "          list = [3,4,5] # List denotes the size of cycles\n",
        "          return [bond.IsInRing()]+[bond.IsInRingSize(i) for i in list]\n",
        "\n",
        "# Same as DMPNN; Not sure about chirlarity\n",
        "class CanonicalAtomFeaturizer_without_AF_OH(fs.BaseAtomFeaturizer):\n",
        "    def __init__(self, atom_data_field='h'):\n",
        "        super().__init__(\n",
        "            featurizer_funcs={atom_data_field: fs.ConcatFeaturizer(\n",
        "                [\n",
        "                 fs.atomic_number_one_hot,\n",
        "                 fs.atom_degree_one_hot,\n",
        "                 fs.atom_formal_charge_one_hot,\n",
        "                 fs.atom_chiral_tag_one_hot,\n",
        "                 fs.atom_chirality_type_one_hot, \n",
        "                 fs.atom_is_chiral_center,\n",
        "                 fs.atom_total_num_H_one_hot,\n",
        "                 fs.atom_hybridization_one_hot,\n",
        "                 fs.atom_is_aromatic,\n",
        "                 fs.atom_mass,\n",
        "                 #fs.atom_explicit_valence_one_hot,\n",
        "                 #fs.atom_implicit_valence_one_hot,                \n",
        "                 #fs.atom_num_radical_electrons_one_hot,\n",
        "                 #fs.atom_is_in_ring,\n",
        "                 #atom_is_in_ring_list_one_hot\n",
        "                 ]\n",
        "            )})\n",
        "\n",
        "# Same as DMPNN\n",
        "class CanonicalBondFeaturizer(fs.BaseBondFeaturizer):\n",
        "       def __init__(self, bond_data_field='e', self_loop=False):\n",
        "        super(CanonicalBondFeaturizer, self).__init__(\n",
        "            featurizer_funcs={bond_data_field: fs.ConcatFeaturizer(\n",
        "                [fs.bond_type_one_hot,\n",
        "                 fs.bond_is_conjugated,\n",
        "                 fs.bond_is_in_ring,\n",
        "                 fs.bond_stereo_one_hot,\n",
        "                 #fs.bond_direction_one_hot,\n",
        "                 #bond_is_in_ring_list_one_hot\n",
        "                 ]\n",
        "            )}, self_loop=self_loop)\n",
        "        \n",
        "CanonicalBondFeaturizer = CanonicalBondFeaturizer()\n",
        "CanonicalAtomFeaturizer = CanonicalAtomFeaturizer_without_AF_OH()\n",
        "\n",
        "class DGLDatasetHIV(torch.utils.data.Dataset):\n",
        "\n",
        "    def __init__(self):\n",
        "\n",
        "        HIV_dataset = pd.read_csv('https://deepchemdata.s3-us-west-1.amazonaws.com/datasets/tox21.csv.gz', compression='gzip').fillna(0)\n",
        "        \n",
        "        Edge_features=[]\n",
        "        no_edge=[]\n",
        "        for i in range(Tox21_dataset.smiles.size):\n",
        "          try:\n",
        "            Edge_features.append(CanonicalBondFeaturizer(Chem.MolFromSmiles(Tox21_dataset.smiles[i]))['e'])\n",
        "          except:\n",
        "            no_edge.append(i)\n",
        "            Edge_features.append('no_edge')\n",
        "\n",
        "        Tox21_dataset.drop(no_edge, inplace=True)\n",
        "\n",
        "        for i in range(len(no_edge)):\n",
        "          del Edge_features[no_edge[i]-i]\n",
        "\n",
        "        %cd /content/\n",
        "\n",
        "        if not os.path.exists(\"/content/tox21-global-cdf-rdkit.csv\"):\n",
        "          !unzip '/content/drive/MyDrive/GMLG_Research/Tox_21_Final/TOX21_Node_features_5AF_OH_Yb-solved.zip'\n",
        "          !unzip '/content/drive/MyDrive/GMLG_Research/Tox_21_Final/tox21-global-cdf-rdkit.zip'\n",
        "          #!unzip '/content/drive/MyDrive/GMLG_Research/Tox_21_Final/Node_Features_AF3_NOH.zip'\n",
        "\n",
        "        #global_fetures = torch.Tensor(pd.read_csv('tox21-global-cdf-rdkit.csv').fillna(0).iloc[:,1:].values) # 101 NaN: should be addrressed correctly\n",
        "        gf_df = pd.read_csv('tox21-global-cdf-rdkit.csv')\n",
        "        global_fetures = torch.Tensor(gf_df.fillna(gf_df.mean()).iloc[:,1:].values) # 101 NaN; fill mean\n",
        "\n",
        "        #with open('Node_Features_AF3_NOH.pickle', 'rb') as handle:\n",
        "        with open('TOX21_Node_features_5AF_OH_Yb-solved.pickle', 'rb') as handle:\n",
        "            Node_features = pickle.load(handle)\n",
        "        #Node_features[1910][1][-3] = 1.1 # problem with the atom # # with three additional features\n",
        "        if torch.isnan(Node_features[1910][1][-5]) == True: # # with five additional features\n",
        "          Node_features[1910][1][-5] = 1.1\n",
        "\n",
        "        for i in range(len(no_edge)):\n",
        "          del Node_features[no_edge[i]-i]\n",
        "\n",
        "        for i in range(len(no_edge)):\n",
        "          global_fetures = global_fetures [torch.arange(global_fetures.size (0))!= no_edge[i] - i]\n",
        "\n",
        "        self.dgl_graphs = []\n",
        "        for i in range(len(Node_features)):\n",
        "          mol = Chem.MolFromSmiles(Tox21_dataset.iloc[i,-1])\n",
        "          self.dgl_graphs.append(dgllife.utils.mol_to_bigraph(mol, canonical_atom_order=False))\n",
        "          self.dgl_graphs[i].ndata['h_0'] = Node_features[i]\n",
        "          self.dgl_graphs[i].edata['e_0'] = Edge_features[i]\n",
        "\n",
        "        self.smiles = []\n",
        "        for o in range(len(self.dgl_graphs)):\n",
        "          self.smiles.append(Tox21_dataset.iloc[o,13])\n",
        "          \n",
        "        self.global_fetures = global_fetures\n",
        "        self.labels = Tox21_dataset.iloc[:,:12].values\n",
        "        self.masks = Tox21_dataset.replace({0: 1}).iloc[:,:12].values        \n",
        "        \n",
        "        # # Unzip the dataset and read its csv file, and fill in NaN values with 0\n",
        "        # self.csv = pd.read_csv(csv_url, compression='gzip').fillna(0) \n",
        "\n",
        "        # # Make masks for labels (0 as NaN value, and 1 as other values)\n",
        "        # self.masks_csv = pd.read_csv(csv_url, compression='gzip').replace({0: 1}).fillna(0)\n",
        "\n",
        "        # # Split smiles, labels, and masks columns as lists\n",
        "        # self.smiles = self.csv.iloc[:,13]\n",
        "        # self.labels = self.csv.iloc[:,:12].values\n",
        "        # self.masks = self.masks_csv.iloc[:,:12].values \n",
        "\n",
        "    def __len__(self):\n",
        "        return len(self.dgl_graphs)\n",
        "\n",
        "    def __getitem__(self, idx):\n",
        "        return  self.smiles[idx], self.dgl_graphs[idx], self.global_fetures[idx], torch.Tensor(self.labels[idx]), torch.Tensor(self.masks[idx])"
      ],
      "execution_count": null,
      "outputs": []
    },
    {
      "cell_type": "code",
      "metadata": {
        "id": "8jY_PYSc82Ro"
      },
      "source": [
        "CanonicalAtomFeaturizer_without_AF_OH = CanonicalAtomFeaturizer_without_AF_OH()"
      ],
      "execution_count": null,
      "outputs": []
    },
    {
      "cell_type": "code",
      "metadata": {
        "colab": {
          "base_uri": "https://localhost:8080/"
        },
        "id": "eHD4-uL58wwD",
        "outputId": "e9c99bf4-e9a8-477c-af56-b40cdd97fc3f"
      },
      "source": [
        "Node_features=[]\n",
        "for i in range(HIV_dataset.shape[0]):\n",
        "  Node_features.append(CanonicalAtomFeaturizer_without_AF_OH(Chem.MolFromSmiles(HIV_dataset.smiles[i]))['h'])\n",
        "len(Node_features)"
      ],
      "execution_count": null,
      "outputs": [
        {
          "output_type": "stream",
          "text": [
            "RDKit WARNING: [12:06:00] WARNING: not removing hydrogen atom without neighbors\n",
            "RDKit WARNING: [12:06:00] WARNING: not removing hydrogen atom without neighbors\n"
          ],
          "name": "stderr"
        },
        {
          "output_type": "execute_result",
          "data": {
            "text/plain": [
              "41127"
            ]
          },
          "metadata": {
            "tags": []
          },
          "execution_count": 27
        }
      ]
    },
    {
      "cell_type": "code",
      "metadata": {
        "colab": {
          "base_uri": "https://localhost:8080/"
        },
        "id": "_UfXforO94V1",
        "outputId": "6b72ae7d-d9c7-4eb6-bdcf-56ab013c30f8"
      },
      "source": [
        "Edge_features=[]\n",
        "no_edge=[]\n",
        "for i in range(HIV_dataset.smiles.size):\n",
        "  try:\n",
        "    Edge_features.append(CanonicalBondFeaturizer(Chem.MolFromSmiles(HIV_dataset.smiles[i]))['e'])\n",
        "  except:\n",
        "    no_edge.append(i)\n",
        "    Edge_features.append('no_edge')"
      ],
      "execution_count": null,
      "outputs": [
        {
          "output_type": "stream",
          "text": [
            "RDKit WARNING: [12:12:17] WARNING: not removing hydrogen atom without neighbors\n",
            "RDKit WARNING: [12:12:17] WARNING: not removing hydrogen atom without neighbors\n"
          ],
          "name": "stderr"
        }
      ]
    },
    {
      "cell_type": "code",
      "metadata": {
        "colab": {
          "base_uri": "https://localhost:8080/"
        },
        "id": "Esp8u7-Q-6ed",
        "outputId": "a0a80f68-68a3-49fa-c5bf-4b6cc3d4dee9"
      },
      "source": [
        "len(no_edge)\n",
        " "
      ],
      "execution_count": null,
      "outputs": [
        {
          "output_type": "execute_result",
          "data": {
            "text/plain": [
              "0"
            ]
          },
          "metadata": {
            "tags": []
          },
          "execution_count": 40
        }
      ]
    },
    {
      "cell_type": "code",
      "metadata": {
        "id": "ZcakXAwjAM1E"
      },
      "source": [
        ""
      ],
      "execution_count": null,
      "outputs": []
    },
    {
      "cell_type": "code",
      "metadata": {
        "id": "VunQgWyB5Ryo"
      },
      "source": [
        "# OH : One Hot\n",
        "# NOH : Not One Hot\n",
        "# AF : Additional Features\n",
        "\n",
        "def atom_is_in_ring_list_one_hot(atom, allowable_set=None, encode_unknown=False):\n",
        "          list = [3,4,5] # List denotes the size of cycles\n",
        "          return [atom.IsInRing()]+[atom.IsInRingSize(i) for i in list]\n",
        "\n",
        "def bond_is_in_ring_list_one_hot(bond, allowable_set=None, encode_unknown=False):\n",
        "          list = [3,4,5] # List denotes the size of cycles\n",
        "          return [bond.IsInRing()]+[bond.IsInRingSize(i) for i in list]\n",
        "\n",
        "# def additional_atom_features_9(atom, allowable_set=None, encode_unknown=False):\n",
        "#           return [\n",
        "#                   element(atom.GetSymbol()).electronegativity(scale='pauling'),\n",
        "#                   element(atom.GetSymbol()).ionenergies[1],\n",
        "#                   element(atom.GetSymbol()).dipole_polarizability,\n",
        "#                   #element(atom.GetSymbol()).ionenergies[2],\n",
        "#                   element(atom.GetSymbol()).covalent_radius_bragg,\n",
        "#                   element(atom.GetSymbol()).heat_of_formation,\n",
        "#                   #element(atom.GetSymbol()).ionic_radius,\n",
        "#                   element(atom.GetSymbol()).atomic_volume,\n",
        "#                   element(atom.GetSymbol()).atomic_radius,\n",
        "#                   element(atom.GetSymbol()).density,\n",
        "#                   element(atom.GetSymbol()).thermal_conductivity,\n",
        "#                   #element(atom.GetSymbol()).vdw_radius_truhlar\n",
        "#                   ]\n",
        "# def additional_atom_features3(atom, allowable_set=None, encode_unknown=False):\n",
        "#           return [\n",
        "#                   element(atom.GetSymbol()).electronegativity(scale='pauling'),\n",
        "#                   element(atom.GetSymbol()).ionenergies[1],\n",
        "#                   element(atom.GetSymbol()).dipole_polarizability,\n",
        "#                   # element(atom.GetSymbol()).covalent_radius_bragg,\n",
        "#                   # element(atom.GetSymbol()).heat_of_formation,\n",
        "#                   # #element(atom.GetSymbol()).ionic_radius,\n",
        "#                   # element(atom.GetSymbol()).atomic_volume,\n",
        "#                   # element(atom.GetSymbol()).atomic_radius,\n",
        "#                   # element(atom.GetSymbol()).density,\n",
        "#                   # element(atom.GetSymbol()).thermal_conductivity,\n",
        "#                   # #element(atom.GetSymbol()).vdw_radius_truhlar\n",
        "#                   ]\n",
        "\n",
        "class CanonicalAtomFeaturizer_without_AF_OH(fs.BaseAtomFeaturizer):\n",
        "    def __init__(self, atom_data_field='h'):\n",
        "        super().__init__(\n",
        "            featurizer_funcs={atom_data_field: fs.ConcatFeaturizer(\n",
        "                [\n",
        "                 fs.atomic_number_one_hot,\n",
        "                 fs.atom_degree_one_hot,\n",
        "                 fs.atom_explicit_valence_one_hot,\n",
        "                 fs.atom_implicit_valence_one_hot,\n",
        "                 fs.atom_hybridization_one_hot,\n",
        "                 fs.atom_formal_charge_one_hot,\n",
        "                 fs.atom_num_radical_electrons_one_hot,\n",
        "                 fs.atom_is_aromatic,\n",
        "                 fs.atom_total_num_H_one_hot, \n",
        "                 fs.atom_is_in_ring,\n",
        "                 fs.atom_chiral_tag_one_hot,\n",
        "                 fs.atom_chirality_type_one_hot, \n",
        "                 fs.atom_mass,\n",
        "                 fs.atom_is_chiral_center,\n",
        "                 atom_is_in_ring_list_one_hot]\n",
        "            )})\n",
        "\n",
        "class DGLDatasetHIV(torch.utils.data.Dataset):\n",
        "\n",
        "    def __init__(self):\n",
        "\n",
        "        HIV_dataset = pd.read_csv('https://deepchemdata.s3-us-west-1.amazonaws.com/datasets/tox21.csv.gz', compression='gzip').fillna(0)\n",
        "        \n",
        "        Edge_features=[]\n",
        "        no_edge=[]\n",
        "        for i in range(Tox21_dataset.smiles.size):\n",
        "          try:\n",
        "            Edge_features.append(CanonicalBondFeaturizer(Chem.MolFromSmiles(Tox21_dataset.smiles[i]))['e'])\n",
        "          except:\n",
        "            no_edge.append(i)\n",
        "            Edge_features.append('no_edge')\n",
        "\n",
        "        Tox21_dataset.drop(no_edge, inplace=True)\n",
        "\n",
        "        for i in range(len(no_edge)):\n",
        "          del Edge_features[no_edge[i]-i]\n",
        "\n",
        "        %cd /content/\n",
        "\n",
        "        if not os.path.exists(\"/content/tox21-global-cdf-rdkit.csv\"):\n",
        "          !unzip '/content/drive/MyDrive/GMLG_Research/Tox_21_Final/TOX21_Node_features_5AF_OH_Yb-solved.zip'\n",
        "          !unzip '/content/drive/MyDrive/GMLG_Research/Tox_21_Final/tox21-global-cdf-rdkit.zip'\n",
        "          #!unzip '/content/drive/MyDrive/GMLG_Research/Tox_21_Final/Node_Features_AF3_NOH.zip'\n",
        "\n",
        "        #global_fetures = torch.Tensor(pd.read_csv('tox21-global-cdf-rdkit.csv').fillna(0).iloc[:,1:].values) # 101 NaN: should be addrressed correctly\n",
        "        gf_df = pd.read_csv('tox21-global-cdf-rdkit.csv')\n",
        "        global_fetures = torch.Tensor(gf_df.fillna(gf_df.mean()).iloc[:,1:].values) # 101 NaN; fill mean\n",
        "\n",
        "        #with open('Node_Features_AF3_NOH.pickle', 'rb') as handle:\n",
        "        with open('TOX21_Node_features_5AF_OH_Yb-solved.pickle', 'rb') as handle:\n",
        "            Node_features = pickle.load(handle)\n",
        "        #Node_features[1910][1][-3] = 1.1 # problem with the atom # # with three additional features\n",
        "        if torch.isnan(Node_features[1910][1][-5]) == True: # # with five additional features\n",
        "          Node_features[1910][1][-5] = 1.1\n",
        "\n",
        "        for i in range(len(no_edge)):\n",
        "          del Node_features[no_edge[i]-i]\n",
        "\n",
        "        for i in range(len(no_edge)):\n",
        "          global_fetures = global_fetures [torch.arange(global_fetures.size (0))!= no_edge[i] - i]\n",
        "\n",
        "        self.dgl_graphs = []\n",
        "        for i in range(len(Node_features)):\n",
        "          mol = Chem.MolFromSmiles(Tox21_dataset.iloc[i,-1])\n",
        "          self.dgl_graphs.append(dgllife.utils.mol_to_bigraph(mol, canonical_atom_order=False))\n",
        "          self.dgl_graphs[i].ndata['h_0'] = Node_features[i]\n",
        "          self.dgl_graphs[i].edata['e_0'] = Edge_features[i]\n",
        "\n",
        "        self.smiles = []\n",
        "        for o in range(len(self.dgl_graphs)):\n",
        "          self.smiles.append(Tox21_dataset.iloc[o,13])\n",
        "          \n",
        "        self.global_fetures = global_fetures\n",
        "        self.labels = Tox21_dataset.iloc[:,:12].values\n",
        "        self.masks = Tox21_dataset.replace({0: 1}).iloc[:,:12].values        \n",
        "        \n",
        "        # # Unzip the dataset and read its csv file, and fill in NaN values with 0\n",
        "        # self.csv = pd.read_csv(csv_url, compression='gzip').fillna(0) \n",
        "\n",
        "        # # Make masks for labels (0 as NaN value, and 1 as other values)\n",
        "        # self.masks_csv = pd.read_csv(csv_url, compression='gzip').replace({0: 1}).fillna(0)\n",
        "\n",
        "        # # Split smiles, labels, and masks columns as lists\n",
        "        # self.smiles = self.csv.iloc[:,13]\n",
        "        # self.labels = self.csv.iloc[:,:12].values\n",
        "        # self.masks = self.masks_csv.iloc[:,:12].values \n",
        "\n",
        "    def __len__(self):\n",
        "        return len(self.dgl_graphs)\n",
        "\n",
        "    def __getitem__(self, idx):\n",
        "        return  self.smiles[idx], self.dgl_graphs[idx], self.global_fetures[idx], torch.Tensor(self.labels[idx]), torch.Tensor(self.masks[idx])"
      ],
      "execution_count": null,
      "outputs": []
    },
    {
      "cell_type": "code",
      "metadata": {
        "colab": {
          "base_uri": "https://localhost:8080/"
        },
        "id": "jeGh-hHvZXL4",
        "outputId": "c8e6b012-548a-4da5-86f8-7cf0b9b9fece"
      },
      "source": [
        "# Data Generation \n",
        "\n",
        "def bond_is_in_ring_list_one_hot(bond, allowable_set=None, encode_unknown=False):\n",
        "          list = [3,4,5] # List denotes the size of cycles\n",
        "          return [bond.IsInRing()]+[bond.IsInRingSize(i) for i in list]\n",
        "\n",
        "class CanonicalBondFeaturizer(fs.BaseBondFeaturizer):\n",
        "       def __init__(self, bond_data_field='e', self_loop=False):\n",
        "        super(CanonicalBondFeaturizer, self).__init__(\n",
        "            featurizer_funcs={bond_data_field: fs.ConcatFeaturizer(\n",
        "                [fs.bond_type_one_hot,\n",
        "                 fs.bond_is_conjugated,\n",
        "                 fs.bond_is_in_ring,\n",
        "                 fs.bond_stereo_one_hot,\n",
        "                 fs.bond_direction_one_hot,\n",
        "                 bond_is_in_ring_list_one_hot\n",
        "                 ]\n",
        "            )}, self_loop=self_loop)\n",
        "        \n",
        "CanonicalBondFeaturizer = CanonicalBondFeaturizer()\n",
        "\n",
        "# Tox21_dataset = pd.read_csv('https://deepchemdata.s3-us-west-1.amazonaws.com/datasets/tox21.csv.gz', compression='gzip').fillna(0)\n",
        "\n",
        "# Edge_features=[]\n",
        "# no_edge=[]\n",
        "# for i in range(Tox21_dataset.smiles.size):\n",
        "#   try:\n",
        "#     Edge_features.append(CanonicalBondFeaturizer(Chem.MolFromSmiles(Tox21_dataset.smiles[i]))['e'])\n",
        "#   except:\n",
        "#     no_edge.append(i)\n",
        "#     Edge_features.append('no_edge')\n",
        "\n",
        "# Tox21_dataset.drop(no_edge, inplace=True)\n",
        "\n",
        "# for i in range(len(no_edge)):\n",
        "#   del Edge_features[no_edge[i]-i]\n",
        "\n",
        "# %cd /content/\n",
        "\n",
        "# if not os.path.exists(\"/content/tox21-global-cdf-rdkit.csv\"):\n",
        "#   !unzip '/content/drive/MyDrive/GMLG_Research/Tox_21_Final/tox21-global-cdf-rdkit.zip'\n",
        "#   !unzip '/content/drive/MyDrive/GMLG_Research/Tox_21_Final/Node_features_AF_NOH.zip'\n",
        "\n",
        "# global_fetures = torch.Tensor(pd.read_csv('tox21-global-cdf-rdkit.csv').iloc[:,1:].values)\n",
        "# with open('Node_features_AF_NOH.pickle', 'rb') as handle:\n",
        "#     Node_features = pickle.load(handle)\n",
        "1., 1., 1., 1., 1., 1., 1., 1., 1., 1., 1., 1.# for i in range(len(no_edge)):\n",
        "#   del Node_features[no_edge[i]-i]\n",
        "\n",
        "# for i in range(len(no_edge)):\n",
        "#   global_fetures = global_fetures [torch.arange(global_fetures.size (0))!= no_edge[i] - i]\n",
        "\n",
        "class DGLDatasetTox(torch.utils.data.Dataset):\n",
        "\n",
        "    def __init__(self):\n",
        "\n",
        "        Tox21_dataset = pd.read_csv('https://deepchemdata.s3-us-west-1.amazonaws.com/datasets/tox21.csv.gz', compression='gzip').fillna(0)\n",
        "        \n",
        "        Edge_features=[]\n",
        "        no_edge=[]\n",
        "        for i in range(Tox21_dataset.smiles.size):\n",
        "          try:\n",
        "            Edge_features.append(CanonicalBondFeaturizer(Chem.MolFromSmiles(Tox21_dataset.smiles[i]))['e'])\n",
        "          except:\n",
        "            no_edge.append(i)\n",
        "            Edge_features.append('no_edge')\n",
        "\n",
        "        Tox21_dataset.drop(no_edge, inplace=True)\n",
        "\n",
        "        for i in range(len(no_edge)):\n",
        "          del Edge_features[no_edge[i]-i]\n",
        "\n",
        "        %cd /content/\n",
        "\n",
        "        if not os.path.exists(\"/content/tox21-global-cdf-rdkit.csv\"):\n",
        "          !unzip '/content/drive/MyDrive/GMLG_Research/Tox_21_Final/TOX21_Node_features_5AF_OH_Yb-solved.zip'\n",
        "          !unzip '/content/drive/MyDrive/GMLG_Research/Tox_21_Final/tox21-global-cdf-rdkit.zip'\n",
        "          #!unzip '/content/drive/MyDrive/GMLG_Research/Tox_21_Final/Node_Features_AF3_NOH.zip'\n",
        "\n",
        "        #global_fetures = torch.Tensor(pd.read_csv('tox21-global-cdf-rdkit.csv').fillna(0).iloc[:,1:].values) # 101 NaN: should be addrressed correctly\n",
        "        gf_df = pd.read_csv('tox21-global-cdf-rdkit.csv')\n",
        "        global_fetures = torch.Tensor(gf_df.fillna(gf_df.mean()).iloc[:,1:].values) # 101 NaN; fill mean\n",
        "\n",
        "        #with open('Node_Features_AF3_NOH.pickle', 'rb') as handle:\n",
        "        with open('TOX21_Node_features_5AF_OH_Yb-solved.pickle', 'rb') as handle:\n",
        "            Node_features = pickle.load(handle)\n",
        "        #Node_features[1910][1][-3] = 1.1 # problem with the atom # # with three additional features\n",
        "        if torch.isnan(Node_features[1910][1][-5]) == True: # # with five additional features\n",
        "          Node_features[1910][1][-5] = 1.1\n",
        "\n",
        "        for i in range(len(no_edge)):\n",
        "          del Node_features[no_edge[i]-i]\n",
        "\n",
        "        for i in range(len(no_edge)):\n",
        "          global_fetures = global_fetures [torch.arange(global_fetures.size (0))!= no_edge[i] - i]\n",
        "\n",
        "        self.dgl_graphs = []\n",
        "        for i in range(len(Node_features)):\n",
        "          mol = Chem.MolFromSmiles(Tox21_dataset.iloc[i,-1])\n",
        "          self.dgl_graphs.append(dgllife.utils.mol_to_bigraph(mol, canonical_atom_order=False))\n",
        "          self.dgl_graphs[i].ndata['h_0'] = Node_features[i]\n",
        "          self.dgl_graphs[i].edata['e_0'] = Edge_features[i]\n",
        "\n",
        "        self.smiles = []\n",
        "        for o in range(len(self.dgl_graphs)):\n",
        "          self.smiles.append(Tox21_dataset.iloc[o,13])\n",
        "          \n",
        "        self.global_fetures = global_fetures\n",
        "        self.labels = Tox21_dataset.iloc[:,:12].values\n",
        "        self.masks = Tox21_dataset.replace({0: 1}).iloc[:,:12].values        \n",
        "        \n",
        "        # # Unzip the dataset and read its csv file, and fill in NaN values with 0\n",
        "        # self.csv = pd.read_csv(csv_url, compression='gzip').fillna(0) \n",
        "\n",
        "        # # Make masks for labels (0 as NaN value, and 1 as other values)\n",
        "        # self.masks_csv = pd.read_csv(csv_url, compression='gzip').replace({0: 1}).fillna(0)\n",
        "\n",
        "        # # Split smiles, labels, and masks columns as lists\n",
        "        # self.smiles = self.csv.iloc[:,13]\n",
        "        # self.labels = self.csv.iloc[:,:12].values\n",
        "        # self.masks = self.masks_csv.iloc[:,:12].values \n",
        "\n",
        "    def __len__(self):\n",
        "        return len(self.dgl_graphs)\n",
        "\n",
        "    def __getitem__(self, idx):\n",
        "        return  self.smiles[idx], self.dgl_graphs[idx], self.global_fetures[idx], torch.Tensor(self.labels[idx]), torch.Tensor(self.masks[idx])\n",
        "        \n",
        "dataset = DGLDatasetTox()\n",
        "\n",
        "# Train, validation, and test set split\n",
        "train_set, val_set, test_set = dgllife.utils.ScaffoldSplitter.train_val_test_split(dataset, frac_val=0.1, frac_test=0.1)\n",
        "#train_set, val_set, test_set = dgllife.utils.RandomSplitter.train_val_test_split(dataset, frac_val=0.1, frac_test=0.1)\n",
        "\n",
        "def collate(batch):\n",
        "    # batch is a list of triples (graphs, labels, masks)\n",
        "    # Concatenate a sequence of graphs\n",
        "    \n",
        "    smiles = [e[0] for e in batch]\n",
        "    \n",
        "    graphs = [e[1] for e in batch]\n",
        "    g = dgl.batch(graphs)\n",
        "\n",
        "    gf = [e[2] for e in batch]\n",
        "    gf = torch.stack(gf, 0)\n",
        "\n",
        "    # Concatenate a sequence of tensors (labels) along a new dimension\n",
        "    labels = [e[3] for e in batch]\n",
        "    labels = torch.stack(labels, 0)\n",
        "\n",
        "    # Concatenate a sequence of tensors (masks) along a new dimension\n",
        "    masks = [e[4] for e in batch]\n",
        "    masks = torch.stack(masks, 0)\n",
        "\n",
        "    return smiles, g, gf, labels, masks\n",
        "\n",
        "def loader(batch_size=64):\n",
        "\n",
        "    train_dataloader = DataLoader(train_set,\n",
        "                              batch_size=batch_size,\n",
        "                              collate_fn=collate,\n",
        "                              drop_last=False,\n",
        "                              shuffle=True)\n",
        "\n",
        "    val_dataloader =  DataLoader(val_set,\n",
        "                             batch_size=batch_size,\n",
        "                             collate_fn=collate,\n",
        "                             drop_last=False,\n",
        "                             shuffle=False)\n",
        "\n",
        "    test_dataloader = DataLoader(test_set,\n",
        "                             batch_size=batch_size,\n",
        "                             collate_fn=collate,\n",
        "                             drop_last=False,\n",
        "                             shuffle=False)\n",
        "    \n",
        "    return train_dataloader, val_dataloader, test_dataloader\n",
        "\n",
        "# borrowed form: https://stackoverflow.com/a/62508086\n",
        "from prettytable import PrettyTable\n",
        "\n",
        "def count_parameters(model):\n",
        "    table = PrettyTable([\"Modules\", \"Parameters\"])\n",
        "    total_params = 0\n",
        "    for name, parameter in model.named_parameters():\n",
        "        if not parameter.requires_grad: continue\n",
        "        param = parameter.numel()\n",
        "        table.add_row([name, param])\n",
        "        total_params+=param\n",
        "    print(table)\n",
        "    print(f\"Total Trainable Params: {total_params}\")\n",
        "    return total_params\n",
        "    \n",
        "#count_parameters(model)\n",
        "\n",
        "class EarlyStopping:\n",
        "    \"\"\"Early stops the training if validation loss doesn't improve after a given patience.\"\"\"\n",
        "    def __init__(self, patience=7, verbose=False, delta=0, path='checkpoint.pt', trace_func=print):\n",
        "        \"\"\"\n",
        "        Args:\n",
        "            patience (int): How long to wait after last time validation loss improved.\n",
        "                            Default: 7\n",
        "            verbose (bool): If True, prints a message for each validation loss improvement. \n",
        "                            Default: False\n",
        "            delta (float): Minimum change in the monitored quantity to qualify as an improvement.\n",
        "                            Default: 0\n",
        "            path (str): Path for the checkpoint to be saved to.\n",
        "                            Default: 'checkpoint.pt'\n",
        "            trace_func (function): trace print function.\n",
        "                            Default: print            \n",
        "        \"\"\"\n",
        "        self.patience = patience\n",
        "        self.verbose = verbose\n",
        "        self.counter = 0\n",
        "        self.best_score = None\n",
        "        self.early_stop = False\n",
        "        self.val_loss_min = np.Inf\n",
        "        self.delta = delta\n",
        "        self.path = path\n",
        "        self.trace_func = trace_func\n",
        "\n",
        "    def __call__(self, val_loss, model):\n",
        "\n",
        "        score = -val_loss\n",
        "\n",
        "        if self.best_score is None:\n",
        "            self.best_score = score\n",
        "            self.save_checkpoint(val_loss, model)\n",
        "        elif score < self.best_score + self.delta:\n",
        "            self.counter += 1\n",
        "            self.trace_func(f'EarlyStopping counter: {self.counter} out of {self.patience}')\n",
        "            if self.counter >= self.patience:\n",
        "                self.early_stop = True\n",
        "        else:\n",
        "            self.best_score = score\n",
        "            self.save_checkpoint(val_loss, model)\n",
        "            self.counter = 0\n",
        "\n",
        "    def save_checkpoint(self, val_loss, model):\n",
        "        '''Saves model when validation loss decrease.'''\n",
        "        if self.verbose:\n",
        "            self.trace_func(f'Validation loss decreased ({self.val_loss_min:.6f} --> {val_loss:.6f}).  Saving model ...')\n",
        "        torch.save(model.state_dict(), self.path)\n",
        "        self.val_loss_min = val_loss\n",
        "\n",
        "def my_loss(output, label, mask=None):\n",
        "    criterion = nn.BCELoss(reduction='none')\n",
        "    if mask == None:\n",
        "        loss = torch.sum(torch.mean(criterion(output,label), axis=1))\n",
        "    else: \n",
        "        loss = torch.sum(torch.mean(mask*criterion(output,label), axis=1))\n",
        "    return loss \n",
        "\n",
        "def train_model(model, batch_size, optimizer, patience=10, n_epochs=1):\n",
        "    #metric=AUROC()\n",
        "    metric = roc_auc_score\n",
        "    train_dataloader, val_dataloader, test_dataloader  = loader(batch_size)\n",
        "    train_losses = []\n",
        "    val_losses = []\n",
        "    test_aucs = []\n",
        "    early_stopping = EarlyStopping(patience=patience, verbose=True) # initialize the early_stopping object\n",
        "    start_time = time.time()\n",
        "    #optimizer = torch.optim.Adam(model.parameters(), lr=0.001)\n",
        "\n",
        "    for epoch in range(1, n_epochs+1):\n",
        "        epoch_train_loss = 0\n",
        "        epoch_val_loss = 0\n",
        "        \n",
        "        model.train() #Prepare model for training\n",
        "        for i, (_, mol_dgl_graph, fg, labels, masks) in enumerate(train_dataloader):\n",
        "            mol_dgl_graph=mol_dgl_graph.to(device)\n",
        "            labels=labels.to(device)\n",
        "            masks=masks.to(device)\n",
        "            fg=fg.to(device)\n",
        "            prediction = model(mol_dgl_graph, fg)\n",
        "            loss_train = my_loss(prediction, labels, masks)\n",
        "            optimizer.zero_grad()\n",
        "            loss_train.backward()\n",
        "            optimizer.step()\n",
        "            epoch_train_loss += loss_train.detach().item()\n",
        "        epoch_train_loss /= (len(train_set))\n",
        "        train_losses.append(epoch_train_loss)\n",
        "\n",
        "        model.eval() #Prepare model for evaluation\n",
        "        for i, (_, mol_dgl_graph, fg, labels, masks) in enumerate(val_dataloader):\n",
        "              mol_dgl_graph=mol_dgl_graph.to(device)\n",
        "              labels=labels.to(device)\n",
        "              masks=masks.to(device)\n",
        "              fg=fg.to(device)\n",
        "              prediction = model(mol_dgl_graph, fg)\n",
        "              loss_val = my_loss(prediction, labels, masks)\n",
        "              epoch_val_loss += loss_val.detach().item()\n",
        "        epoch_val_loss /= (len(val_set))\n",
        "        \n",
        "        with torch.no_grad():\n",
        "          iter = 0\n",
        "          prediction_all= torch.empty(0, device=device)\n",
        "          labels_all= torch.empty(0, device=device)\n",
        "          masks_all= torch.empty(0, device=device)\n",
        "          for i, (_, mol_dgl_graph, fg, labels, masks) in enumerate(test_dataloader):\n",
        "              mol_dgl_graph=mol_dgl_graph.to(device)\n",
        "              labels=labels.to(device)\n",
        "              masks=masks.to(device)\n",
        "              fg=fg.to(device)\n",
        "              prediction = model(mol_dgl_graph, fg)\n",
        "              prediction_all = torch.cat((prediction_all, prediction), 0)\n",
        "              labels_all = torch.cat((labels_all, labels), 0)\n",
        "              masks_all = torch.cat((masks_all, labels), 0)\n",
        "          average = torch.tensor([0.], device=device)\n",
        "          for i in range(12):\n",
        "            #average += metric(prediction_all[:, i].view(-1), labels_all[:, i].view(-1).int()) with pytorch-lightening\n",
        "            average += metric(labels_all[:, i].view(-1).int().to('cpu'), prediction_all[:, i].view(-1).to('cpu'))\n",
        "          test_auc = average.item()/12\n",
        "               \n",
        "        epoch_len = len(str(n_epochs))\n",
        "        clear_output()\n",
        "        print(f'[{epoch:>{epoch_len}}/{n_epochs:>{epoch_len}}] ' +\n",
        "                     f'Train_Loss: {epoch_train_loss:.5f} ' +\n",
        "                     f'Valid_Loss: {epoch_val_loss:.5f} ' + \n",
        "                     f'Test_AUC: {test_auc:.5f}'          \n",
        "                     )\n",
        "        '''\n",
        "        early_stopping needs the validation loss to check if it has decreased, \n",
        "        and if it has, it will make a checkpoint of the current model\n",
        "        '''\n",
        "        early_stopping(epoch_val_loss, model)\n",
        "        val_losses.append(epoch_val_loss)\n",
        "        test_aucs.append(test_auc)\n",
        "        if early_stopping.early_stop:\n",
        "            print(\"Early Stopping\")\n",
        "            break\n",
        "\n",
        "    print('\\n Training Time was', time.time()-start_time, 'seconds in', device)\n",
        "    model.load_state_dict(torch.load('checkpoint.pt')) #loading the last checkpoint with the best model\n",
        "\n",
        "    print('\\n')\n",
        "    fig, axes = plt.subplots(nrows=1, ncols=2, figsize=(14, 5))\n",
        "    # Draw lines\n",
        "    axes[0].plot(range(len(train_losses)), train_losses, '--', color=\"red\",  label=\"Train loss\")\n",
        "    axes[0].plot(range(len(val_losses)), val_losses, color=\"green\", label=\"Validation loss\")\n",
        "    # Create plot\n",
        "    axes[0].set_title(\"Learning Curve\")\n",
        "    axes[0].set_xlabel(\"Epoch\"), axes[0].set_ylabel(\"Cross entropy loss\"), axes[0].legend(loc=\"best\")\n",
        "    # Draw lines\n",
        "    axes[1].plot(range(len(test_aucs)), test_aucs, color=\"green\", label=\"TEST AUC\")\n",
        "    # Create plot\n",
        "    axes[1].set_title(\"TEST AUC During Training\")\n",
        "    axes[1].set_xlabel(\"Epoch\"), axes[1].set_ylabel(\"TEST AUC\"), axes[1].legend(loc=\"best\")\n",
        "    plt.show()\n",
        " \n",
        "    with torch.no_grad():\n",
        "        iter = 0\n",
        "        prediction_all= torch.empty(0, device=device)\n",
        "        labels_all= torch.empty(0, device=device)\n",
        "        masks_all= torch.empty(0, device=device)\n",
        "        for i, (_, mol_dgl_graph, fg, labels, masks) in enumerate(test_dataloader):\n",
        "            mol_dgl_graph=mol_dgl_graph.to(device)\n",
        "            labels=labels.to(device)\n",
        "            masks=masks.to(device)\n",
        "            fg=fg.to(device)\n",
        "            prediction = model(mol_dgl_graph, fg)\n",
        "            prediction_all = torch.cat((prediction_all, prediction), 0)\n",
        "            labels_all = torch.cat((labels_all, labels), 0)\n",
        "            masks_all = torch.cat((masks_all, labels), 0)\n",
        "        average = torch.tensor([0.], device=device)\n",
        "        for i in range(12):\n",
        "          #average += metric(prediction_all[:, i].view(-1), labels_all[:, i].view(-1).int()) with pytorch-lightening\n",
        "          average += metric(labels_all[:, i].view(-1).int().to('cpu'), prediction_all[:, i].view(-1).to('cpu')) \n",
        "    print('\\n Test AUC is', average.item()/12)\n",
        "\n",
        "    return  model, train_losses, val_losses, test_aucs "
      ],
      "execution_count": null,
      "outputs": [
        {
          "output_type": "stream",
          "text": [
            "RDKit WARNING: [08:19:21] WARNING: not removing hydrogen atom without neighbors\n"
          ],
          "name": "stderr"
        },
        {
          "output_type": "stream",
          "text": [
            "/content\n",
            "Archive:  /content/drive/MyDrive/GMLG_Research/Tox_21_Final/TOX21_Node_features_5AF_OH_Yb-solved.zip\n",
            "  inflating: TOX21_Node_features_5AF_OH_Yb-solved.pickle  \n",
            "Archive:  /content/drive/MyDrive/GMLG_Research/Tox_21_Final/tox21-global-cdf-rdkit.zip\n",
            "  inflating: tox21-global-cdf-rdkit.csv  \n"
          ],
          "name": "stdout"
        },
        {
          "output_type": "stream",
          "text": [
            "RDKit WARNING: [08:19:28] WARNING: not removing hydrogen atom without neighbors\n"
          ],
          "name": "stderr"
        },
        {
          "output_type": "stream",
          "text": [
            "Start initializing RDKit molecule instances...\n",
            "Creating RDKit molecule instance 1000/7812\n",
            "Creating RDKit molecule instance 2000/7812\n"
          ],
          "name": "stdout"
        },
        {
          "output_type": "stream",
          "text": [
            "RDKit WARNING: [08:19:36] WARNING: not removing hydrogen atom without neighbors\n"
          ],
          "name": "stderr"
        },
        {
          "output_type": "stream",
          "text": [
            "Creating RDKit molecule instance 3000/7812\n",
            "Creating RDKit molecule instance 4000/7812\n",
            "Creating RDKit molecule instance 5000/7812\n",
            "Creating RDKit molecule instance 6000/7812\n",
            "Creating RDKit molecule instance 7000/7812\n",
            "Start computing Bemis-Murcko scaffolds.\n",
            "Computing Bemis-Murcko for compound 1000/7812\n",
            "Computing Bemis-Murcko for compound 2000/7812\n",
            "Computing Bemis-Murcko for compound 3000/7812\n",
            "Computing Bemis-Murcko for compound 4000/7812\n",
            "Computing Bemis-Murcko for compound 5000/7812\n",
            "Computing Bemis-Murcko for compound 6000/7812\n",
            "Computing Bemis-Murcko for compound 7000/7812\n"
          ],
          "name": "stdout"
        }
      ]
    }
  ]
}