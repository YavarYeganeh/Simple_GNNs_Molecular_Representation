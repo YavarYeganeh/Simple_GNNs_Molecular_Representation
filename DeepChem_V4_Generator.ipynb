{
  "cells": [
    {
      "cell_type": "markdown",
      "metadata": {
        "id": "kTIFOuELb9lS"
      },
      "source": [
        "# DeepChem datasets and splitting\n",
        "\n",
        "# RandomSplitting, ScaffoldSplitting, and RandomScaffoldSplitting\n"
      ]
    },
    {
      "cell_type": "code",
      "execution_count": null,
      "metadata": {
        "id": "H4RvMyf5oTMd"
      },
      "outputs": [],
      "source": [
        "# %tensorflow_version 1.x\n",
        "# !wget -c https://repo.anaconda.com/miniconda/Miniconda3-latest-Linux-x86_64.sh\n",
        "# !chmod +x Miniconda3-latest-Linux-x86_64.sh\n",
        "# !bash ./Miniconda3-latest-Linux-x86_64.sh -b -f -p /usr/local\n",
        "# !conda install -y -c deepchem -c rdkit -c conda-forge -c omnia deepchem-gpu=2.3.0\n",
        "# import sys\n",
        "# sys.path.append('/usr/local/lib/python3.7/site-packages/')"
      ]
    },
    {
      "cell_type": "code",
      "execution_count": null,
      "metadata": {
        "id": "aSJ1v8BLp2K8"
      },
      "outputs": [],
      "source": [
        "%%capture\n",
        "!pip install kora\n",
        "!pip install dgl\n",
        "!pip install dgl-cu101\n",
        "!pip install --pre dgl-cu101\n",
        "!pip install dgllife\n",
        "!pip install tensorflow~=2.4\n",
        "!pip install deepchem\n",
        "import os\n",
        "import numpy as np\n",
        "import tensorflow as tf\n",
        "import kora.install.rdkit\n",
        "import rdkit\n",
        "import deepchem as dc"
      ]
    },
    {
      "cell_type": "code",
      "execution_count": null,
      "metadata": {
        "colab": {
          "base_uri": "https://localhost:8080/"
        },
        "id": "t4ib3jd3oYg0",
        "outputId": "181fc635-f3f0-4a6e-bbff-450ebf3194ab"
      },
      "outputs": [
        {
          "name": "stdout",
          "output_type": "stream",
          "text": [
            "Mounted at /content/drive\n"
          ]
        }
      ],
      "source": [
        "from google.colab import drive\n",
        "drive.mount('/content/drive')"
      ]
    },
    {
      "cell_type": "code",
      "execution_count": null,
      "metadata": {
        "colab": {
          "base_uri": "https://localhost:8080/",
          "height": 35
        },
        "id": "Nu-_ZB9HrU42",
        "outputId": "6ebd82f5-f92e-43f2-c685-758c1f835ec6"
      },
      "outputs": [
        {
          "data": {
            "application/vnd.google.colaboratory.intrinsic+json": {
              "type": "string"
            },
            "text/plain": [
              "'/content/drive/MyDrive/GMLG_Research/Data/DeepChem_RandomScaffoldSplit/'"
            ]
          },
          "execution_count": 3,
          "metadata": {
            "tags": []
          },
          "output_type": "execute_result"
        }
      ],
      "source": [
        "os.environ['DEEPCHEM_DATA_DIR'] = '/content/drive/MyDrive/GMLG_Research/Data/DeepChem_RandomScaffoldSplit/'\n",
        "dc.utils.get_data_dir()"
      ]
    },
    {
      "cell_type": "markdown",
      "metadata": {
        "id": "p6nySuiFawFx"
      },
      "source": [
        "## RandomSplitting"
      ]
    },
    {
      "cell_type": "code",
      "execution_count": null,
      "metadata": {
        "id": "uMRfWYHqp3nC"
      },
      "outputs": [],
      "source": [
        "def seed_set(seed=1):\n",
        "    np.random.seed(seed)\n",
        "    tf.random.set_seed(seed)"
      ]
    },
    {
      "cell_type": "code",
      "execution_count": null,
      "metadata": {
        "id": "g5kC1Ubcp8QI"
      },
      "outputs": [],
      "source": [
        "# seed_set(213)\n",
        "# tasks2, datasets2, transformers2 = dc.molnet.load_tox21(splitter=dc.splits.RandomSplitter(), reload=False)"
      ]
    },
    {
      "cell_type": "code",
      "execution_count": null,
      "metadata": {
        "id": "NAPhw5WB5Bxq"
      },
      "outputs": [],
      "source": [
        "# datasets2[0].ids"
      ]
    },
    {
      "cell_type": "markdown",
      "metadata": {
        "id": "4sva1Prka3dx"
      },
      "source": [
        "## Vanila Scaffold Splitting"
      ]
    },
    {
      "cell_type": "code",
      "execution_count": null,
      "metadata": {
        "id": "c8jOJSCQroZ0"
      },
      "outputs": [],
      "source": [
        "# tasks, datasets, transformers = dc.molnet.load_tox21(splitter=\"scaffold\")"
      ]
    },
    {
      "cell_type": "code",
      "execution_count": null,
      "metadata": {
        "id": "wGuyNswjrwWd"
      },
      "outputs": [],
      "source": [
        "# os.listdir('/content/drive/MyDrive/Colab Notebooks/GNN/Data/DeepChem')"
      ]
    },
    {
      "cell_type": "code",
      "execution_count": null,
      "metadata": {
        "id": "_oyqo_N4vTWy"
      },
      "outputs": [],
      "source": [
        "# datasets[0].ids"
      ]
    },
    {
      "cell_type": "markdown",
      "metadata": {
        "id": "KSdxuz_Ya_1J"
      },
      "source": [
        "## Random Scaffold Splitting"
      ]
    },
    {
      "cell_type": "code",
      "execution_count": null,
      "metadata": {
        "id": "l9DkBpg1sT0h"
      },
      "outputs": [],
      "source": [
        "# import inspect\n",
        "import os\n",
        "from random import Random\n",
        "import random\n",
        "import tempfile\n",
        "import itertools\n",
        "import logging\n",
        "import shutil\n",
        "from typing import Any, Dict, List, Iterator, Optional, Sequence, Tuple\n",
        "\n",
        "import numpy as np\n",
        "import pandas as pd\n",
        "\n",
        "import deepchem as dc\n",
        "from deepchem.data import Dataset, DiskDataset\n",
        "from deepchem.utils import get_print_threshold\n",
        "\n",
        "from deepchem.splits import Splitter\n",
        "\n",
        "logger = logging.getLogger(__name__)"
      ]
    },
    {
      "cell_type": "code",
      "execution_count": null,
      "metadata": {
        "id": "VknJBIkx2ZgX"
      },
      "outputs": [],
      "source": [
        "class RandomScaffoldSplitter(Splitter):\n",
        "  \"\"\"Class for doing data splits based on the scaffold of small molecules.\n",
        "  Note\n",
        "  ----\n",
        "  This class requires RDKit to be installed.\n",
        "  \"\"\"\n",
        "  def __init__(self, seed=0):\n",
        "            self.seed = seed\n",
        "\n",
        "  def split(self,\n",
        "            dataset: Dataset,\n",
        "            frac_train: float = 0.8,\n",
        "            frac_valid: float = 0.1,\n",
        "            frac_test: float = 0.1,\n",
        "            seed: Optional[int] = 213,\n",
        "            log_every_n: Optional[int] = 1000\n",
        "           ) -> Tuple[List[int], List[int], List[int]]:\n",
        "    \"\"\"\n",
        "    Splits internal compounds into train/validation/test by scaffold.\n",
        "    Parameters\n",
        "    ----------\n",
        "    dataset: Dataset\n",
        "      Dataset to be split.\n",
        "    frac_train: float, optional (default 0.8)\n",
        "      The fraction of data to be used for the training split.\n",
        "    frac_valid: float, optional (default 0.1)\n",
        "      The fraction of data to be used for the validation split.\n",
        "    frac_test: float, optional (default 0.1)\n",
        "      The fraction of data to be used for the test split.\n",
        "    seed: int, optional (default None)\n",
        "      Random seed to use.\n",
        "    log_every_n: int, optional (default 1000)\n",
        "      Controls the logger by dictating how often logger outputs\n",
        "      will be produced.\n",
        "    Returns\n",
        "    -------\n",
        "    Tuple[List[int], List[int], List[int]]\n",
        "      A tuple of train indices, valid indices, and test indices.\n",
        "      Each indices is a list of integers.\n",
        "    \"\"\"\n",
        "\n",
        "    seed = self.seed\n",
        "    print(\"Random seed in this scaffold splitting is: \", seed)\n",
        "    \n",
        "    np.testing.assert_almost_equal(frac_train + frac_valid + frac_test, 1.)\n",
        "\n",
        "    train_size = frac_train * len(dataset)\n",
        "    valid_size = frac_valid * len(dataset)\n",
        "    test_size = frac_test * len(dataset)\n",
        "    train_inds: List[int] = []\n",
        "    valid_inds: List[int] = []\n",
        "    test_inds: List[int] = []\n",
        "    # train_scaffold_count, val_scaffold_count, test_scaffold_count = 0, 0, 0\n",
        "\n",
        "    scaffold_sets = self.generate_scaffolds(dataset)\n",
        "\n",
        "    # Seed randomness\n",
        "    random = Random(seed)\n",
        "\n",
        "    logger.info(\"About to sort in scaffold sets\")\n",
        "\n",
        "    # Put stuff that's bigger than half the val/test size into train, rest just order randomly\n",
        "    big_index_sets = []\n",
        "    small_index_sets = []\n",
        "    for index_set in scaffold_sets:\n",
        "        if len(index_set) > valid_size / 2 or len(index_set) > test_size / 2:\n",
        "            big_index_sets.append(index_set)\n",
        "        else:\n",
        "            small_index_sets.append(index_set)\n",
        "    random.seed(seed)\n",
        "    random.shuffle(big_index_sets)\n",
        "    random.shuffle(small_index_sets)\n",
        "    scaffold_sets = big_index_sets + small_index_sets\n",
        "\n",
        "    # scaffold_sets2 = scaffold_sets[:]\n",
        "    # for scaffold_set in scaffold_sets:\n",
        "    #   if len(scaffold_set) > 0.5 * frac_test * len(dataset):\n",
        "    #       train_inds += scaffold_set\n",
        "    #       scaffold_sets2.remove(scaffold_set)\n",
        "\n",
        "    # if seed is not None:\n",
        "    #   np.random.seed(seed)\n",
        "      \n",
        "    # seed=518\n",
        "    # rng = np.random.RandomState(seed)\n",
        "    # scaffold_sets = rng.permutation(scaffold_sets2)\n",
        "\n",
        "    for index_set in scaffold_sets:\n",
        "        if len(train_inds) + len(index_set) <= train_size:\n",
        "            train_inds += index_set\n",
        "            # train_scaffold_count += 1\n",
        "        elif len(valid_inds) + len(index_set) <= valid_size:\n",
        "            valid_inds += index_set\n",
        "            # val_scaffold_count += 1\n",
        "        else:\n",
        "            test_inds += index_set\n",
        "            # test_scaffold_count += 1\n",
        "    # for scaffold_set in scaffold_sets:\n",
        "    #     if len(train_inds) + len(scaffold_set) > train_cutoff:\n",
        "    #         if len(train_inds) + len(valid_inds) + len(scaffold_set) > valid_cutoff:\n",
        "    #           test_inds += scaffold_set\n",
        "    #         else:\n",
        "    #           valid_inds += scaffold_set\n",
        "    #     else:\n",
        "    #         train_inds += scaffold_set\n",
        "    return train_inds, valid_inds, test_inds\n",
        "\n",
        "  def generate_scaffolds(self, dataset: Dataset,\n",
        "                         log_every_n: int = 1000) -> List[List[int]]:\n",
        "    \"\"\"Returns all scaffolds from the dataset.\n",
        "    Parameters\n",
        "    ----------\n",
        "    dataset: Dataset\n",
        "      Dataset to be split.\n",
        "    log_every_n: int, optional (default 1000)\n",
        "      Controls the logger by dictating how often logger outputs\n",
        "      will be produced.\n",
        "    Returns\n",
        "    -------\n",
        "    scaffold_sets: List[List[int]]\n",
        "      List of indices of each scaffold in the dataset.\n",
        "    \"\"\"\n",
        "    scaffolds = {}\n",
        "    data_len = len(dataset)\n",
        "\n",
        "    logger.info(\"About to generate scaffolds\")\n",
        "    for ind, smiles in enumerate(dataset.ids):\n",
        "      if ind % log_every_n == 0:\n",
        "        logger.info(\"Generating scaffold %d/%d\" % (ind, data_len))\n",
        "      scaffold = _generate_scaffold(smiles)\n",
        "      if scaffold not in scaffolds:\n",
        "        scaffolds[scaffold] = [ind]\n",
        "      else:\n",
        "        scaffolds[scaffold].append(ind)\n",
        "\n",
        "    # Sort from largest to smallest scaffold sets\n",
        "    scaffolds = {key: sorted(value) for key, value in scaffolds.items()}\n",
        "    scaffold_sets = [\n",
        "        scaffold_set for (scaffold, scaffold_set) in sorted(\n",
        "            scaffolds.items(), key=lambda x: (len(x[1]), x[1][0]), reverse=True)\n",
        "    ]\n",
        "    return scaffold_sets\n",
        "\n",
        "def _generate_scaffold(smiles: str, include_chirality: bool = False) -> str:\n",
        "  \"\"\"Compute the Bemis-Murcko scaffold for a SMILES string.\n",
        "  Bemis-Murcko scaffolds are described in DOI: 10.1021/jm9602928.\n",
        "  They are essentially that part of the molecule consisting of\n",
        "  rings and the linker atoms between them.\n",
        "  Paramters\n",
        "  ---------\n",
        "  smiles: str\n",
        "    SMILES\n",
        "  include_chirality: bool, default False\n",
        "    Whether to include chirality in scaffolds or not.\n",
        "  Returns\n",
        "  -------\n",
        "  str\n",
        "    The MurckScaffold SMILES from the original SMILES\n",
        "  References\n",
        "  ----------\n",
        "  .. [1] Bemis, Guy W., and Mark A. Murcko. \"The properties of known drugs.\n",
        "     1. Molecular frameworks.\" Journal of medicinal chemistry 39.15 (1996): 2887-2893.\n",
        "  Note\n",
        "  ----\n",
        "  This function requires RDKit to be installed.\n",
        "  \"\"\"\n",
        "  try:\n",
        "    from rdkit import Chem\n",
        "    from rdkit.Chem.Scaffolds.MurckoScaffold import MurckoScaffoldSmiles\n",
        "  except ModuleNotFoundError:\n",
        "    raise ImportError(\"This function requires RDKit to be installed.\")\n",
        "\n",
        "  mol = Chem.MolFromSmiles(smiles)\n",
        "  scaffold = MurckoScaffoldSmiles(mol=mol, includeChirality=include_chirality)\n",
        "  return scaffold"
      ]
    },
    {
      "cell_type": "code",
      "execution_count": null,
      "metadata": {
        "id": "kBMvOLSD6ftV"
      },
      "outputs": [],
      "source": [
        "def copy_fn_seeded_all(seed,data):\n",
        "    a=os.path.join(save_dir, str(data)+ '-featurized/CircularFingerprint_size_1024/RandomScaffoldSplitter_seed_' + str(seed), 'BalancingTransformer/train_dir/shard-0-ids.npy')\n",
        "    b=os.path.join(save_dir,'train_smiles')\n",
        "    shutil.copy(a, b)\n",
        "\n",
        "    a=os.path.join(save_dir, str(data)+ '-featurized/CircularFingerprint_size_1024/RandomScaffoldSplitter_seed_' + str(seed), 'BalancingTransformer/valid_dir/shard-0-ids.npy')\n",
        "    b=os.path.join(save_dir,'val_smiles')\n",
        "    shutil.copy(a, b)\n",
        "\n",
        "    a=os.path.join(save_dir, str(data)+ '-featurized/CircularFingerprint_size_1024/RandomScaffoldSplitter_seed_' + str(seed), 'BalancingTransformer/test_dir/shard-0-ids.npy')\n",
        "    b=os.path.join(save_dir,'test_smiles')\n",
        "    shutil.copy(a, b)"
      ]
    },
    {
      "cell_type": "code",
      "execution_count": null,
      "metadata": {
        "id": "GaPaJjD-ojna"
      },
      "outputs": [],
      "source": [
        "def copy_fn_seeded(seed):\n",
        "    a=os.path.join(save_dir,'tox21-featurized/CircularFingerprint_size_1024/RandomScaffoldSplitter_seed_' + str(seed), 'BalancingTransformer/train_dir/shard-0-ids.npy')\n",
        "    b=os.path.join(save_dir,'train_smiles')\n",
        "    shutil.copy(a, b)\n",
        "\n",
        "    a=os.path.join(save_dir,'tox21-featurized/CircularFingerprint_size_1024/RandomScaffoldSplitter_seed_' + str(seed), 'BalancingTransformer/valid_dir/shard-0-ids.npy')\n",
        "    b=os.path.join(save_dir,'val_smiles')\n",
        "    shutil.copy(a, b)\n",
        "\n",
        "    a=os.path.join(save_dir,'tox21-featurized/CircularFingerprint_size_1024/RandomScaffoldSplitter_seed_' + str(seed), 'BalancingTransformer/test_dir/shard-0-ids.npy')\n",
        "    b=os.path.join(save_dir,'test_smiles')\n",
        "    shutil.copy(a, b)"
      ]
    },
    {
      "cell_type": "code",
      "execution_count": null,
      "metadata": {
        "id": "rsQ8Y9g70KvX"
      },
      "outputs": [],
      "source": [
        "def copy_fn():\n",
        "    a=os.path.join(save_dir,'tox21-featurized/CircularFingerprint_size_1024/RandomScaffoldSplitter/BalancingTransformer/train_dir/shard-0-ids.npy')\n",
        "    b=os.path.join(save_dir,'train_smiles')\n",
        "    shutil.copy(a, b)\n",
        "\n",
        "    a=os.path.join(save_dir,'tox21-featurized/CircularFingerprint_size_1024/RandomScaffoldSplitter/BalancingTransformer/valid_dir/shard-0-ids.npy')\n",
        "    b=os.path.join(save_dir,'val_smiles')\n",
        "    shutil.copy(a, b)\n",
        "\n",
        "    a=os.path.join(save_dir,'tox21-featurized/CircularFingerprint_size_1024/RandomScaffoldSplitter/BalancingTransformer/test_dir/shard-0-ids.npy')\n",
        "    b=os.path.join(save_dir,'test_smiles')\n",
        "    shutil.copy(a, b)"
      ]
    },
    {
      "cell_type": "code",
      "execution_count": null,
      "metadata": {
        "id": "2QHpV379MFwt"
      },
      "outputs": [],
      "source": [
        "#seed = 213\n",
        "#seed= 1372\n",
        "seed=50\n",
        "save_dir = os.path.join(dc.utils.get_data_dir(), \"Tox21_seed_\" + str(seed))\n",
        "tasks, datasets, transformers = dc.molnet.load_tox21(splitter=RandomScaffoldSplitter(seed=seed), save_dir=save_dir)\n",
        "copy_fn_seeded(seed)\n",
        "ds50 = datasets[0].ids"
      ]
    },
    {
      "cell_type": "code",
      "execution_count": null,
      "metadata": {
        "id": "2yD_oNka1VA3"
      },
      "outputs": [],
      "source": [
        "#seed = 213\n",
        "seed= 1372\n",
        "#seed=50\n",
        "save_dir = os.path.join(dc.utils.get_data_dir(), \"Tox21_seed_\" + str(seed))\n",
        "tasks, datasets, transformers = dc.molnet.load_tox21(splitter=RandomScaffoldSplitter(seed=seed), save_dir=save_dir)\n",
        "copy_fn_seeded(seed)\n",
        "ds1372 = datasets[0].ids"
      ]
    },
    {
      "cell_type": "code",
      "execution_count": null,
      "metadata": {
        "id": "5w2as3511kxi"
      },
      "outputs": [],
      "source": [
        "seed = 213\n",
        "#seed= 1372\n",
        "#seed=50\n",
        "save_dir = os.path.join(dc.utils.get_data_dir(), \"Tox21_seed_\" + str(seed))\n",
        "tasks, datasets, transformers = dc.molnet.load_tox21(splitter=RandomScaffoldSplitter(seed=seed), save_dir=save_dir)\n",
        "copy_fn_seeded(seed)\n",
        "ds213 = datasets[0].ids"
      ]
    },
    {
      "cell_type": "code",
      "execution_count": null,
      "metadata": {
        "colab": {
          "base_uri": "https://localhost:8080/"
        },
        "id": "yqAeyRk54lg-",
        "outputId": "647ae018-c4a4-4cb2-ecf4-796c56a856da"
      },
      "outputs": [
        {
          "data": {
            "text/plain": [
              "False"
            ]
          },
          "execution_count": 71,
          "metadata": {
            "tags": []
          },
          "output_type": "execute_result"
        }
      ],
      "source": [
        "np.array_equal(ds1372,ds213)"
      ]
    },
    {
      "cell_type": "code",
      "execution_count": null,
      "metadata": {
        "colab": {
          "base_uri": "https://localhost:8080/"
        },
        "id": "2lCUUbRA3WZO",
        "outputId": "df0d83cc-1124-456e-c827-c737aae56caf"
      },
      "outputs": [
        {
          "data": {
            "text/plain": [
              "False"
            ]
          },
          "execution_count": 72,
          "metadata": {
            "tags": []
          },
          "output_type": "execute_result"
        }
      ],
      "source": [
        "np.array_equal(ds1372,ds50)"
      ]
    },
    {
      "cell_type": "code",
      "execution_count": null,
      "metadata": {
        "colab": {
          "base_uri": "https://localhost:8080/"
        },
        "id": "uebc8GcF3bkb",
        "outputId": "9029ba70-1bcc-489a-dab4-570b36e373af"
      },
      "outputs": [
        {
          "data": {
            "text/plain": [
              "False"
            ]
          },
          "execution_count": 73,
          "metadata": {
            "tags": []
          },
          "output_type": "execute_result"
        }
      ],
      "source": [
        "np.array_equal(ds213,ds50)"
      ]
    },
    {
      "cell_type": "markdown",
      "metadata": {
        "id": "4ytEdqH_5Fj9"
      },
      "source": [
        "## Generating BBBP"
      ]
    },
    {
      "cell_type": "code",
      "execution_count": null,
      "metadata": {
        "id": "lfdjSMnB5Q9P"
      },
      "outputs": [],
      "source": [
        "#seed = 213\n",
        "#seed= 1372\n",
        "seed=50\n",
        "save_dir = os.path.join(dc.utils.get_data_dir(), \"BBBP_seed_\" + str(seed))\n",
        "tasks, datasets, transformers = dc.molnet.load_bbbp(splitter=RandomScaffoldSplitter(seed=seed), save_dir=save_dir)\n",
        "copy_fn_seeded_all(seed,'bbbp')\n",
        "ds50 = datasets[0].ids"
      ]
    },
    {
      "cell_type": "code",
      "execution_count": null,
      "metadata": {
        "id": "ubfiyWBL5Q9T"
      },
      "outputs": [],
      "source": [
        "#seed = 213\n",
        "seed= 1372\n",
        "#seed=50\n",
        "save_dir = os.path.join(dc.utils.get_data_dir(), \"BBBP_seed_\" + str(seed))\n",
        "tasks, datasets, transformers = dc.molnet.load_bbbp(splitter=RandomScaffoldSplitter(seed=seed), save_dir=save_dir)\n",
        "copy_fn_seeded_all(seed,'bbbp')\n",
        "ds1372 = datasets[0].ids"
      ]
    },
    {
      "cell_type": "code",
      "execution_count": null,
      "metadata": {
        "id": "KjdH-TX85Q9U"
      },
      "outputs": [],
      "source": [
        "seed = 213\n",
        "#seed= 1372\n",
        "#seed=50\n",
        "save_dir = os.path.join(dc.utils.get_data_dir(), \"BBBP_seed_\" + str(seed))\n",
        "tasks, datasets, transformers = dc.molnet.load_bbbp(splitter=RandomScaffoldSplitter(seed=seed), save_dir=save_dir)\n",
        "copy_fn_seeded_all(seed,'bbbp')\n",
        "ds213 = datasets[0].ids"
      ]
    },
    {
      "cell_type": "code",
      "execution_count": null,
      "metadata": {
        "colab": {
          "base_uri": "https://localhost:8080/"
        },
        "id": "vIq4xaPG5_Bj",
        "outputId": "5efd4528-21e9-4c99-9ee7-e34db3de895c"
      },
      "outputs": [
        {
          "data": {
            "text/plain": [
              "False"
            ]
          },
          "execution_count": 82,
          "metadata": {
            "tags": []
          },
          "output_type": "execute_result"
        }
      ],
      "source": [
        "np.array_equal(ds1372,ds213)"
      ]
    },
    {
      "cell_type": "code",
      "execution_count": null,
      "metadata": {
        "colab": {
          "base_uri": "https://localhost:8080/"
        },
        "id": "m_Egqu9A5_Bk",
        "outputId": "507a7d4f-6a06-43c0-e327-8d0b75af5d7c"
      },
      "outputs": [
        {
          "data": {
            "text/plain": [
              "False"
            ]
          },
          "execution_count": 83,
          "metadata": {
            "tags": []
          },
          "output_type": "execute_result"
        }
      ],
      "source": [
        "np.array_equal(ds1372,ds50)"
      ]
    },
    {
      "cell_type": "code",
      "execution_count": null,
      "metadata": {
        "colab": {
          "base_uri": "https://localhost:8080/"
        },
        "id": "WWU1EM755_Bm",
        "outputId": "25ba5713-515d-41d6-a6a7-8237d26515c4"
      },
      "outputs": [
        {
          "data": {
            "text/plain": [
              "False"
            ]
          },
          "execution_count": 84,
          "metadata": {
            "tags": []
          },
          "output_type": "execute_result"
        }
      ],
      "source": [
        "np.array_equal(ds213,ds50)"
      ]
    },
    {
      "cell_type": "code",
      "execution_count": null,
      "metadata": {
        "id": "p4STQtz4589U"
      },
      "outputs": [],
      "source": []
    },
    {
      "cell_type": "markdown",
      "metadata": {
        "id": "t4o9S9wQ8KIY"
      },
      "source": [
        "## Generating Lipophilicity"
      ]
    },
    {
      "cell_type": "code",
      "execution_count": null,
      "metadata": {
        "id": "nmUXme7B8feB"
      },
      "outputs": [],
      "source": [
        "#seed = 213\n",
        "#seed= 1372\n",
        "seed=50\n",
        "save_dir = os.path.join(dc.utils.get_data_dir(), \"Lipo_seed_\" + str(seed))\n",
        "tasks, datasets, transformers = dc.molnet.load_lipo(splitter=RandomScaffoldSplitter(seed=seed), transformers=['balancing'], save_dir=save_dir)\n",
        "copy_fn_seeded_all(seed,'lipo')\n",
        "ds50 = datasets[0].ids"
      ]
    },
    {
      "cell_type": "code",
      "execution_count": null,
      "metadata": {
        "id": "YRPDX7YF8feF"
      },
      "outputs": [],
      "source": [
        "#seed = 213\n",
        "seed= 1372\n",
        "#seed=50\n",
        "save_dir = os.path.join(dc.utils.get_data_dir(), \"Lipo_seed_\" + str(seed))\n",
        "tasks, datasets, transformers = dc.molnet.load_lipo(splitter=RandomScaffoldSplitter(seed=seed), transformers=['balancing'], save_dir=save_dir)\n",
        "copy_fn_seeded_all(seed,'lipo')\n",
        "ds1372 = datasets[0].ids"
      ]
    },
    {
      "cell_type": "code",
      "execution_count": null,
      "metadata": {
        "id": "hIql4Q728feH"
      },
      "outputs": [],
      "source": [
        "seed = 213\n",
        "#seed= 1372\n",
        "#seed=50\n",
        "save_dir = os.path.join(dc.utils.get_data_dir(), \"Lipo_seed_\" + str(seed))\n",
        "tasks, datasets, transformers = dc.molnet.load_lipo(splitter=RandomScaffoldSplitter(seed=seed), transformers=['balancing'], save_dir=save_dir)\n",
        "copy_fn_seeded_all(seed,'lipo')\n",
        "ds213 = datasets[0].ids"
      ]
    },
    {
      "cell_type": "code",
      "execution_count": null,
      "metadata": {
        "colab": {
          "base_uri": "https://localhost:8080/"
        },
        "id": "Axt_mIX_8feJ",
        "outputId": "29496c09-df68-4d91-a81d-41c28d24dbbb"
      },
      "outputs": [
        {
          "data": {
            "text/plain": [
              "False"
            ]
          },
          "execution_count": 99,
          "metadata": {
            "tags": []
          },
          "output_type": "execute_result"
        }
      ],
      "source": [
        "np.array_equal(ds1372,ds213)"
      ]
    },
    {
      "cell_type": "code",
      "execution_count": null,
      "metadata": {
        "colab": {
          "base_uri": "https://localhost:8080/"
        },
        "id": "qhSUl0TZ8feL",
        "outputId": "88df1223-c86a-43f3-eb29-f03263c32bf0"
      },
      "outputs": [
        {
          "data": {
            "text/plain": [
              "False"
            ]
          },
          "execution_count": 100,
          "metadata": {
            "tags": []
          },
          "output_type": "execute_result"
        }
      ],
      "source": [
        "np.array_equal(ds1372,ds50)"
      ]
    },
    {
      "cell_type": "code",
      "execution_count": null,
      "metadata": {
        "colab": {
          "base_uri": "https://localhost:8080/"
        },
        "id": "F8Qc1zxU8feN",
        "outputId": "0b46e18f-6204-4209-a5c7-6dd2a2787e46"
      },
      "outputs": [
        {
          "data": {
            "text/plain": [
              "False"
            ]
          },
          "execution_count": 101,
          "metadata": {
            "tags": []
          },
          "output_type": "execute_result"
        }
      ],
      "source": [
        "np.array_equal(ds213,ds50)"
      ]
    },
    {
      "cell_type": "markdown",
      "metadata": {
        "id": "zKyTYjw5AJm3"
      },
      "source": [
        "## Generating ESOL"
      ]
    },
    {
      "cell_type": "code",
      "execution_count": null,
      "metadata": {
        "id": "lTRozWcjAaba"
      },
      "outputs": [],
      "source": [
        "#seed = 213\n",
        "#seed= 1372\n",
        "seed=50\n",
        "save_dir = os.path.join(dc.utils.get_data_dir(), \"ESOL_seed_\" + str(seed))\n",
        "tasks, datasets, transformers = dc.molnet.load_delaney(splitter=RandomScaffoldSplitter(seed=seed), transformers=['balancing'], save_dir=save_dir)\n",
        "copy_fn_seeded_all(seed,'delaney')\n",
        "ds50 = datasets[0].ids"
      ]
    },
    {
      "cell_type": "code",
      "execution_count": null,
      "metadata": {
        "id": "7t6eKs9VAabc"
      },
      "outputs": [],
      "source": [
        "#seed = 213\n",
        "seed= 1372\n",
        "#seed=50\n",
        "save_dir = os.path.join(dc.utils.get_data_dir(), \"ESOL_seed_\" + str(seed))\n",
        "tasks, datasets, transformers = dc.molnet.load_delaney(splitter=RandomScaffoldSplitter(seed=seed), transformers=['balancing'], save_dir=save_dir)\n",
        "copy_fn_seeded_all(seed,'delaney')\n",
        "ds1372 = datasets[0].ids"
      ]
    },
    {
      "cell_type": "code",
      "execution_count": null,
      "metadata": {
        "id": "YYHnvauHAabd"
      },
      "outputs": [],
      "source": [
        "seed = 213\n",
        "#seed= 1372\n",
        "#seed=50\n",
        "save_dir = os.path.join(dc.utils.get_data_dir(), \"ESOL_seed_\" + str(seed))\n",
        "tasks, datasets, transformers = dc.molnet.load_delaney(splitter=RandomScaffoldSplitter(seed=seed), transformers=['balancing'], save_dir=save_dir)\n",
        "copy_fn_seeded_all(seed,'delaney')\n",
        "ds213 = datasets[0].ids"
      ]
    },
    {
      "cell_type": "code",
      "execution_count": null,
      "metadata": {
        "colab": {
          "base_uri": "https://localhost:8080/"
        },
        "id": "8GtKuMtXAabe",
        "outputId": "f4ef1afa-6c12-4266-e7dd-46c37e134795"
      },
      "outputs": [
        {
          "data": {
            "text/plain": [
              "False"
            ]
          },
          "execution_count": 105,
          "metadata": {
            "tags": []
          },
          "output_type": "execute_result"
        }
      ],
      "source": [
        "np.array_equal(ds1372,ds213)"
      ]
    },
    {
      "cell_type": "code",
      "execution_count": null,
      "metadata": {
        "colab": {
          "base_uri": "https://localhost:8080/"
        },
        "id": "ArNRtBqIAabe",
        "outputId": "c62bcb11-fed5-41b7-93f8-8055d9c3a6e9"
      },
      "outputs": [
        {
          "data": {
            "text/plain": [
              "False"
            ]
          },
          "execution_count": 106,
          "metadata": {
            "tags": []
          },
          "output_type": "execute_result"
        }
      ],
      "source": [
        "np.array_equal(ds1372,ds50)"
      ]
    },
    {
      "cell_type": "code",
      "execution_count": null,
      "metadata": {
        "colab": {
          "base_uri": "https://localhost:8080/"
        },
        "id": "JPBloI9AAabf",
        "outputId": "a1226e07-90f4-4512-cf7e-bf6e6dfc1f3e"
      },
      "outputs": [
        {
          "data": {
            "text/plain": [
              "False"
            ]
          },
          "execution_count": 107,
          "metadata": {
            "tags": []
          },
          "output_type": "execute_result"
        }
      ],
      "source": [
        "np.array_equal(ds213,ds50)"
      ]
    },
    {
      "cell_type": "code",
      "execution_count": null,
      "metadata": {
        "id": "OhTNcSvNAWwX"
      },
      "outputs": [],
      "source": []
    },
    {
      "cell_type": "markdown",
      "metadata": {
        "id": "PixiB2t_CUoA"
      },
      "source": [
        "##Generating BACE"
      ]
    },
    {
      "cell_type": "code",
      "execution_count": null,
      "metadata": {
        "id": "SlcsNTFmCcME"
      },
      "outputs": [],
      "source": []
    },
    {
      "cell_type": "code",
      "execution_count": null,
      "metadata": {
        "id": "kuRdrZDjCcdf"
      },
      "outputs": [],
      "source": [
        "#seed = 213\n",
        "#seed= 1372\n",
        "seed=50\n",
        "save_dir = os.path.join(dc.utils.get_data_dir(), \"BACE_seed_\" + str(seed))\n",
        "tasks, datasets, transformers = dc.molnet.load_bace_classification(splitter=RandomScaffoldSplitter(seed=seed), transformers=['balancing'], save_dir=save_dir)\n",
        "copy_fn_seeded_all(seed,'bace_c')\n",
        "ds50 = datasets[0].ids"
      ]
    },
    {
      "cell_type": "code",
      "execution_count": null,
      "metadata": {
        "id": "du6TdnRACcdh"
      },
      "outputs": [],
      "source": [
        "#seed = 213\n",
        "seed= 1372\n",
        "#seed=50\n",
        "save_dir = os.path.join(dc.utils.get_data_dir(), \"BACE_seed_\" + str(seed))\n",
        "tasks, datasets, transformers = dc.molnet.load_bace_classification(splitter=RandomScaffoldSplitter(seed=seed), transformers=['balancing'], save_dir=save_dir)\n",
        "copy_fn_seeded_all(seed,'bace_c')\n",
        "ds1372 = datasets[0].ids"
      ]
    },
    {
      "cell_type": "code",
      "execution_count": null,
      "metadata": {
        "id": "_Mppz9JfCcdi"
      },
      "outputs": [],
      "source": [
        "seed = 213\n",
        "#seed= 1372\n",
        "#seed=50\n",
        "save_dir = os.path.join(dc.utils.get_data_dir(), \"BACE_seed_\" + str(seed))\n",
        "tasks, datasets, transformers = dc.molnet.load_bace_classification(splitter=RandomScaffoldSplitter(seed=seed), transformers=['balancing'], save_dir=save_dir)\n",
        "copy_fn_seeded_all(seed,'bace_c')\n",
        "ds213 = datasets[0].ids"
      ]
    },
    {
      "cell_type": "code",
      "execution_count": null,
      "metadata": {
        "colab": {
          "base_uri": "https://localhost:8080/"
        },
        "id": "uXy7cuzMCcdj",
        "outputId": "16517778-05af-4069-e6a9-6c553f440730"
      },
      "outputs": [
        {
          "data": {
            "text/plain": [
              "False"
            ]
          },
          "execution_count": 113,
          "metadata": {
            "tags": []
          },
          "output_type": "execute_result"
        }
      ],
      "source": [
        "np.array_equal(ds1372,ds213)"
      ]
    },
    {
      "cell_type": "code",
      "execution_count": null,
      "metadata": {
        "colab": {
          "base_uri": "https://localhost:8080/"
        },
        "id": "64FKVTH0Ccdl",
        "outputId": "fc0b9159-fa36-45a4-a775-e8bf1013eaf4"
      },
      "outputs": [
        {
          "data": {
            "text/plain": [
              "False"
            ]
          },
          "execution_count": 114,
          "metadata": {
            "tags": []
          },
          "output_type": "execute_result"
        }
      ],
      "source": [
        "np.array_equal(ds1372,ds50)"
      ]
    },
    {
      "cell_type": "code",
      "execution_count": null,
      "metadata": {
        "colab": {
          "base_uri": "https://localhost:8080/"
        },
        "id": "RJ2C7Z7FCcdm",
        "outputId": "cc5b581a-6960-48d2-c7ac-9a246cb42c69"
      },
      "outputs": [
        {
          "data": {
            "text/plain": [
              "False"
            ]
          },
          "execution_count": 115,
          "metadata": {
            "tags": []
          },
          "output_type": "execute_result"
        }
      ],
      "source": [
        "np.array_equal(ds213,ds50)"
      ]
    },
    {
      "cell_type": "markdown",
      "metadata": {
        "id": "D11mj6pbD-1M"
      },
      "source": [
        "## Generating ClinTox"
      ]
    },
    {
      "cell_type": "code",
      "execution_count": null,
      "metadata": {
        "id": "Zf7oVf2pENKt"
      },
      "outputs": [],
      "source": [
        "#seed = 213\n",
        "#seed= 1372\n",
        "seed=50\n",
        "save_dir = os.path.join(dc.utils.get_data_dir(), \"ClinTox_seed_\" + str(seed))\n",
        "tasks, datasets, transformers = dc.molnet.load_clintox(splitter=RandomScaffoldSplitter(seed=seed), transformers=['balancing'], save_dir=save_dir)\n",
        "copy_fn_seeded_all(seed,'clintox')\n",
        "ds50 = datasets[0].ids"
      ]
    },
    {
      "cell_type": "code",
      "execution_count": null,
      "metadata": {
        "id": "JV9um0MnENKv"
      },
      "outputs": [],
      "source": [
        "#seed = 213\n",
        "seed= 1372\n",
        "#seed=50\n",
        "save_dir = os.path.join(dc.utils.get_data_dir(), \"ClinTox_seed_\" + str(seed))\n",
        "tasks, datasets, transformers = dc.molnet.load_clintox(splitter=RandomScaffoldSplitter(seed=seed), transformers=['balancing'], save_dir=save_dir)\n",
        "copy_fn_seeded_all(seed,'clintox')\n",
        "ds1372 = datasets[0].ids"
      ]
    },
    {
      "cell_type": "code",
      "execution_count": null,
      "metadata": {
        "id": "wujjdateENKv"
      },
      "outputs": [],
      "source": [
        "seed = 213\n",
        "#seed= 1372\n",
        "#seed=50\n",
        "save_dir = os.path.join(dc.utils.get_data_dir(), \"ClinTox_seed_\" + str(seed))\n",
        "tasks, datasets, transformers = dc.molnet.load_clintox(splitter=RandomScaffoldSplitter(seed=seed), transformers=['balancing'], save_dir=save_dir)\n",
        "copy_fn_seeded_all(seed,'clintox')\n",
        "ds213 = datasets[0].ids"
      ]
    },
    {
      "cell_type": "code",
      "execution_count": null,
      "metadata": {
        "colab": {
          "base_uri": "https://localhost:8080/"
        },
        "id": "zIo2cvhBENKy",
        "outputId": "42da2cc0-09be-4f00-8a4c-9ddcab562b90"
      },
      "outputs": [
        {
          "data": {
            "text/plain": [
              "False"
            ]
          },
          "execution_count": 119,
          "metadata": {
            "tags": []
          },
          "output_type": "execute_result"
        }
      ],
      "source": [
        "np.array_equal(ds1372,ds213)"
      ]
    },
    {
      "cell_type": "code",
      "execution_count": null,
      "metadata": {
        "colab": {
          "base_uri": "https://localhost:8080/"
        },
        "id": "5v6LWgxmENKz",
        "outputId": "bd3a891e-37ff-48e7-a86d-c2386b28ed6a"
      },
      "outputs": [
        {
          "data": {
            "text/plain": [
              "False"
            ]
          },
          "execution_count": 120,
          "metadata": {
            "tags": []
          },
          "output_type": "execute_result"
        }
      ],
      "source": [
        "np.array_equal(ds1372,ds50)"
      ]
    },
    {
      "cell_type": "code",
      "execution_count": null,
      "metadata": {
        "colab": {
          "base_uri": "https://localhost:8080/"
        },
        "id": "NG3L0QJ7ENKz",
        "outputId": "21177e1c-5767-4bd2-dc7c-bea3b1d02a0f"
      },
      "outputs": [
        {
          "data": {
            "text/plain": [
              "False"
            ]
          },
          "execution_count": 121,
          "metadata": {
            "tags": []
          },
          "output_type": "execute_result"
        }
      ],
      "source": [
        "np.array_equal(ds213,ds50)"
      ]
    },
    {
      "cell_type": "markdown",
      "metadata": {
        "id": "wY3k7sVmG7Jg"
      },
      "source": [
        "### **Generating HIV**"
      ]
    },
    {
      "cell_type": "code",
      "execution_count": null,
      "metadata": {
        "id": "0jT_JKMA584j"
      },
      "outputs": [],
      "source": []
    },
    {
      "cell_type": "code",
      "execution_count": null,
      "metadata": {
        "id": "1Tk_r5AIHbWw"
      },
      "outputs": [],
      "source": [
        "#seed = 213\n",
        "#seed= 1372\n",
        "seed=50\n",
        "save_dir = os.path.join(dc.utils.get_data_dir(), \"HIV_seed_\" + str(seed))\n",
        "tasks, datasets, transformers = dc.molnet.load_hiv(splitter=RandomScaffoldSplitter(seed=seed), transformers=['balancing'], save_dir=save_dir)\n",
        "copy_fn_seeded_all(seed,'hiv')\n",
        "ds50 = datasets[0].ids"
      ]
    },
    {
      "cell_type": "code",
      "execution_count": null,
      "metadata": {
        "colab": {
          "base_uri": "https://localhost:8080/"
        },
        "id": "YSY3J5B7HbWx",
        "outputId": "57ffd8e0-d1b8-4599-f136-eb4b5cd8506d"
      },
      "outputs": [
        {
          "name": "stdout",
          "output_type": "stream",
          "text": [
            "Random seed in this scaffold splitting is:  1372\n"
          ]
        }
      ],
      "source": [
        "#seed = 213\n",
        "seed= 1372\n",
        "#seed=50\n",
        "save_dir = os.path.join(dc.utils.get_data_dir(), \"HIV_seed_\" + str(seed))\n",
        "tasks, datasets, transformers = dc.molnet.load_hiv(splitter=RandomScaffoldSplitter(seed=seed), transformers=['balancing'], save_dir=save_dir)\n",
        "copy_fn_seeded_all(seed,'hiv')\n",
        "ds1372 = datasets[0].ids"
      ]
    },
    {
      "cell_type": "code",
      "execution_count": null,
      "metadata": {
        "colab": {
          "background_save": true
        },
        "id": "DEu_-MLYHbWy",
        "outputId": "cdd85af5-c6ed-42b6-8026-8fb90d190bbf"
      },
      "outputs": [
        {
          "name": "stdout",
          "output_type": "stream",
          "text": [
            "Random seed in this scaffold splitting is:  213\n"
          ]
        }
      ],
      "source": [
        "seed = 213\n",
        "#seed= 1372\n",
        "seed=50\n",
        "save_dir = os.path.join(dc.utils.get_data_dir(), \"HIV_seed_\" + str(seed))\n",
        "tasks, datasets, transformers = dc.molnet.load_hiv(splitter=RandomScaffoldSplitter(seed=seed), transformers=['balancing'], save_dir=save_dir)\n",
        "copy_fn_seeded_all(seed,'hiv')\n",
        "ds213 = datasets[0].ids"
      ]
    },
    {
      "cell_type": "code",
      "execution_count": null,
      "metadata": {
        "colab": {
          "background_save": true
        },
        "id": "ccuGjJdVHbW1",
        "outputId": "75f83093-f91e-4a09-f726-c1c81076d18c"
      },
      "outputs": [
        {
          "data": {
            "text/plain": [
              "False"
            ]
          },
          "execution_count": 0,
          "metadata": {
            "tags": []
          },
          "output_type": "execute_result"
        }
      ],
      "source": [
        "np.array_equal(ds1372,ds213)"
      ]
    },
    {
      "cell_type": "code",
      "execution_count": null,
      "metadata": {
        "colab": {
          "background_save": true
        },
        "id": "z31RkgpNHbW3",
        "outputId": "0526c422-7f42-444e-ed29-e0d82416ae21"
      },
      "outputs": [
        {
          "data": {
            "text/plain": [
              "False"
            ]
          },
          "execution_count": 0,
          "metadata": {
            "tags": []
          },
          "output_type": "execute_result"
        }
      ],
      "source": [
        "np.array_equal(ds1372,ds50)"
      ]
    },
    {
      "cell_type": "code",
      "execution_count": null,
      "metadata": {
        "colab": {
          "background_save": true
        },
        "id": "bZJW7DzsHbW4",
        "outputId": "18cd0c73-5c27-4bd2-f67c-8372e9ff4f7f"
      },
      "outputs": [
        {
          "data": {
            "text/plain": [
              "False"
            ]
          },
          "execution_count": 0,
          "metadata": {
            "tags": []
          },
          "output_type": "execute_result"
        }
      ],
      "source": [
        "np.array_equal(ds213,ds50)"
      ]
    },
    {
      "cell_type": "code",
      "execution_count": null,
      "metadata": {
        "id": "NTfyeZSh582F"
      },
      "outputs": [],
      "source": []
    },
    {
      "cell_type": "code",
      "execution_count": null,
      "metadata": {
        "id": "uVno441r58zI"
      },
      "outputs": [],
      "source": []
    },
    {
      "cell_type": "code",
      "execution_count": null,
      "metadata": {
        "id": "p2hKjxAX02uz"
      },
      "outputs": [],
      "source": [
        "copy_fn_seeded(seed)"
      ]
    },
    {
      "cell_type": "code",
      "execution_count": null,
      "metadata": {
        "colab": {
          "base_uri": "https://localhost:8080/"
        },
        "id": "TqPjAIE8tHD_",
        "outputId": "18c30f14-5932-4c7d-a44a-5fa0168edeed"
      },
      "outputs": [
        {
          "name": "stdout",
          "output_type": "stream",
          "text": [
            "ls: cannot access '/content/drive/MyDrive/GMLG_Research/Data/DeepChem/Tox21_seed_50/tox21-featurized/CircularFingerprint_size_1024/RandomScaffoldSplitter/BalancingTransformer/': No such file or directory\n"
          ]
        }
      ],
      "source": [
        "!ls '/content/drive/MyDrive/GMLG_Research/Data/DeepChem/Tox21_seed_50/tox21-featurized/CircularFingerprint_size_1024/RandomScaffoldSplitter/BalancingTransformer/'"
      ]
    },
    {
      "cell_type": "code",
      "execution_count": null,
      "metadata": {
        "colab": {
          "base_uri": "https://localhost:8080/",
          "height": 330
        },
        "id": "SrbQZ4lFsYid",
        "outputId": "0f6fabe7-85b1-455c-c832-511db858b05e"
      },
      "outputs": [
        {
          "ename": "FileNotFoundError",
          "evalue": "ignored",
          "output_type": "error",
          "traceback": [
            "\u001b[0;31m---------------------------------------------------------------------------\u001b[0m",
            "\u001b[0;31mFileNotFoundError\u001b[0m                         Traceback (most recent call last)",
            "\u001b[0;32m<ipython-input-37-04cf48f52eba>\u001b[0m in \u001b[0;36m<module>\u001b[0;34m()\u001b[0m\n\u001b[0;32m----> 1\u001b[0;31m \u001b[0mcopy_fn\u001b[0m\u001b[0;34m(\u001b[0m\u001b[0;34m)\u001b[0m\u001b[0;34m\u001b[0m\u001b[0;34m\u001b[0m\u001b[0m\n\u001b[0m",
            "\u001b[0;32m<ipython-input-12-5ec99ad68de2>\u001b[0m in \u001b[0;36mcopy_fn\u001b[0;34m()\u001b[0m\n\u001b[1;32m      2\u001b[0m     \u001b[0ma\u001b[0m\u001b[0;34m=\u001b[0m\u001b[0mos\u001b[0m\u001b[0;34m.\u001b[0m\u001b[0mpath\u001b[0m\u001b[0;34m.\u001b[0m\u001b[0mjoin\u001b[0m\u001b[0;34m(\u001b[0m\u001b[0msave_dir\u001b[0m\u001b[0;34m,\u001b[0m\u001b[0;34m'tox21-featurized/CircularFingerprint_size_1024/RandomScaffoldSplitter/BalancingTransformer/train_dir/shard-0-ids.npy'\u001b[0m\u001b[0;34m)\u001b[0m\u001b[0;34m\u001b[0m\u001b[0;34m\u001b[0m\u001b[0m\n\u001b[1;32m      3\u001b[0m     \u001b[0mb\u001b[0m\u001b[0;34m=\u001b[0m\u001b[0mos\u001b[0m\u001b[0;34m.\u001b[0m\u001b[0mpath\u001b[0m\u001b[0;34m.\u001b[0m\u001b[0mjoin\u001b[0m\u001b[0;34m(\u001b[0m\u001b[0msave_dir\u001b[0m\u001b[0;34m,\u001b[0m\u001b[0;34m'train_smiles'\u001b[0m\u001b[0;34m)\u001b[0m\u001b[0;34m\u001b[0m\u001b[0;34m\u001b[0m\u001b[0m\n\u001b[0;32m----> 4\u001b[0;31m     \u001b[0mshutil\u001b[0m\u001b[0;34m.\u001b[0m\u001b[0mcopy\u001b[0m\u001b[0;34m(\u001b[0m\u001b[0ma\u001b[0m\u001b[0;34m,\u001b[0m \u001b[0mb\u001b[0m\u001b[0;34m)\u001b[0m\u001b[0;34m\u001b[0m\u001b[0;34m\u001b[0m\u001b[0m\n\u001b[0m\u001b[1;32m      5\u001b[0m \u001b[0;34m\u001b[0m\u001b[0m\n\u001b[1;32m      6\u001b[0m     \u001b[0ma\u001b[0m\u001b[0;34m=\u001b[0m\u001b[0mos\u001b[0m\u001b[0;34m.\u001b[0m\u001b[0mpath\u001b[0m\u001b[0;34m.\u001b[0m\u001b[0mjoin\u001b[0m\u001b[0;34m(\u001b[0m\u001b[0msave_dir\u001b[0m\u001b[0;34m,\u001b[0m\u001b[0;34m'tox21-featurized/CircularFingerprint_size_1024/RandomScaffoldSplitter/BalancingTransformer/valid_dir/shard-0-ids.npy'\u001b[0m\u001b[0;34m)\u001b[0m\u001b[0;34m\u001b[0m\u001b[0;34m\u001b[0m\u001b[0m\n",
            "\u001b[0;32m/usr/lib/python3.7/shutil.py\u001b[0m in \u001b[0;36mcopy\u001b[0;34m(src, dst, follow_symlinks)\u001b[0m\n\u001b[1;32m    246\u001b[0m     \u001b[0;32mif\u001b[0m \u001b[0mos\u001b[0m\u001b[0;34m.\u001b[0m\u001b[0mpath\u001b[0m\u001b[0;34m.\u001b[0m\u001b[0misdir\u001b[0m\u001b[0;34m(\u001b[0m\u001b[0mdst\u001b[0m\u001b[0;34m)\u001b[0m\u001b[0;34m:\u001b[0m\u001b[0;34m\u001b[0m\u001b[0;34m\u001b[0m\u001b[0m\n\u001b[1;32m    247\u001b[0m         \u001b[0mdst\u001b[0m \u001b[0;34m=\u001b[0m \u001b[0mos\u001b[0m\u001b[0;34m.\u001b[0m\u001b[0mpath\u001b[0m\u001b[0;34m.\u001b[0m\u001b[0mjoin\u001b[0m\u001b[0;34m(\u001b[0m\u001b[0mdst\u001b[0m\u001b[0;34m,\u001b[0m \u001b[0mos\u001b[0m\u001b[0;34m.\u001b[0m\u001b[0mpath\u001b[0m\u001b[0;34m.\u001b[0m\u001b[0mbasename\u001b[0m\u001b[0;34m(\u001b[0m\u001b[0msrc\u001b[0m\u001b[0;34m)\u001b[0m\u001b[0;34m)\u001b[0m\u001b[0;34m\u001b[0m\u001b[0;34m\u001b[0m\u001b[0m\n\u001b[0;32m--> 248\u001b[0;31m     \u001b[0mcopyfile\u001b[0m\u001b[0;34m(\u001b[0m\u001b[0msrc\u001b[0m\u001b[0;34m,\u001b[0m \u001b[0mdst\u001b[0m\u001b[0;34m,\u001b[0m \u001b[0mfollow_symlinks\u001b[0m\u001b[0;34m=\u001b[0m\u001b[0mfollow_symlinks\u001b[0m\u001b[0;34m)\u001b[0m\u001b[0;34m\u001b[0m\u001b[0;34m\u001b[0m\u001b[0m\n\u001b[0m\u001b[1;32m    249\u001b[0m     \u001b[0mcopymode\u001b[0m\u001b[0;34m(\u001b[0m\u001b[0msrc\u001b[0m\u001b[0;34m,\u001b[0m \u001b[0mdst\u001b[0m\u001b[0;34m,\u001b[0m \u001b[0mfollow_symlinks\u001b[0m\u001b[0;34m=\u001b[0m\u001b[0mfollow_symlinks\u001b[0m\u001b[0;34m)\u001b[0m\u001b[0;34m\u001b[0m\u001b[0;34m\u001b[0m\u001b[0m\n\u001b[1;32m    250\u001b[0m     \u001b[0;32mreturn\u001b[0m \u001b[0mdst\u001b[0m\u001b[0;34m\u001b[0m\u001b[0;34m\u001b[0m\u001b[0m\n",
            "\u001b[0;32m/usr/lib/python3.7/shutil.py\u001b[0m in \u001b[0;36mcopyfile\u001b[0;34m(src, dst, follow_symlinks)\u001b[0m\n\u001b[1;32m    118\u001b[0m         \u001b[0mos\u001b[0m\u001b[0;34m.\u001b[0m\u001b[0msymlink\u001b[0m\u001b[0;34m(\u001b[0m\u001b[0mos\u001b[0m\u001b[0;34m.\u001b[0m\u001b[0mreadlink\u001b[0m\u001b[0;34m(\u001b[0m\u001b[0msrc\u001b[0m\u001b[0;34m)\u001b[0m\u001b[0;34m,\u001b[0m \u001b[0mdst\u001b[0m\u001b[0;34m)\u001b[0m\u001b[0;34m\u001b[0m\u001b[0;34m\u001b[0m\u001b[0m\n\u001b[1;32m    119\u001b[0m     \u001b[0;32melse\u001b[0m\u001b[0;34m:\u001b[0m\u001b[0;34m\u001b[0m\u001b[0;34m\u001b[0m\u001b[0m\n\u001b[0;32m--> 120\u001b[0;31m         \u001b[0;32mwith\u001b[0m \u001b[0mopen\u001b[0m\u001b[0;34m(\u001b[0m\u001b[0msrc\u001b[0m\u001b[0;34m,\u001b[0m \u001b[0;34m'rb'\u001b[0m\u001b[0;34m)\u001b[0m \u001b[0;32mas\u001b[0m \u001b[0mfsrc\u001b[0m\u001b[0;34m:\u001b[0m\u001b[0;34m\u001b[0m\u001b[0;34m\u001b[0m\u001b[0m\n\u001b[0m\u001b[1;32m    121\u001b[0m             \u001b[0;32mwith\u001b[0m \u001b[0mopen\u001b[0m\u001b[0;34m(\u001b[0m\u001b[0mdst\u001b[0m\u001b[0;34m,\u001b[0m \u001b[0;34m'wb'\u001b[0m\u001b[0;34m)\u001b[0m \u001b[0;32mas\u001b[0m \u001b[0mfdst\u001b[0m\u001b[0;34m:\u001b[0m\u001b[0;34m\u001b[0m\u001b[0;34m\u001b[0m\u001b[0m\n\u001b[1;32m    122\u001b[0m                 \u001b[0mcopyfileobj\u001b[0m\u001b[0;34m(\u001b[0m\u001b[0mfsrc\u001b[0m\u001b[0;34m,\u001b[0m \u001b[0mfdst\u001b[0m\u001b[0;34m)\u001b[0m\u001b[0;34m\u001b[0m\u001b[0;34m\u001b[0m\u001b[0m\n",
            "\u001b[0;31mFileNotFoundError\u001b[0m: [Errno 2] No such file or directory: '/content/drive/MyDrive/GMLG_Research/Data/DeepChem/Tox21_seed_50/tox21-featurized/CircularFingerprint_size_1024/RandomScaffoldSplitter/BalancingTransformer/train_dir/shard-0-ids.npy'"
          ]
        }
      ],
      "source": [
        "copy_fn()"
      ]
    },
    {
      "cell_type": "code",
      "execution_count": null,
      "metadata": {
        "colab": {
          "base_uri": "https://localhost:8080/"
        },
        "id": "fGeoZW8_vlSP",
        "outputId": "37e6c6f0-53d1-4472-a751-94bd78264674"
      },
      "outputs": [
        {
          "name": "stdout",
          "output_type": "stream",
          "text": [
            "\u001b[0m\u001b[01;34mRandomScaffoldSplitter_seed_50\u001b[0m/\n"
          ]
        }
      ],
      "source": [
        "ls '/content/drive/MyDrive/GMLG_Research/Data/DeepChem/Tox21_seed_50/tox21-featurized/CircularFingerprint_size_1024/'"
      ]
    },
    {
      "cell_type": "code",
      "execution_count": null,
      "metadata": {
        "colab": {
          "base_uri": "https://localhost:8080/",
          "height": 35
        },
        "id": "0tEnIjqWsG9V",
        "outputId": "75d4ed1f-09ea-44a7-a3f4-60a4b99a4cdb"
      },
      "outputs": [
        {
          "data": {
            "application/vnd.google.colaboratory.intrinsic+json": {
              "type": "string"
            },
            "text/plain": [
              "'C#CCN1CC(=O)N(COC(=O)[C@@H]2[C@@H](C=C(C)C)C2(C)C)C1=O'"
            ]
          },
          "execution_count": 25,
          "metadata": {
            "tags": []
          },
          "output_type": "execute_result"
        }
      ],
      "source": [
        "ds213[-1]"
      ]
    },
    {
      "cell_type": "code",
      "execution_count": null,
      "metadata": {
        "colab": {
          "base_uri": "https://localhost:8080/",
          "height": 35
        },
        "id": "58SgDo3UsKym",
        "outputId": "2f461c14-bbe1-4cec-d92f-907cbb955a8a"
      },
      "outputs": [
        {
          "data": {
            "application/vnd.google.colaboratory.intrinsic+json": {
              "type": "string"
            },
            "text/plain": [
              "'CC1(C)S[C@@H]2[C@H](NC(=O)COc3ccccc3)C(=O)N2[C@H]1C(=O)[O-]'"
            ]
          },
          "execution_count": 26,
          "metadata": {
            "tags": []
          },
          "output_type": "execute_result"
        }
      ],
      "source": [
        "ds50[-1]"
      ]
    },
    {
      "cell_type": "code",
      "execution_count": null,
      "metadata": {
        "colab": {
          "base_uri": "https://localhost:8080/"
        },
        "id": "g7igYeeFsq30",
        "outputId": "b2d0303c-2bce-46fd-f4fc-92bfb09a0140"
      },
      "outputs": [
        {
          "data": {
            "text/plain": [
              "array([False, False, False, ..., False, False, False])"
            ]
          },
          "execution_count": 28,
          "metadata": {
            "tags": []
          },
          "output_type": "execute_result"
        }
      ],
      "source": [
        "ds50 == ds213"
      ]
    },
    {
      "cell_type": "code",
      "execution_count": null,
      "metadata": {
        "id": "zUDk03l3r2gZ"
      },
      "outputs": [],
      "source": [
        "copy_fn()"
      ]
    },
    {
      "cell_type": "code",
      "execution_count": null,
      "metadata": {
        "colab": {
          "base_uri": "https://localhost:8080/"
        },
        "id": "07wisMVes6DU",
        "outputId": "e47a6180-6061-49af-afe8-3c5d0b2f94c0"
      },
      "outputs": [
        {
          "data": {
            "text/plain": [
              "(6264,)"
            ]
          },
          "execution_count": 30,
          "metadata": {
            "tags": []
          },
          "output_type": "execute_result"
        }
      ],
      "source": [
        "ds213.shape"
      ]
    },
    {
      "cell_type": "code",
      "execution_count": null,
      "metadata": {
        "id": "o7SZ9srsLobC"
      },
      "outputs": [],
      "source": [
        "len(datasets[0])"
      ]
    },
    {
      "cell_type": "code",
      "execution_count": null,
      "metadata": {
        "id": "7iplQygX6tZi"
      },
      "outputs": [],
      "source": [
        "tasks, datasets, transformers = dc.molnet.load_tox21(splitter=RandomScaffoldSplitter(seed=1000))"
      ]
    },
    {
      "cell_type": "code",
      "execution_count": null,
      "metadata": {
        "id": "svzweIix6tZ2"
      },
      "outputs": [],
      "source": [
        "datasets[0].ids"
      ]
    },
    {
      "cell_type": "code",
      "execution_count": null,
      "metadata": {
        "id": "i3pVN6pzeOeH"
      },
      "outputs": [],
      "source": [
        "tasks, datasets, transformers = dc.molnet.load_tox21(splitter=RandomScaffoldSplitter(seed=518))"
      ]
    },
    {
      "cell_type": "code",
      "execution_count": null,
      "metadata": {
        "id": "DdNdppdUeOeZ"
      },
      "outputs": [],
      "source": [
        "datasets[0].ids"
      ]
    },
    {
      "cell_type": "code",
      "execution_count": null,
      "metadata": {
        "colab": {
          "base_uri": "https://localhost:8080/"
        },
        "id": "FZNUcEXzzdZe",
        "outputId": "5ea83ff0-67bc-45a7-98dc-f249b303faa2"
      },
      "outputs": [
        {
          "name": "stdout",
          "output_type": "stream",
          "text": [
            " 1709.03741.pdf\n",
            " 1709.03741v2.pdf\n",
            " 1805.08905.pdf\n",
            " 1805.11973.pdf\n",
            " 1812.01070.pdf\n",
            " 1904.01561.pdf\n",
            " 1907.11223.pdf\n",
            " 1-s2.0-S1359644617303598-main.pdf\n",
            " 2002.03230.pdf\n",
            " 2002.03244.pdf\n",
            " 2005.11856.pdf\n",
            " 2005.13607v3.pdf\n",
            " 2011.13042.pdf\n",
            " 2012.04444v1.pdf\n",
            " 2012.05716.pdf\n",
            " 27.pdf\n",
            " 684662.full.pdf\n",
            " AML_S20_Recitation\n",
            " Applications\n",
            "'Arabic Handwritten Characters Dataset CSV'\n",
            " Arabic_Handwritten_Data\n",
            "'Arabic Handwritten Digits Dataset CSV'\n",
            " Brochure.gdoc\n",
            "'Colab Notebooks'\n",
            "'conditional_generation_of_molecules_from_disentangled_representations-Original Pdf.pdf'\n",
            "'Connectionists: CFP for PhD candidates in SPIKE NEURAL NETWORK FOR ATMOSPHERIC DATA MINING.gdoc'\n",
            "'Copy of tox21-global-cdf-rdkit (1).zip'\n",
            "'Copy of tox21-global-cdf-rdkit (2).zip'\n",
            "'Copy of tox21-global-cdf-rdkit (3).zip'\n",
            "'Copy of tox21-global-cdf-rdkit.zip'\n",
            " Covid-Data-by_Mafakher\n",
            "'Deep Learning for the Life Sciences Applying Deep Learning to Genomics, Microscopy, Drug Discovery, and More by Bharath Ramsundar, Peter Eastman, Patrick Walters, Vijay Pande (z-lib.org).pdf'\n",
            "'DL at DSC SBU & Data'\n",
            " DL_Recitation_F2020\n",
            " embedding-fgene19.pdf\n",
            " filename.pickle\n",
            "'GMLG Bio-Research.gdoc'\n",
            " GMLG_Research\n",
            "'Graph Methods for COVID-19 Response.pdf'\n",
            " graphs-against-covid.pdf\n",
            " IMG-20210114-WA0004.jpg\n",
            "'interface of computational neuroscience and machine learning.gdoc'\n",
            " JBJ_ICML2020a.pdf\n",
            " Mehran_Neutrino_Data\n",
            " ML4Molecules_2020_paper_5.pdf\n",
            " NeurIPS_ML4PS_2019_23.pdf\n",
            " nips_dlps_2017_slides_welling.pdf\n",
            " Older-Files\n",
            " Presentations\n",
            " pretrain-iclr20.pdf\n",
            " Reference_Yavar_TAHERI_YEGANEH_PhD.pdf\n",
            " v15-ChemRxiv.pdf\n",
            " Work-Tasks\n",
            "'Yavar-TY_Career_Statement (1).pdf'\n",
            "'Yavar-TY_Career_Statement (2).pdf'\n",
            "'Yavar-TY_Career_Statement (3).pdf'\n",
            "'Yavar-TY_Career_Statement (4).pdf'\n",
            " Yavar-TY_Career_Statement.pdf\n",
            "'Yavar-TY_Cover_Letter (1).pdf'\n",
            " Yavar-TY_Cover_Letter.pdf\n",
            " Yavar-TY_CV_10-3-21.pdf\n",
            "'Yavar-TY_CV_7-2-21 (1).pdf'\n",
            " Yavar-TY_CV_7-2-21.pdf\n",
            " Yavar-TY_Recommendation_Mokhtar.pdf\n",
            "'Yavar-TY_Transcripts_Graduation (1).pdf'\n",
            "'Yavar-TY_Transcripts_Graduation (2).pdf'\n",
            " Yavar-TY_Transcripts_Graduation.pdf\n"
          ]
        }
      ],
      "source": [
        "!ls '/content/drive/MyDrive/shaed'"
      ]
    },
    {
      "cell_type": "code",
      "execution_count": null,
      "metadata": {
        "colab": {
          "base_uri": "https://localhost:8080/"
        },
        "id": "jJnxNkiY2DNf",
        "outputId": "72091ae7-0307-4733-c228-8d39187ccd51"
      },
      "outputs": [
        {
          "name": "stdout",
          "output_type": "stream",
          "text": [
            "test_dir  train_dir  transformers.pkl  valid_dir\n"
          ]
        }
      ],
      "source": [
        "!ls '/content/drive/MyDrive/seed_213/tox21-featurized/CircularFingerprint_size_1024/RandomScaffoldSplitter/BalancingTransformer'"
      ]
    },
    {
      "cell_type": "code",
      "execution_count": null,
      "metadata": {
        "id": "5NJe-BpQ0fyk"
      },
      "outputs": [],
      "source": [
        "def copy():\n",
        "\n",
        "  !cp os.path.join(save_dir,'tox21-featurized/CircularFingerprint_size_1024/RandomScaffoldSplitter/BalancingTransformer/train_dir/shard-0-ids.npy') save_dir\n",
        "  !mv os.path.join(save_dir,'shard-0-ids.npy') train_set\n",
        "\n",
        "  !cp os.path.join(save_dir,'tox21-featurized/CircularFingerprint_size_1024/RandomScaffoldSplitter/BalancingTransformer/valid_dir/shard-0-ids.npy') save_dir\n",
        "  !mv os.path.join(save_dir,'shard-0-ids.npy') valid_set\n",
        "\n",
        "  !cp os.path.join(save_dir,'tox21-featurized/CircularFingerprint_size_1024/RandomScaffoldSplitter/BalancingTransformer/test_dir/shard-0-ids.npy') save_dir\n",
        "  !mv os.path.join(save_dir,'shard-0-ids.npy') test_set"
      ]
    },
    {
      "cell_type": "code",
      "execution_count": null,
      "metadata": {
        "colab": {
          "base_uri": "https://localhost:8080/"
        },
        "id": "Vpc5s6-f3lPu",
        "outputId": "032233f6-c795-4d89-f782-aaab0be774d7"
      },
      "outputs": [
        {
          "name": "stdout",
          "output_type": "stream",
          "text": [
            "/bin/bash: -c: line 0: syntax error near unexpected token `('\n",
            "/bin/bash: -c: line 0: `cp os.path.join(save_dir,'/tox21-featurized/CircularFingerprint_size_1024/RandomScaffoldSplitter/BalancingTransformer/train_dir/shard-0-ids.npy') save_dir'\n"
          ]
        }
      ],
      "source": [
        "copy()"
      ]
    },
    {
      "cell_type": "code",
      "execution_count": null,
      "metadata": {
        "colab": {
          "base_uri": "https://localhost:8080/",
          "height": 35
        },
        "id": "XsQrAd0P6bdc",
        "outputId": "dbdc732d-086f-408d-e894-85da07e9b521"
      },
      "outputs": [
        {
          "data": {
            "application/vnd.google.colaboratory.intrinsic+json": {
              "type": "string"
            },
            "text/plain": [
              "'/content/drive/MyDrive/seed_213'"
            ]
          },
          "execution_count": 75,
          "metadata": {
            "tags": []
          },
          "output_type": "execute_result"
        }
      ],
      "source": [
        "save_dir"
      ]
    },
    {
      "cell_type": "code",
      "execution_count": null,
      "metadata": {
        "id": "MzAoQJnG50dJ"
      },
      "outputs": [],
      "source": [
        "!cp '/content/drive/MyDrive/seed_213/tox21-featurized/CircularFingerprint_size_1024/RandomScaffoldSplitter/BalancingTransformer/train_dir/shard-0-ids.npy' '/content'"
      ]
    },
    {
      "cell_type": "code",
      "execution_count": null,
      "metadata": {
        "id": "gwb1MOti3dI_"
      },
      "outputs": [],
      "source": [
        "save_dir = '/content/drive/MyDrive/seed_213' "
      ]
    },
    {
      "cell_type": "code",
      "execution_count": null,
      "metadata": {
        "colab": {
          "base_uri": "https://localhost:8080/",
          "height": 35
        },
        "id": "xGOtqd-W36CE",
        "outputId": "fae202fb-b15c-4f30-af0e-1fbff49cb0ed"
      },
      "outputs": [
        {
          "data": {
            "application/vnd.google.colaboratory.intrinsic+json": {
              "type": "string"
            },
            "text/plain": [
              "'/content/drive/MyDrive/seed_213/tox21-featurized/CircularFingerprint_size_1024/RandomScaffoldSplitter/BalancingTransformer/train_dir/shard-0-ids.npy'"
            ]
          },
          "execution_count": 68,
          "metadata": {
            "tags": []
          },
          "output_type": "execute_result"
        }
      ],
      "source": [
        "b='/tox21-featurized/CircularFingerprint_size_1024/RandomScaffoldSplitter/BalancingTransformer/train_dir/shard-0-ids.npy'\n",
        "a=os.path.join(save_dir,'tox21-featurized/CircularFingerprint_size_1024/RandomScaffoldSplitter/BalancingTransformer/train_dir/shard-0-ids.npy') \n",
        "a"
      ]
    },
    {
      "cell_type": "code",
      "execution_count": null,
      "metadata": {
        "colab": {
          "base_uri": "https://localhost:8080/",
          "height": 35
        },
        "id": "tkDgyH0i3-m3",
        "outputId": "09b2a2d9-9f42-4b0a-f53d-5e2bedc6104c"
      },
      "outputs": [
        {
          "data": {
            "application/vnd.google.colaboratory.intrinsic+json": {
              "type": "string"
            },
            "text/plain": [
              "'/content/drive/MyDrive/seed_213'"
            ]
          },
          "execution_count": 80,
          "metadata": {
            "tags": []
          },
          "output_type": "execute_result"
        }
      ],
      "source": [
        "save_dir"
      ]
    },
    {
      "cell_type": "code",
      "execution_count": null,
      "metadata": {
        "colab": {
          "base_uri": "https://localhost:8080/",
          "height": 35
        },
        "id": "NvOoYm0J4JPd",
        "outputId": "9d22184c-b5b1-4e06-a31c-bbba2dc1282c"
      },
      "outputs": [
        {
          "data": {
            "application/vnd.google.colaboratory.intrinsic+json": {
              "type": "string"
            },
            "text/plain": [
              "'/content/drive/MyDrive/seed_213/tox21-featurized/CircularFingerprint_size_1024/RandomScaffoldSplitter/BalancingTransformer/train_dir/shard-0-ids.npy'"
            ]
          },
          "execution_count": 107,
          "metadata": {
            "tags": []
          },
          "output_type": "execute_result"
        }
      ],
      "source": [
        "\n",
        "a = os.path.join(save_dir,'tox21-featurized/CircularFingerprint_size_1024/RandomScaffoldSplitter/BalancingTransformer/train_dir/shard-0-ids.npy')\n",
        "\n",
        "b=str(a)\n",
        "\n",
        "b\n"
      ]
    },
    {
      "cell_type": "code",
      "execution_count": null,
      "metadata": {
        "colab": {
          "base_uri": "https://localhost:8080/"
        },
        "id": "VDMF6VAn9rEt",
        "outputId": "50219d88-8f7d-4e3b-b355-7329835056a0"
      },
      "outputs": [
        {
          "name": "stdout",
          "output_type": "stream",
          "text": [
            "cp: cannot stat 'b': No such file or directory\n"
          ]
        }
      ],
      "source": [
        "!cp b '/content'"
      ]
    },
    {
      "cell_type": "code",
      "execution_count": null,
      "metadata": {
        "colab": {
          "base_uri": "https://localhost:8080/"
        },
        "id": "HmFtte8p7izD",
        "outputId": "992e2a66-c90f-4c71-d9a0-b4c5884624b2"
      },
      "outputs": [
        {
          "name": "stdout",
          "output_type": "stream",
          "text": [
            "metadata.csv.gzip  shard-0-w.npy  shard-0-y.npy\n",
            "shard-0-ids.npy    shard-0-X.npy  tasks.json\n"
          ]
        }
      ],
      "source": [
        "!ls '/content/drive/MyDrive/seed_213/tox21-featurized/CircularFingerprint_size_1024/RandomScaffoldSplitter/BalancingTransformer/train_dir'"
      ]
    },
    {
      "cell_type": "code",
      "execution_count": null,
      "metadata": {
        "colab": {
          "base_uri": "https://localhost:8080/"
        },
        "id": "5lZ4W4O63tBM",
        "outputId": "e7d6099d-e30e-46b7-edf5-e467969ba309"
      },
      "outputs": [
        {
          "name": "stdout",
          "output_type": "stream",
          "text": [
            "/bin/bash: -c: line 0: syntax error near unexpected token `('\n",
            "/bin/bash: -c: line 0: `cp os.path.join(save_dir,'tox21-featurized/CircularFingerprint_size_1024/RandomScaffoldSplitter/BalancingTransformer/train_dir+shard-0-ids.npy') save_dir'\n"
          ]
        }
      ],
      "source": [
        "!cp os.path.join(save_dir,'tox21-featurized/CircularFingerprint_size_1024/RandomScaffoldSplitter/BalancingTransformer/train_dir/shard-0-ids.npy') save_dir"
      ]
    },
    {
      "cell_type": "code",
      "execution_count": null,
      "metadata": {
        "colab": {
          "base_uri": "https://localhost:8080/",
          "height": 306
        },
        "id": "xvet6j8n8kZO",
        "outputId": "84719c3b-8bc0-46a1-9bf9-e651bba7102d"
      },
      "outputs": [
        {
          "ename": "IsADirectoryError",
          "evalue": "ignored",
          "output_type": "error",
          "traceback": [
            "\u001b[0;31m---------------------------------------------------------------------------\u001b[0m",
            "\u001b[0;31mIsADirectoryError\u001b[0m                         Traceback (most recent call last)",
            "\u001b[0;32m<ipython-input-105-6835d841a042>\u001b[0m in \u001b[0;36m<module>\u001b[0;34m()\u001b[0m\n\u001b[0;32m----> 1\u001b[0;31m \u001b[0mshutil\u001b[0m\u001b[0;34m.\u001b[0m\u001b[0mcopyfile\u001b[0m\u001b[0;34m(\u001b[0m\u001b[0mos\u001b[0m\u001b[0;34m.\u001b[0m\u001b[0mpath\u001b[0m\u001b[0;34m.\u001b[0m\u001b[0mjoin\u001b[0m\u001b[0;34m(\u001b[0m\u001b[0msave_dir\u001b[0m\u001b[0;34m,\u001b[0m\u001b[0;34m'tox21-featurized/CircularFingerprint_size_1024/RandomScaffoldSplitter/BalancingTransformer/train_dir/shard-0-ids.npy'\u001b[0m\u001b[0;34m)\u001b[0m\u001b[0;34m,\u001b[0m\u001b[0;34m'/content'\u001b[0m\u001b[0;34m)\u001b[0m\u001b[0;34m\u001b[0m\u001b[0;34m\u001b[0m\u001b[0m\n\u001b[0m",
            "\u001b[0;32m/usr/lib/python3.7/shutil.py\u001b[0m in \u001b[0;36mcopyfile\u001b[0;34m(src, dst, follow_symlinks)\u001b[0m\n\u001b[1;32m    119\u001b[0m     \u001b[0;32melse\u001b[0m\u001b[0;34m:\u001b[0m\u001b[0;34m\u001b[0m\u001b[0;34m\u001b[0m\u001b[0m\n\u001b[1;32m    120\u001b[0m         \u001b[0;32mwith\u001b[0m \u001b[0mopen\u001b[0m\u001b[0;34m(\u001b[0m\u001b[0msrc\u001b[0m\u001b[0;34m,\u001b[0m \u001b[0;34m'rb'\u001b[0m\u001b[0;34m)\u001b[0m \u001b[0;32mas\u001b[0m \u001b[0mfsrc\u001b[0m\u001b[0;34m:\u001b[0m\u001b[0;34m\u001b[0m\u001b[0;34m\u001b[0m\u001b[0m\n\u001b[0;32m--> 121\u001b[0;31m             \u001b[0;32mwith\u001b[0m \u001b[0mopen\u001b[0m\u001b[0;34m(\u001b[0m\u001b[0mdst\u001b[0m\u001b[0;34m,\u001b[0m \u001b[0;34m'wb'\u001b[0m\u001b[0;34m)\u001b[0m \u001b[0;32mas\u001b[0m \u001b[0mfdst\u001b[0m\u001b[0;34m:\u001b[0m\u001b[0;34m\u001b[0m\u001b[0;34m\u001b[0m\u001b[0m\n\u001b[0m\u001b[1;32m    122\u001b[0m                 \u001b[0mcopyfileobj\u001b[0m\u001b[0;34m(\u001b[0m\u001b[0mfsrc\u001b[0m\u001b[0;34m,\u001b[0m \u001b[0mfdst\u001b[0m\u001b[0;34m)\u001b[0m\u001b[0;34m\u001b[0m\u001b[0;34m\u001b[0m\u001b[0m\n\u001b[1;32m    123\u001b[0m     \u001b[0;32mreturn\u001b[0m \u001b[0mdst\u001b[0m\u001b[0;34m\u001b[0m\u001b[0;34m\u001b[0m\u001b[0m\n",
            "\u001b[0;31mIsADirectoryError\u001b[0m: [Errno 21] Is a directory: '/content'"
          ]
        }
      ],
      "source": [
        "shutil.copyfile(os.path.join(save_dir,'tox21-featurized/CircularFingerprint_size_1024/RandomScaffoldSplitter/BalancingTransformer/train_dir/shard-0-ids.npy'),'/content')"
      ]
    },
    {
      "cell_type": "code",
      "execution_count": null,
      "metadata": {
        "id": "3leQkIgS8s-M"
      },
      "outputs": [],
      "source": [
        "import shutil"
      ]
    },
    {
      "cell_type": "code",
      "execution_count": null,
      "metadata": {
        "colab": {
          "base_uri": "https://localhost:8080/",
          "height": 35
        },
        "id": "J29WnbOY86Uj",
        "outputId": "a32f4d8a-9ef4-4817-bc8c-343dc91b25de"
      },
      "outputs": [
        {
          "data": {
            "application/vnd.google.colaboratory.intrinsic+json": {
              "type": "string"
            },
            "text/plain": [
              "'/content'"
            ]
          },
          "execution_count": 101,
          "metadata": {
            "tags": []
          },
          "output_type": "execute_result"
        }
      ],
      "source": [
        "pwd"
      ]
    },
    {
      "cell_type": "code",
      "execution_count": null,
      "metadata": {
        "id": "OKCW7Kxm81B2"
      },
      "outputs": [],
      "source": []
    },
    {
      "cell_type": "code",
      "execution_count": null,
      "metadata": {
        "id": "HRYcoTROq2h_"
      },
      "outputs": [],
      "source": []
    },
    {
      "cell_type": "code",
      "execution_count": null,
      "metadata": {
        "id": "JYL4Fq1uq2th"
      },
      "outputs": [],
      "source": [
        "!mkdir -p '/content/drive/MyDrive/GMLG_Research/Data/DeepChem/'"
      ]
    }
  ],
  "metadata": {
    "colab": {
      "collapsed_sections": [],
      "name": "DeepChem-V2_Y_Generator.ipynb",
      "provenance": []
    },
    "kernelspec": {
      "display_name": "Python 3.9.7 ('GNN1')",
      "language": "python",
      "name": "python3"
    },
    "language_info": {
      "name": "python",
      "version": "3.9.7"
    },
    "vscode": {
      "interpreter": {
        "hash": "87ffea2e41b6ead491fde35e7bf5b9e0d430364dfdc38aeafa8d259bf27dfbce"
      }
    }
  },
  "nbformat": 4,
  "nbformat_minor": 0
}
