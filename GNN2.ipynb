{
  "cells": [
    {
      "cell_type": "code",
      "execution_count": null,
      "metadata": {
        "id": "p5_nyNmepeAA"
      },
      "outputs": [],
      "source": []
    },
    {
      "cell_type": "code",
      "execution_count": null,
      "metadata": {
        "id": "SSkylKa7jPr1"
      },
      "outputs": [],
      "source": [
        "%%capture\n",
        "try:\n",
        "  already_installed\n",
        "except:  \n",
        "    !pip install kora\n",
        "    !pip install dgl\n",
        "    !pip install dgl-cu101\n",
        "    !pip install --pre dgl-cu101\n",
        "    !pip install dgllife\n",
        "    # !pip install -q torch-scatter -f https://pytorch-geometric.com/whl/torch-1.7.0+cu101.html\n",
        "    # !pip install -q torch-sparse -f https://pytorch-geometric.com/whl/torch-1.7.0+cu101.html\n",
        "    # !pip install -q torch-geometric\n",
        "    !pip install torch_optimizer\n",
        "    #!pip install pytorch_lightning\n",
        "    import sys\n",
        "    import time\n",
        "    import dgl\n",
        "    import dgllife\n",
        "    import torch \n",
        "    import pickle\n",
        "    from IPython.display import clear_output\n",
        "    import networkx as nx\n",
        "    import dgl.function as fn\n",
        "    import torch.nn.functional as F\n",
        "    import torch.nn as nn\n",
        "    sys.path.append('/usr/local/lib/python3.6/dist-packages/') # For using RDKit utilizing KORA\n",
        "    import kora.install.rdkit\n",
        "    from rdkit import Chem\n",
        "    from rdkit.Chem import Descriptors\n",
        "    from rdkit.Chem.Draw import IPythonConsole\n",
        "    from rdkit.Chem import ChemicalFeatures\n",
        "    from rdkit import RDConfig\n",
        "    from dgllife.utils import featurizers as fs\n",
        "    from torch.utils.data import DataLoader\n",
        "    import networkx as nx\n",
        "    import matplotlib.pyplot as plt\n",
        "    import torch_optimizer as optim\n",
        "    # import pytorch_lightning as pl  \n",
        "    # from pytorch_lightning.metrics.classification import AUROC\n",
        "    # from pytorch_lightning.metrics.classification import AveragePrecision\n",
        "    # from pytorch_lightning.metrics.classification import Recall\n",
        "    # from pytorch_lightning.metrics.classification import Precision\n",
        "    # from pytorch_lightning.metrics.classification import ConfusionMatrix\n",
        "    from sklearn.metrics import roc_auc_score\n",
        "    from sklearn.model_selection import train_test_split\n",
        "    import pandas as pd\n",
        "    import numpy as np\n",
        "    import itertools\n",
        "    import os\n",
        "    %matplotlib inline\n",
        "    import warnings\n",
        "    warnings.filterwarnings(\"ignore\")\n",
        "    # Fix Seeds\n",
        "    # Set a seed value\n",
        "    seed_value= 213 \n",
        "    # 1. Set `PYTHONHASHSEED` environment variable at a fixed value\n",
        "    os.environ['PYTHONHASHSEED']=str(seed_value)\n",
        "    # 2. Set `python` built-in pseudo-random generator at a fixed value\n",
        "    import random \n",
        "    random.seed(seed_value)\n",
        "    # 3. Set `numpy` pseudo-random generator at a fixed value\n",
        "    np.random.seed(seed_value)\n",
        "    # 4. Set `pytorch` pseudo-random generator at a fixed value\n",
        "    torch.manual_seed(seed_value)\n",
        "    # 5. Set `dgl` pseudo-random generator at a fixed value\n",
        "    dgl.seed(seed_value)\n",
        "    # 6. For layers that introduce randomness like dropout, make sure to set seed values \n",
        "    # model.add(Dropout(0.25, seed=seed_value))\n",
        "    already_installed=True"
      ]
    },
    {
      "cell_type": "code",
      "execution_count": null,
      "metadata": {
        "colab": {
          "base_uri": "https://localhost:8080/"
        },
        "id": "jkndCOAjjRib",
        "outputId": "97d82f4f-11d6-46be-b20f-1a1c653bae23"
      },
      "outputs": [
        {
          "name": "stdout",
          "output_type": "stream",
          "text": [
            "Mounted at /content/drive\n"
          ]
        }
      ],
      "source": [
        "from google.colab import drive\n",
        "drive.mount('/content/drive')"
      ]
    },
    {
      "cell_type": "code",
      "execution_count": null,
      "metadata": {
        "colab": {
          "base_uri": "https://localhost:8080/"
        },
        "id": "w8wt0x558oJF",
        "outputId": "3cbcbb3a-d99e-43ee-9817-d7df5472c6df"
      },
      "outputs": [
        {
          "name": "stderr",
          "output_type": "stream",
          "text": [
            "RDKit WARNING: [07:25:44] WARNING: not removing hydrogen atom without neighbors\n"
          ]
        },
        {
          "name": "stdout",
          "output_type": "stream",
          "text": [
            "/content\n",
            "Archive:  /content/drive/MyDrive/GMLG_Research/Tox_21_Final/tox21-global-cdf-rdkit.zip\n",
            "  inflating: tox21-global-cdf-rdkit.csv  \n",
            "Archive:  /content/drive/MyDrive/GMLG_Research/Tox_21_Final/Node_Features_AF3_NOH.zip\n",
            "  inflating: Node_Features_AF3_NOH.pickle  \n"
          ]
        },
        {
          "name": "stderr",
          "output_type": "stream",
          "text": [
            "RDKit WARNING: [07:25:53] WARNING: not removing hydrogen atom without neighbors\n"
          ]
        },
        {
          "name": "stdout",
          "output_type": "stream",
          "text": [
            "Start initializing RDKit molecule instances...\n",
            "Creating RDKit molecule instance 1000/7812\n",
            "Creating RDKit molecule instance 2000/7812\n"
          ]
        },
        {
          "name": "stderr",
          "output_type": "stream",
          "text": [
            "RDKit WARNING: [07:26:01] WARNING: not removing hydrogen atom without neighbors\n"
          ]
        },
        {
          "name": "stdout",
          "output_type": "stream",
          "text": [
            "Creating RDKit molecule instance 3000/7812\n",
            "Creating RDKit molecule instance 4000/7812\n",
            "Creating RDKit molecule instance 5000/7812\n",
            "Creating RDKit molecule instance 6000/7812\n",
            "Creating RDKit molecule instance 7000/7812\n",
            "Start computing Bemis-Murcko scaffolds.\n",
            "Computing Bemis-Murcko for compound 1000/7812\n",
            "Computing Bemis-Murcko for compound 2000/7812\n",
            "Computing Bemis-Murcko for compound 3000/7812\n",
            "Computing Bemis-Murcko for compound 4000/7812\n",
            "Computing Bemis-Murcko for compound 5000/7812\n",
            "Computing Bemis-Murcko for compound 6000/7812\n",
            "Computing Bemis-Murcko for compound 7000/7812\n"
          ]
        }
      ],
      "source": [
        "# Data Generation \n",
        "\n",
        "def bond_is_in_ring_list_one_hot(bond, allowable_set=None, encode_unknown=False):\n",
        "          list = [3,4,5] # List denotes the size of cycles\n",
        "          return [bond.IsInRing()]+[bond.IsInRingSize(i) for i in list]\n",
        "\n",
        "class CanonicalBondFeaturizer(fs.BaseBondFeaturizer):\n",
        "       def __init__(self, bond_data_field='e', self_loop=False):\n",
        "        super(CanonicalBondFeaturizer, self).__init__(\n",
        "            featurizer_funcs={bond_data_field: fs.ConcatFeaturizer(\n",
        "                [fs.bond_type_one_hot,\n",
        "                 fs.bond_is_conjugated,\n",
        "                 fs.bond_is_in_ring,\n",
        "                 fs.bond_stereo_one_hot,\n",
        "                 fs.bond_direction_one_hot,\n",
        "                 bond_is_in_ring_list_one_hot\n",
        "                 ]\n",
        "            )}, self_loop=self_loop)\n",
        "        \n",
        "CanonicalBondFeaturizer = CanonicalBondFeaturizer()\n",
        "\n",
        "# Tox21_dataset = pd.read_csv('https://deepchemdata.s3-us-west-1.amazonaws.com/datasets/tox21.csv.gz', compression='gzip').fillna(0)\n",
        "\n",
        "# Edge_features=[]\n",
        "# no_edge=[]\n",
        "# for i in range(Tox21_dataset.smiles.size):\n",
        "#   try:\n",
        "#     Edge_features.append(CanonicalBondFeaturizer(Chem.MolFromSmiles(Tox21_dataset.smiles[i]))['e'])\n",
        "#   except:\n",
        "#     no_edge.append(i)\n",
        "#     Edge_features.append('no_edge')\n",
        "\n",
        "# Tox21_dataset.drop(no_edge, inplace=True)\n",
        "\n",
        "# for i in range(len(no_edge)):\n",
        "#   del Edge_features[no_edge[i]-i]\n",
        "\n",
        "# %cd /content/\n",
        "\n",
        "# if not os.path.exists(\"/content/tox21-global-cdf-rdkit.csv\"):\n",
        "#   !unzip '/content/drive/MyDrive/GMLG_Research/Tox_21_Final/tox21-global-cdf-rdkit.zip'\n",
        "#   !unzip '/content/drive/MyDrive/GMLG_Research/Tox_21_Final/Node_features_AF_NOH.zip'\n",
        "\n",
        "# global_fetures = torch.Tensor(pd.read_csv('tox21-global-cdf-rdkit.csv').iloc[:,1:].values)\n",
        "# with open('Node_features_AF_NOH.pickle', 'rb') as handle:\n",
        "#     Node_features = pickle.load(handle)\n",
        "1., 1., 1., 1., 1., 1., 1., 1., 1., 1., 1., 1.# for i in range(len(no_edge)):\n",
        "#   del Node_features[no_edge[i]-i]\n",
        "\n",
        "# for i in range(len(no_edge)):\n",
        "#   global_fetures = global_fetures [torch.arange(global_fetures.size (0))!= no_edge[i] - i]\n",
        "\n",
        "class DGLDatasetTox(torch.utils.data.Dataset):\n",
        "\n",
        "    def __init__(self):\n",
        "\n",
        "        Tox21_dataset = pd.read_csv('https://deepchemdata.s3-us-west-1.amazonaws.com/datasets/tox21.csv.gz', compression='gzip').fillna(0)\n",
        "        \n",
        "        Edge_features=[]\n",
        "        no_edge=[]\n",
        "        for i in range(Tox21_dataset.smiles.size):\n",
        "          try:\n",
        "            Edge_features.append(CanonicalBondFeaturizer(Chem.MolFromSmiles(Tox21_dataset.smiles[i]))['e'])\n",
        "          except:\n",
        "            no_edge.append(i)\n",
        "            Edge_features.append('no_edge')\n",
        "\n",
        "        Tox21_dataset.drop(no_edge, inplace=True)\n",
        "\n",
        "        for i in range(len(no_edge)):\n",
        "          del Edge_features[no_edge[i]-i]\n",
        "\n",
        "        %cd /content/\n",
        "\n",
        "        if not os.path.exists(\"/content/tox21-global-cdf-rdkit.csv\"):\n",
        "          !unzip '/content/drive/MyDrive/GMLG_Research/Tox_21_Final/tox21-global-cdf-rdkit.zip'\n",
        "          !unzip '/content/drive/MyDrive/GMLG_Research/Tox_21_Final/Node_Features_AF3_NOH.zip'\n",
        "\n",
        "        #global_fetures = torch.Tensor(pd.read_csv('tox21-global-cdf-rdkit.csv').fillna(0).iloc[:,1:].values) # 101 NaN: should be addrressed correctly\n",
        "        gf_df = pd.read_csv('tox21-global-cdf-rdkit.csv')\n",
        "        global_fetures = torch.Tensor(gf_df.fillna(gf_df.mean()).iloc[:,1:].values) # 101 NaN; fill mean\n",
        "\n",
        "        with open('Node_Features_AF3_NOH.pickle', 'rb') as handle:\n",
        "            Node_features = pickle.load(handle)\n",
        "        Node_features[1910][1][-3] = 1.1 # problem with the atom\n",
        "        for i in range(len(no_edge)):\n",
        "          del Node_features[no_edge[i]-i]\n",
        "\n",
        "        for i in range(len(no_edge)):\n",
        "          global_fetures = global_fetures [torch.arange(global_fetures.size (0))!= no_edge[i] - i]\n",
        "\n",
        "        self.dgl_graphs = []\n",
        "        for i in range(len(Node_features)):\n",
        "          mol = Chem.MolFromSmiles(Tox21_dataset.iloc[i,-1])\n",
        "          self.dgl_graphs.append(dgllife.utils.mol_to_bigraph(mol, canonical_atom_order=False))\n",
        "          self.dgl_graphs[i].ndata['h_0'] = Node_features[i]\n",
        "          self.dgl_graphs[i].edata['e_0'] = Edge_features[i]\n",
        "\n",
        "        self.smiles = []\n",
        "        for o in range(len(self.dgl_graphs)):\n",
        "          self.smiles.append(Tox21_dataset.iloc[o,13])\n",
        "          \n",
        "        self.global_fetures = global_fetures\n",
        "        self.labels = Tox21_dataset.iloc[:,:12].values\n",
        "        self.masks = Tox21_dataset.replace({0: 1}).iloc[:,:12].values        \n",
        "        \n",
        "        # # Unzip the dataset and read its csv file, and fill in NaN values with 0\n",
        "        # self.csv = pd.read_csv(csv_url, compression='gzip').fillna(0) \n",
        "\n",
        "        # # Make masks for labels (0 as NaN value, and 1 as other values)\n",
        "        # self.masks_csv = pd.read_csv(csv_url, compression='gzip').replace({0: 1}).fillna(0)\n",
        "\n",
        "        # # Split smiles, labels, and masks columns as lists\n",
        "        # self.smiles = self.csv.iloc[:,13]\n",
        "        # self.labels = self.csv.iloc[:,:12].values\n",
        "        # self.masks = self.masks_csv.iloc[:,:12].values \n",
        "\n",
        "    def __len__(self):\n",
        "        return len(self.dgl_graphs)\n",
        "\n",
        "    def __getitem__(self, idx):\n",
        "        return  self.smiles[idx], self.dgl_graphs[idx], self.global_fetures[idx], torch.Tensor(self.labels[idx]), torch.Tensor(self.masks[idx])\n",
        "        \n",
        "dataset = DGLDatasetTox()\n",
        "\n",
        "# Train, validation, and test set split\n",
        "train_set, val_set, test_set = dgllife.utils.ScaffoldSplitter.train_val_test_split(dataset, frac_val=0.1, frac_test=0.1)\n",
        "\n",
        "def collate(batch):\n",
        "    # batch is a list of triples (graphs, labels, masks)\n",
        "    # Concatenate a sequence of graphs\n",
        "    \n",
        "    smiles = [e[0] for e in batch]\n",
        "    \n",
        "    graphs = [e[1] for e in batch]\n",
        "    g = dgl.batch(graphs)\n",
        "\n",
        "    gf = [e[2] for e in batch]\n",
        "    gf = torch.stack(gf, 0)\n",
        "\n",
        "    # Concatenate a sequence of tensors (labels) along a new dimension\n",
        "    labels = [e[3] for e in batch]\n",
        "    labels = torch.stack(labels, 0)\n",
        "\n",
        "    # Concatenate a sequence of tensors (masks) along a new dimension\n",
        "    masks = [e[4] for e in batch]\n",
        "    masks = torch.stack(masks, 0)\n",
        "\n",
        "    return smiles, g, gf, labels, masks\n",
        "\n",
        "def loader(batch_size=64):\n",
        "\n",
        "    train_dataloader = DataLoader(train_set,\n",
        "                              batch_size=batch_size,\n",
        "                              collate_fn=collate,\n",
        "                              drop_last=False,\n",
        "                              shuffle=True)\n",
        "\n",
        "    val_dataloader =  DataLoader(val_set,\n",
        "                             batch_size=batch_size,\n",
        "                             collate_fn=collate,\n",
        "                             drop_last=False,\n",
        "                             shuffle=False)\n",
        "\n",
        "    test_dataloader = DataLoader(test_set,\n",
        "                             batch_size=batch_size,\n",
        "                             collate_fn=collate,\n",
        "                             drop_last=False,\n",
        "                             shuffle=False)\n",
        "    \n",
        "    return train_dataloader, val_dataloader, test_dataloader\n",
        "\n",
        "# borrowed form: https://stackoverflow.com/a/62508086\n",
        "from prettytable import PrettyTable\n",
        "\n",
        "def count_parameters(model):\n",
        "    table = PrettyTable([\"Modules\", \"Parameters\"])\n",
        "    total_params = 0\n",
        "    for name, parameter in model.named_parameters():\n",
        "        if not parameter.requires_grad: continue\n",
        "        param = parameter.numel()\n",
        "        table.add_row([name, param])\n",
        "        total_params+=param\n",
        "    print(table)\n",
        "    print(f\"Total Trainable Params: {total_params}\")\n",
        "    return total_params\n",
        "    \n",
        "#count_parameters(model)\n",
        "\n",
        "class EarlyStopping:\n",
        "    \"\"\"Early stops the training if validation loss doesn't improve after a given patience.\"\"\"\n",
        "    def __init__(self, patience=7, verbose=False, delta=0, path='checkpoint.pt', trace_func=print):\n",
        "        \"\"\"\n",
        "        Args:\n",
        "            patience (int): How long to wait after last time validation loss improved.\n",
        "                            Default: 7\n",
        "            verbose (bool): If True, prints a message for each validation loss improvement. \n",
        "                            Default: False\n",
        "            delta (float): Minimum change in the monitored quantity to qualify as an improvement.\n",
        "                            Default: 0\n",
        "            path (str): Path for the checkpoint to be saved to.\n",
        "                            Default: 'checkpoint.pt'\n",
        "            trace_func (function): trace print function.\n",
        "                            Default: print            \n",
        "        \"\"\"\n",
        "        self.patience = patience\n",
        "        self.verbose = verbose\n",
        "        self.counter = 0\n",
        "        self.best_score = None\n",
        "        self.early_stop = False\n",
        "        self.val_loss_min = np.Inf\n",
        "        self.delta = delta\n",
        "        self.path = path\n",
        "        self.trace_func = trace_func\n",
        "\n",
        "    def __call__(self, val_loss, model):\n",
        "\n",
        "        score = -val_loss\n",
        "\n",
        "        if self.best_score is None:\n",
        "            self.best_score = score\n",
        "            self.save_checkpoint(val_loss, model)\n",
        "        elif score < self.best_score + self.delta:\n",
        "            self.counter += 1\n",
        "            self.trace_func(f'EarlyStopping counter: {self.counter} out of {self.patience}')\n",
        "            if self.counter >= self.patience:\n",
        "                self.early_stop = True\n",
        "        else:\n",
        "            self.best_score = score\n",
        "            self.save_checkpoint(val_loss, model)\n",
        "            self.counter = 0\n",
        "\n",
        "    def save_checkpoint(self, val_loss, model):\n",
        "        '''Saves model when validation loss decrease.'''\n",
        "        if self.verbose:\n",
        "            self.trace_func(f'Validation loss decreased ({self.val_loss_min:.6f} --> {val_loss:.6f}).  Saving model ...')\n",
        "        torch.save(model.state_dict(), self.path)\n",
        "        self.val_loss_min = val_loss\n",
        "\n",
        "def my_loss(output, label, mask=None):\n",
        "    criterion = nn.BCELoss(reduction='none')\n",
        "    if mask == None:\n",
        "        loss = torch.sum(torch.mean(criterion(output,label), axis=1))\n",
        "    else: \n",
        "        loss = torch.sum(torch.mean(mask*criterion(output,label), axis=1))\n",
        "    return loss \n",
        "\n",
        "def train_model(model, batch_size, optimizer, patience=10, n_epochs=1):\n",
        "    #metric=AUROC()\n",
        "    metric = roc_auc_score\n",
        "    train_dataloader, val_dataloader, test_dataloader  = loader(batch_size)\n",
        "    train_losses = []\n",
        "    val_losses = []\n",
        "    early_stopping = EarlyStopping(patience=patience, verbose=True) # initialize the early_stopping object\n",
        "    start_time = time.time()\n",
        "    #optimizer = torch.optim.Adam(model.parameters(), lr=0.001)\n",
        "\n",
        "    for epoch in range(1, n_epochs+1):\n",
        "        epoch_train_loss = 0\n",
        "        epoch_val_loss = 0\n",
        "        \n",
        "        model.train() #Prepare model for training\n",
        "        for i, (_, mol_dgl_graph, fg, labels, masks) in enumerate(train_dataloader):\n",
        "            mol_dgl_graph=mol_dgl_graph.to(device)\n",
        "            labels=labels.to(device)\n",
        "            masks=masks.to(device)\n",
        "            fg=fg.to(device)\n",
        "            prediction = model(mol_dgl_graph, fg)\n",
        "            loss_train = my_loss(prediction, labels, masks)\n",
        "            optimizer.zero_grad()\n",
        "            loss_train.backward()\n",
        "            optimizer.step()\n",
        "            epoch_train_loss += loss_train.detach().item()\n",
        "        epoch_train_loss /= (len(train_set))\n",
        "        train_losses.append(epoch_train_loss)\n",
        "\n",
        "        model.eval() #Prepare model for evaluation\n",
        "        for i, (_, mol_dgl_graph, fg, labels, masks) in enumerate(val_dataloader):\n",
        "              mol_dgl_graph=mol_dgl_graph.to(device)\n",
        "              labels=labels.to(device)\n",
        "              masks=masks.to(device)\n",
        "              fg=fg.to(device)\n",
        "              prediction = model(mol_dgl_graph, fg)\n",
        "              loss_val = my_loss(prediction, labels, masks)\n",
        "              epoch_val_loss += loss_val.detach().item()\n",
        "        epoch_val_loss /= (len(val_set))\n",
        "        epoch_len = len(str(n_epochs))\n",
        "        clear_output()\n",
        "        print(f'[{epoch:>{epoch_len}}/{n_epochs:>{epoch_len}}] ' +\n",
        "                     f'train_loss: {epoch_train_loss:.5f} ' +\n",
        "                     f'valid_loss: {epoch_val_loss:.5f}')\n",
        "        '''\n",
        "        early_stopping needs the validation loss to check if it has decreased, \n",
        "        and if it has, it will make a checkpoint of the current model\n",
        "        '''\n",
        "        early_stopping(epoch_val_loss, model)\n",
        "        val_losses.append(epoch_val_loss)\n",
        "        if early_stopping.early_stop:\n",
        "            print(\"Early Stopping\")\n",
        "            break\n",
        "\n",
        "    print('\\n Training Time was', time.time()-start_time, 'seconds in', device)\n",
        "    model.load_state_dict(torch.load('checkpoint.pt')) #loading the last checkpoint with the best model\n",
        "\n",
        "    print('\\n')\n",
        "    ##Learning Curve\n",
        "    plt.figure(figsize=(7,5))\n",
        "    plt.figure(figsize=(7,5))\n",
        "    # Draw lines\n",
        "    plt.plot(range(len(train_losses)), train_losses, '--', color=\"red\",  label=\"Train loss\")\n",
        "    plt.plot(range(len(val_losses)), val_losses, color=\"green\", label=\"Validation loss\")\n",
        "    # Create plot\n",
        "    plt.title(\"Learning Curve\")\n",
        "    plt.xlabel(\"Epoch\"), plt.ylabel(\"Cross entropy loss\"), plt.legend(loc=\"best\")\n",
        "    plt.show()\n",
        " \n",
        "    with torch.no_grad():\n",
        "        iter = 0\n",
        "        prediction_all= torch.empty(0, device=device)\n",
        "        labels_all= torch.empty(0, device=device)\n",
        "        masks_all= torch.empty(0, device=device)\n",
        "        for i, (_, mol_dgl_graph, fg, labels, masks) in enumerate(test_dataloader):\n",
        "            mol_dgl_graph=mol_dgl_graph.to(device)\n",
        "            labels=labels.to(device)\n",
        "            masks=masks.to(device)\n",
        "            fg=fg.to(device)\n",
        "            prediction = model(mol_dgl_graph, fg)\n",
        "            prediction_all = torch.cat((prediction_all, prediction), 0)\n",
        "            labels_all = torch.cat((labels_all, labels), 0)\n",
        "            masks_all = torch.cat((masks_all, labels), 0)\n",
        "        average = torch.tensor([0.], device=device)\n",
        "        for i in range(12):\n",
        "          #average += metric(prediction_all[:, i].view(-1), labels_all[:, i].view(-1).int()) with pytorch-lightening\n",
        "          average += metric(labels_all[:, i].view(-1).int().to('cpu'), prediction_all[:, i].view(-1).to('cpu')) \n",
        "    print('\\n Test AUC is', average.item()/12)\n",
        "\n",
        "    return  model, train_losses, val_losses "
      ]
    },
    {
      "cell_type": "code",
      "execution_count": null,
      "metadata": {
        "id": "Y3zY2GzpjTTE"
      },
      "outputs": [],
      "source": [
        "%%capture\n",
        "if torch.cuda.is_available():  \n",
        "  device = \"cuda:0\" \n",
        "else:  \n",
        "  device = \"cpu\" \n",
        "\n",
        "class GGNN(nn.Module):\n",
        " \n",
        "    def __init__(self, feat_v_dim, feat_e_dim, feat_g_dim, state_v_dim, state_e_dim, state_g_dim, hidden_e_dim, hidden_m_dim, message_dim, hidden_v_dim, hidden_r_dim, rep_dim, rnn_layers, hidden1_alpha_dim, hidden2_alpha_dim, rnn_initial_state='Default', act1=\"relu\", act2=\"relu\", act3=\"relu\", act4=\"relu\", act5=\"relu\", act6='tanh', act7=\"relu\", num_layers=5):\n",
        "        super().__init__()\n",
        "        self.feat_v_dim = feat_v_dim\n",
        "        self.feat_e_dim = feat_e_dim\n",
        "        self.feat_g_dim = feat_g_dim\n",
        "        self.state_v_dim = state_v_dim\n",
        "        self.state_e_dim = state_e_dim\n",
        "        self.state_g_dim = state_g_dim\n",
        "        self.hidden_e_dim = hidden_e_dim\n",
        "        self.hidden_m_dim = hidden_m_dim\n",
        "        self.m_dim = message_dim\n",
        "        self.hidden_v_dim = hidden_v_dim\n",
        "        self.hidden_r_dim = hidden_r_dim\n",
        "        self.rep_dim = rep_dim\n",
        "        self.hidden1_alpha_dim = hidden1_alpha_dim\n",
        "        self.hidden2_alpha_dim = hidden2_alpha_dim\n",
        "        self.num_layers = num_layers\n",
        "        self.rnn_layers = rnn_layers \n",
        "\n",
        "        self.act1 = eval(\"torch.nn.functional.\"+act1)\n",
        "        self.act2 = eval(\"torch.nn.functional.\"+act2)\n",
        "        self.act3 = eval(\"torch.nn.functional.\"+act3)\n",
        "        self.act4 = eval(\"torch.nn.functional.\"+act4)\n",
        "        self.act5 = eval(\"torch.nn.functional.\"+act5)\n",
        "        self.act6 = act6\n",
        "        self.act7 = eval(\"torch.nn.functional.\"+act7)\n",
        "\n",
        "        # All linear layers have bias except the message function, for having zero message when input is zero (removed) \n",
        "        self.linear_0_v = nn.Linear(self.feat_v_dim, self.state_v_dim)\n",
        "        self.linear_0_e = nn.Linear(self.feat_e_dim, self.state_e_dim)\n",
        "        self.linear_0_g = nn.Linear(self.feat_g_dim, self.state_g_dim)\n",
        "        \n",
        "        self.linear_e_0 = nn.Linear(2*self.state_v_dim + 3*self.state_e_dim + self.state_g_dim, self.hidden_e_dim)\n",
        "        self.linear_e_1 = nn.Linear(self.hidden_e_dim, self.state_e_dim)\n",
        "\n",
        "        # Bias = False, for having zero message when input is zero (removed)\n",
        "        self.linear_m_0 = nn.Linear(self.state_v_dim + self.state_e_dim, self.hidden_m_dim, bias=False) \n",
        "        self.linear_m_1 = nn.Linear(self.hidden_m_dim, self.m_dim, bias=False)\n",
        "\n",
        "        self.linear_v_0 = nn.Linear(self.state_v_dim + 2*self.m_dim, self.hidden_v_dim)\n",
        "        self.linear_v_1 = nn.Linear(self.hidden_v_dim, self.state_v_dim)\n",
        "\n",
        "        self.linear_r_0 = nn.Linear(self.state_v_dim + 2*state_e_dim, self.hidden_r_dim)\n",
        "        self.linear_r_1 = nn.Linear(self.hidden_r_dim, self.state_g_dim)\n",
        "\n",
        "        self.rnn = nn.RNN(self.state_g_dim, self.rep_dim, self.rnn_layers, nonlinearity=self.act6)\n",
        "        if rnn_initial_state == 'Default':\n",
        "        #   self.rnn_initial_state = torch.Tensor([-3.2917e+01,  3.1963e+02,  6.4549e+02,  1.4563e+04,  2.5602e+02,\n",
        "        # -3.2917e+01,  1.9955e+04,  9.4602e+03,  2.2191e+02,  1.5999e+04,\n",
        "        #  1.7349e+04,  8.5626e-01,  2.6332e+03,  9.8306e+02,  1.1836e+03,\n",
        "        # -2.3718e+01,  6.6943e+03,  1.6386e+04,  4.5242e+02, -3.2917e+01,\n",
        "        # -2.6157e+01,  2.9339e+03,  8.3731e+00,  1.2738e+03,  1.2321e+03,\n",
        "        # -3.2832e+01,  7.4689e+03,  8.8645e+02, -3.0989e+01,  1.4922e+03]).to(device)\n",
        "          self.rnn_initial_state = torch.randn(self.rnn_layers, self.rep_dim).to(device)\n",
        "        else:\n",
        "          self.rnn_initial_state = rnn_initial_state.to(device)\n",
        "\n",
        "        self.linear_alpha_0 = nn.Linear(2*self.state_v_dim + 3*state_e_dim + self.state_g_dim + self.rep_dim + 1, self.hidden1_alpha_dim)\n",
        "        self.linear_alpha_1 = nn.Linear(self.hidden1_alpha_dim, self.hidden2_alpha_dim)\n",
        "        self.linear_alpha_2 = nn.Linear(self.hidden2_alpha_dim, 1)\n",
        "        self.batchnorm = nn.BatchNorm1d(1, affine=False)\n",
        "\n",
        "        # self.d1 = torch.nn.Dropout(p=0.2) \n",
        "        # self.d2 = torch.nn.Dropout(p=0.2) \n",
        "        # self.d3 = torch.nn.Dropout(p=0.2)\n",
        "        # if bias_v:\n",
        "        #     self.bias_v = torch.nn.Parameter(torch.FloatTensor(out_feat_1))\n",
        "        # else:\n",
        "        #     self.register_parameter('bias_v', None) \n",
        "\n",
        "        \"\"\"Reinitialize learnable parameters.\"\"\"\n",
        "        gain1 = nn.init.calculate_gain('relu')\n",
        "        nn.init.xavier_normal_(self.linear_0_v.weight, gain=gain1)\n",
        "        nn.init.xavier_normal_(self.linear_0_e.weight, gain=gain1)\n",
        "        nn.init.xavier_normal_(self.linear_0_g.weight, gain=gain1)\n",
        "        nn.init.xavier_normal_(self.linear_e_0.weight, gain=gain1)\n",
        "        nn.init.xavier_normal_(self.linear_e_1.weight, gain=gain1)\n",
        "        nn.init.xavier_normal_(self.linear_m_0.weight, gain=gain1)\n",
        "        nn.init.xavier_normal_(self.linear_m_1.weight, gain=gain1)\n",
        "        nn.init.xavier_normal_(self.linear_v_0.weight, gain=gain1)\n",
        "        nn.init.xavier_normal_(self.linear_v_1.weight, gain=gain1)\n",
        "        nn.init.xavier_normal_(self.linear_r_0.weight, gain=gain1)\n",
        "        nn.init.xavier_normal_(self.linear_r_1.weight, gain=gain1)\n",
        "        nn.init.xavier_normal_(self.linear_alpha_0.weight, gain=gain1)\n",
        "        nn.init.xavier_normal_(self.linear_alpha_1.weight, gain=gain1)\n",
        "        nn.init.xavier_normal_(self.linear_alpha_2.weight, gain=gain1)\n",
        "\n",
        "    ################################################################\n",
        "    def alpha_updater(self,input):\n",
        "\n",
        "      # It has a depth of 3\n",
        "      out = self.act7(self.linear_alpha_0(input))\n",
        "      out = self.act7(self.linear_alpha_1(out))\n",
        "      out = self.batchnorm(self.linear_alpha_2(out))\n",
        "      out = nn.functional.relu(nn.functional.tanh(out))\n",
        "      #out = nn.functional.relu(nn.functional.tanh(self.linear_alpha_2(out)))\n",
        "      #out = nn.functional.relu(self.linear_alpha_2(out))\n",
        "\n",
        "      return out\n",
        "\n",
        "    ################################################################\n",
        "    def node_reader(self,nodes):\n",
        "\n",
        "      cat = torch.cat((nodes.data['h'], nodes.data['e_alpha_agg_i'], nodes.data['e_alpha_agg_o']), 1)\n",
        "      out = self.act5(self.linear_r_0(cat))\n",
        "      out = self.act5(self.linear_r_1(out))\n",
        "\n",
        "      return {'r' : out}\n",
        "\n",
        "    ################################################################\n",
        "    def node_updater(self,nodes):\n",
        "\n",
        "      cat = torch.cat((nodes.data['h'], nodes.data['m_agg_i'], nodes.data['m_agg_o']), 1)\n",
        "      out=self.act4(self.linear_v_0(cat))\n",
        "      out=self.act4(self.linear_v_1(out))\n",
        "\n",
        "      return {'h' : out}\n",
        "\n",
        "    ################################################################\n",
        "    def edge_message(self,edges):\n",
        "\n",
        "      cat = torch.cat((edges.src['h'], edges.data['e_alpha']), 1)\n",
        "      # should not have bias to produce zero output in case of alpha zero \n",
        "      out=self.act3(self.linear_m_0(cat))\n",
        "      out=self.act3(self.linear_m_1(out))\n",
        "\n",
        "      return {'message' : out}\n",
        "\n",
        "\n",
        "    ################################################################\n",
        "    def edge_updater(self,input):\n",
        "\n",
        "      out=self.act2(self.linear_e_0(input))\n",
        "      out=self.act2(self.linear_e_1(out))\n",
        "\n",
        "      return out\n",
        "\n",
        "    ################################################################\n",
        "    def edges_cat(self, edges):\n",
        "\n",
        "      #cat = torch.cat((edges.src[\"h\"], edges.dst[\"h\"], edges.src[\"e_alpha_agg_i\"], edges.dst[\"e_alpha_agg_o\"]), 1) # Apparently false\n",
        "      cat = torch.cat((edges.data['e'], edges.src[\"h\"], edges.src[\"e_alpha_agg_i\"], edges.dst[\"h\"], edges.dst[\"e_alpha_agg_o\"]), 1)\n",
        "\n",
        "      return {'cat' : cat}\n",
        "\n",
        "    ################################################################\n",
        "    ################    Forward      ###################\n",
        "\n",
        "    def forward(self, mol_dgl_graph, fg):\n",
        "\n",
        "      # Initialization of the model\n",
        "      hg=torch.empty(0, device=device)\n",
        "      hG=torch.empty(0, device=device)\n",
        "      alpha=torch.empty(0, device=device)\n",
        "      alpha=torch.cat((alpha, torch.ones(mol_dgl_graph.number_of_edges(), dtype=torch.float, device=device).view(1,-1)), 0)\n",
        "      mol_dgl_graph_ub = dgl.unbatch(mol_dgl_graph)\n",
        "      len_batch = len(mol_dgl_graph_ub)\n",
        "      num_edges_ub = [mol_dgl_graph_ub[i].number_of_edges() for i in range(len_batch)] # dose not take time\n",
        "      \n",
        "      # Initial global state\n",
        "      hg = torch.cat((hg, self.act1(self.linear_0_g(fg)).view(1, len_batch,-1)), 0)\n",
        "      # hg_0 = self.act1(self.linear_0_g(fg))\n",
        "\n",
        "      # RNN in Pytorch\n",
        "      # input of shape (seq_len, batch, input_size) \n",
        "      # h_0 of shape (num_layers * num_directions, batch, hidden_size)\n",
        "      # output of shape (seq_len, batch, num_directions * hidden_size)\n",
        "      # h_n of shape (num_layers * num_directions, batch, hidden_size)\n",
        "      h_rnn=[]\n",
        "      #h_rnn_0= torch.div(self.rnn_initial_state.repeat(1, len_batch).view(len_batch, -1) + hg[0], 2)\n",
        "      h_rnn_0= hg[0]\n",
        "      h_rnn.append(h_rnn_0.view(self.rnn_layers, len_batch, -1))\n",
        "      #h_rnn.append(self.rnn_initial_state.repeat(1, len_batch).view(self.rnn_layers, len_batch, -1)) # -1 : self.rep_dim\n",
        "\n",
        "      with mol_dgl_graph.local_scope():\n",
        "\n",
        "        # Initial edge and node states\n",
        "        mol_dgl_graph.edata['e'] = self.act1(self.linear_0_e(mol_dgl_graph.edata[\"e_0\"]))\n",
        "        mol_dgl_graph.ndata['h'] = self.act1(self.linear_0_v(mol_dgl_graph.ndata[\"h_0\"]))\n",
        "\n",
        "        # Loop on layers\n",
        "        for i in range(self.num_layers):\n",
        "          \n",
        "          # multiplying edge states by alpha and their aggregation\n",
        "          mol_dgl_graph.edata['e_alpha'] = torch.mul(mol_dgl_graph.edata['e'], alpha[0].view(-1,1))\n",
        "          mol_dgl_graph.update_all(fn.copy_edge('e_alpha','m_e_alpha_i'), fn.sum('m_e_alpha_i','e_alpha_agg_i'))\n",
        "          mol_dgl_graph_rev = dgl.reverse(mol_dgl_graph, copy_edata=True)\n",
        "          mol_dgl_graph_rev.update_all(fn.copy_edge('e_alpha','m_e_alpha_o'), fn.sum('m_e_alpha_o','e_alpha_agg_o_buffer'))\n",
        "          mol_dgl_graph.ndata['e_alpha_agg_o'] = mol_dgl_graph_rev.ndata['e_alpha_agg_o_buffer']\n",
        "\n",
        "          # updating edges\n",
        "          mol_dgl_graph.apply_edges(self.edges_cat)\n",
        "          global_states=torch.empty(0, device=device)\n",
        "          for j in range(len_batch): # dose not take a long time; it's in the order of a few ms (tested!)\n",
        "            global_states=torch.cat((global_states, hg[i][j].repeat(num_edges_ub[j], 1)), 0)\n",
        "          mol_dgl_graph.edata['e_bu'] = torch.cat((mol_dgl_graph.edata['cat'], global_states), 1) # Bu: before updating\n",
        "          mol_dgl_graph.edata['e'] = self.edge_updater(mol_dgl_graph.edata['e_bu']) # applying the NN function for updating edges\n",
        "\n",
        "          # multiplying the new edge states by alpha and their aggregation\n",
        "          mol_dgl_graph.edata['e_alpha'] = torch.mul(mol_dgl_graph.edata['e'], alpha[0].view(-1,1))\n",
        "          mol_dgl_graph.update_all(fn.copy_edge('e_alpha','m_e_alpha_i'), fn.sum('m_e_alpha_i','e_alpha_agg_i'))\n",
        "          mol_dgl_graph_rev = dgl.reverse(mol_dgl_graph, copy_edata=True)\n",
        "          mol_dgl_graph_rev.update_all(fn.copy_edge('e_alpha','m_e_alpha_o'), fn.sum('m_e_alpha_o','e_alpha_agg_o_buffer'))\n",
        "          mol_dgl_graph.ndata['e_alpha_agg_o'] = mol_dgl_graph_rev.ndata['e_alpha_agg_o_buffer']\n",
        "\n",
        "          # calculating edge messages\n",
        "          mol_dgl_graph.apply_edges(self.edge_message)\n",
        "          \n",
        "          # aggregating messages\n",
        "          mol_dgl_graph.update_all(fn.copy_edge('message','m_i'), fn.sum('m_i','m_agg_i'))\n",
        "          mol_dgl_graph_rev = dgl.reverse(mol_dgl_graph, copy_edata=True)\n",
        "          mol_dgl_graph_rev.update_all(fn.copy_edge('message','m_o'), fn.sum('m_o','m_agg_o_buffer'))\n",
        "          mol_dgl_graph.ndata['m_agg_o'] = mol_dgl_graph_rev.ndata['m_agg_o_buffer']\n",
        "\n",
        "          # updating nodes\n",
        "          mol_dgl_graph.apply_nodes(self.node_updater)\n",
        "\n",
        "          # reading each node in graph with its incoming and outgoing edges\n",
        "          mol_dgl_graph.apply_nodes(self.node_reader)\n",
        "\n",
        "          # representation in this layer: aggregating r from all nodes\n",
        "          hg = torch.cat((hg, dgl.sum_nodes(mol_dgl_graph, 'r').view(1, len_batch,-1)),0)\n",
        "\n",
        "          # molecular representation untill this layer\n",
        "          hG_buffer, h_rnn_buffer = self.rnn(hg[i+1].view(1, len_batch, -1), h_rnn[i])\n",
        "          hG = torch.cat((hG, hG_buffer),0) # hG_buffer dosen't need reshaping as its shape is (1, len_batch, -1)\n",
        "          h_rnn.append(h_rnn_buffer)\n",
        "\n",
        "          # calculating next layer's alphas\n",
        "          mol_dgl_graph.apply_edges(self.edges_cat)\n",
        "          global_rep = torch.empty(0, device=device)\n",
        "          for j in range(len_batch): \n",
        "            global_rep = torch.cat((global_rep, torch.cat((hg[i+1][j].repeat(num_edges_ub[j],1), hG[i][j].repeat(num_edges_ub[j],1)), 1)), 0)\n",
        "          alpha = torch.cat((alpha, self.alpha_updater(torch.cat((mol_dgl_graph.edata['cat'], global_rep, alpha[i].view(-1,1)), 1)).view(1,-1)),0)\n",
        "\n",
        "        return (hG[-1], h_rnn[-1], alpha) # "
      ]
    },
    {
      "cell_type": "code",
      "execution_count": null,
      "metadata": {
        "colab": {
          "base_uri": "https://localhost:8080/",
          "height": 1000
        },
        "id": "aM9HC9l5PVjW",
        "outputId": "a1a80433-1164-4e65-d209-0e886c46ac9a"
      },
      "outputs": [
        {
          "name": "stdout",
          "output_type": "stream",
          "text": [
            "[ 90/200] train_loss: 0.22292 valid_loss: 0.22028\n",
            "EarlyStopping counter: 25 out of 25\n",
            "Early Stopping\n",
            "\n",
            " Training Time was 1218.9713714122772 seconds in cpu\n",
            "\n",
            "\n"
          ]
        },
        {
          "data": {
            "text/plain": [
              "<Figure size 504x360 with 0 Axes>"
            ]
          },
          "metadata": {
            "tags": []
          },
          "output_type": "display_data"
        },
        {
          "data": {
            "image/png": "[encoded data removed]",
            "text/plain": [
              "<Figure size 504x360 with 1 Axes>"
            ]
          },
          "metadata": {
            "needs_background": "light",
            "tags": []
          },
          "output_type": "display_data"
        },
        {
          "name": "stdout",
          "output_type": "stream",
          "text": [
            "\n",
            " Test AUC is 0.49786674976348877\n",
            "+----------------------------+------------+\n",
            "|          Modules           | Parameters |\n",
            "+----------------------------+------------+\n",
            "|   GNN1.linear_0_v.weight   |    870     |\n",
            "|    GNN1.linear_0_v.bias    |     30     |\n",
            "|   GNN1.linear_0_e.weight   |    570     |\n",
            "|    GNN1.linear_0_e.bias    |     30     |\n",
            "|   GNN1.linear_0_g.weight   |    6000    |\n",
            "|    GNN1.linear_0_g.bias    |     30     |\n",
            "|   GNN1.linear_e_0.weight   |    5400    |\n",
            "|    GNN1.linear_e_0.bias    |     30     |\n",
            "|   GNN1.linear_e_1.weight   |    900     |\n",
            "|    GNN1.linear_e_1.bias    |     30     |\n",
            "|   GNN1.linear_m_0.weight   |    1800    |\n",
            "|   GNN1.linear_m_1.weight   |    900     |\n",
            "|   GNN1.linear_v_0.weight   |    2700    |\n",
            "|    GNN1.linear_v_0.bias    |     30     |\n",
            "|   GNN1.linear_v_1.weight   |    900     |\n",
            "|    GNN1.linear_v_1.bias    |     30     |\n",
            "|   GNN1.linear_r_0.weight   |    2700    |\n",
            "|    GNN1.linear_r_0.bias    |     30     |\n",
            "|   GNN1.linear_r_1.weight   |    900     |\n",
            "|    GNN1.linear_r_1.bias    |     30     |\n",
            "|   GNN1.rnn.weight_ih_l0    |    900     |\n",
            "|   GNN1.rnn.weight_hh_l0    |    900     |\n",
            "|    GNN1.rnn.bias_ih_l0     |     30     |\n",
            "|    GNN1.rnn.bias_hh_l0     |     30     |\n",
            "| GNN1.linear_alpha_0.weight |    6330    |\n",
            "|  GNN1.linear_alpha_0.bias  |     30     |\n",
            "| GNN1.linear_alpha_1.weight |    900     |\n",
            "|  GNN1.linear_alpha_1.bias  |     30     |\n",
            "| GNN1.linear_alpha_2.weight |     30     |\n",
            "|  GNN1.linear_alpha_2.bias  |     1      |\n",
            "|      linear_1.weight       |    450     |\n",
            "|       linear_1.bias        |     15     |\n",
            "|      linear_2.weight       |    180     |\n",
            "|       linear_2.bias        |     12     |\n",
            "+----------------------------+------------+\n",
            "Total Trainable Params: 33748\n"
          ]
        },
        {
          "data": {
            "text/plain": [
              "33748"
            ]
          },
          "execution_count": 8,
          "metadata": {
            "tags": []
          },
          "output_type": "execute_result"
        }
      ],
      "source": [
        "seed_value= 100 \n",
        "random.seed(seed_value)\n",
        "np.random.seed(seed_value)\n",
        "torch.manual_seed(seed_value)\n",
        "dgl.seed(seed_value)\n",
        "\n",
        "# Test without BN before alpha updater\n",
        "class GNN(nn.Module):\n",
        "    def __init__(self):\n",
        "        super().__init__()\n",
        "        self.GNN1 = GGNN(29,19,200,30,30,30,30,30,30,30,30,30,1,30,30,num_layers=2)\n",
        "        self.linear_1 = nn.Linear(30, 15)\n",
        "        self.linear_2 = nn.Linear(15, 12)\n",
        "        self.reset_parameters()\n",
        "    def reset_parameters(self):\n",
        "        \"\"\"Reinitialize learnable parameters.\"\"\"\n",
        "        gain = nn.init.calculate_gain('sigmoid')\n",
        "        nn.init.xavier_normal_(self.linear_1.weight, gain=gain)\n",
        "        nn.init.xavier_normal_(self.linear_2.weight, gain=gain)  \n",
        "    def forward(self, mol_dgl_graph,fg):\n",
        "      output = self.GNN1(mol_dgl_graph,fg)[0]\n",
        "      output = nn.functional.relu(self.linear_1(output))\n",
        "      output = nn.BatchNorm1d(15, affine=False)(output)\n",
        "      output = nn.functional.sigmoid(self.linear_2(output))     \n",
        "      return output\n",
        "model= GNN().to(device)\n",
        "optimizer = torch.optim.Adam(model.parameters(), lr=0.001)\n",
        "model, train_losses, val_losses = train_model(model, batch_size=32, optimizer=optimizer, patience=25, n_epochs=10)\n",
        "model, train_losses, val_losses = train_model(model, batch_size=32, optimizer=optimizer, patience=25, n_epochs=200)\n",
        "count_parameters(model)"
      ]
    },
    {
      "cell_type": "code",
      "execution_count": null,
      "metadata": {
        "colab": {
          "base_uri": "https://localhost:8080/"
        },
        "id": "OkauOm_F08xf",
        "outputId": "98fa7615-9fce-4974-e0f3-1d56a1fa8a21"
      },
      "outputs": [
        {
          "data": {
            "text/plain": [
              "tensor([[1.0000, 1.0000, 1.0000, 1.0000, 1.0000, 1.0000, 1.0000, 1.0000, 1.0000,\n",
              "         1.0000, 1.0000, 1.0000, 1.0000, 1.0000, 1.0000, 1.0000, 1.0000, 1.0000,\n",
              "         1.0000, 1.0000, 1.0000, 1.0000, 1.0000, 1.0000],\n",
              "        [0.2170, 0.2170, 0.2170, 0.2170, 0.2169, 0.2170, 0.2176, 0.2174, 0.2174,\n",
              "         0.2176, 0.2170, 0.2169, 0.2170, 0.2170, 0.2170, 0.2170, 0.2174, 0.2176,\n",
              "         0.2170, 0.2169, 0.2170, 0.2170, 0.2170, 0.2170],\n",
              "        [0.2353, 0.2335, 0.2335, 0.2353, 0.2428, 0.2426, 0.2549, 0.2527, 0.2527,\n",
              "         0.2549, 0.2426, 0.2428, 0.2335, 0.2353, 0.2335, 0.2353, 0.2527, 0.2549,\n",
              "         0.2426, 0.2428, 0.2335, 0.2353, 0.2335, 0.2353],\n",
              "        [0.6026, 0.5529, 0.5529, 0.6026, 0.8776, 0.8700, 0.9724, 0.9661, 0.9661,\n",
              "         0.9724, 0.8700, 0.8776, 0.5529, 0.6026, 0.5529, 0.6026, 0.9661, 0.9724,\n",
              "         0.8700, 0.8776, 0.5529, 0.6026, 0.5529, 0.6026]], device='cuda:0',\n",
              "       grad_fn=<CatBackward>)"
            ]
          },
          "execution_count": 58,
          "metadata": {
            "tags": []
          },
          "output_type": "execute_result"
        }
      ],
      "source": [
        "train_dataloader, val_dataloader, test_dataloader  = loader(1)\n",
        "for i, (smiles, mol_dgl_graph, globalss, labels, masks) in enumerate(train_dataloader):\n",
        "  if i == 1:\n",
        "    break\n",
        "i=model.GNN1(mol_dgl_graph.to(device), globalss.to(device))\n",
        "i[2]"
      ]
    },
    {
      "cell_type": "code",
      "execution_count": null,
      "metadata": {
        "colab": {
          "base_uri": "https://localhost:8080/"
        },
        "id": "h0tMZD188uk4",
        "outputId": "47d14eb5-9ed3-4565-fc7b-547a9ae8d0a7"
      },
      "outputs": [
        {
          "name": "stdout",
          "output_type": "stream",
          "text": [
            "torch.Size([6249, 30])\n",
            "torch.Size([30])\n"
          ]
        },
        {
          "data": {
            "text/plain": [
              "tensor([ 1.3575e+03, -3.2892e+01,  4.9874e+05,  7.6939e+05,  6.9726e+05,\n",
              "        -3.2917e+01,  5.5646e+05,  8.6640e+03, -3.2917e+01,  6.9822e+05,\n",
              "         1.0778e+06, -3.2917e+01,  9.1213e+05,  1.5732e+03,  4.7437e+05,\n",
              "         6.5261e+05, -3.2917e+01,  5.5970e+05,  5.6804e+05,  5.3288e+05,\n",
              "         6.3872e+05,  1.0015e+04, -3.2917e+01, -3.2917e+01,  1.2162e+06,\n",
              "        -3.2917e+01,  1.1052e+05, -3.2917e+01,  3.8147e+05, -3.2917e+01],\n",
              "       device='cuda:0', grad_fn=<MeanBackward1>)"
            ]
          },
          "execution_count": 60,
          "metadata": {
            "tags": []
          },
          "output_type": "execute_result"
        }
      ],
      "source": [
        "mean = torch.empty(0, device=device)\n",
        "train_dataloader, val_dataloader, test_dataloader  = loader(1000)\n",
        "for i, (smiles, mol_dgl_graph, globalss, labels, masks) in enumerate(train_dataloader):\n",
        "  out = model.GNN1(mol_dgl_graph.to(device), globalss.to(device))  \n",
        "  mean = torch.cat((mean, out[0].view(-1,30)),0)\n",
        "print(mean.shape)\n",
        "mean = torch.mean(mean, 0)\n",
        "print(mean.shape)\n",
        "mean"
      ]
    },
    {
      "cell_type": "code",
      "execution_count": null,
      "metadata": {
        "colab": {
          "base_uri": "https://localhost:8080/",
          "height": 1000
        },
        "id": "DNRqOrnLWSmW",
        "outputId": "ecae7353-60b8-46d5-c56d-44a6250d9457"
      },
      "outputs": [
        {
          "name": "stdout",
          "output_type": "stream",
          "text": [
            "[ 54/200] train_loss: 0.17340 valid_loss: 0.21544\n",
            "EarlyStopping counter: 25 out of 25\n",
            "Early Stopping\n",
            "\n",
            " Training Time was 857.1443684101105 seconds in cuda:0\n",
            "\n",
            "\n"
          ]
        },
        {
          "data": {
            "text/plain": [
              "<Figure size 504x360 with 0 Axes>"
            ]
          },
          "metadata": {
            "tags": []
          },
          "output_type": "display_data"
        },
        {
          "data": {
            "image/png": "[encoded data removed]",
            "text/plain": [
              "<Figure size 504x360 with 1 Axes>"
            ]
          },
          "metadata": {
            "needs_background": "light",
            "tags": []
          },
          "output_type": "display_data"
        },
        {
          "name": "stdout",
          "output_type": "stream",
          "text": [
            "\n",
            " Test AUC is 0.7286671002705892\n",
            "+----------------------------+------------+\n",
            "|          Modules           | Parameters |\n",
            "+----------------------------+------------+\n",
            "|   GNN1.linear_0_v.weight   |    870     |\n",
            "|    GNN1.linear_0_v.bias    |     30     |\n",
            "|   GNN1.linear_0_e.weight   |    570     |\n",
            "|    GNN1.linear_0_e.bias    |     30     |\n",
            "|   GNN1.linear_0_g.weight   |    6000    |\n",
            "|    GNN1.linear_0_g.bias    |     30     |\n",
            "|   GNN1.linear_e_0.weight   |    5400    |\n",
            "|    GNN1.linear_e_0.bias    |     30     |\n",
            "|   GNN1.linear_e_1.weight   |    900     |\n",
            "|    GNN1.linear_e_1.bias    |     30     |\n",
            "|   GNN1.linear_m_0.weight   |    1800    |\n",
            "|   GNN1.linear_m_1.weight   |    900     |\n",
            "|   GNN1.linear_v_0.weight   |    2700    |\n",
            "|    GNN1.linear_v_0.bias    |     30     |\n",
            "|   GNN1.linear_v_1.weight   |    900     |\n",
            "|    GNN1.linear_v_1.bias    |     30     |\n",
            "|   GNN1.linear_r_0.weight   |    2700    |\n",
            "|    GNN1.linear_r_0.bias    |     30     |\n",
            "|   GNN1.linear_r_1.weight   |    900     |\n",
            "|    GNN1.linear_r_1.bias    |     30     |\n",
            "|   GNN1.rnn.weight_ih_l0    |    900     |\n",
            "|   GNN1.rnn.weight_hh_l0    |    900     |\n",
            "|    GNN1.rnn.bias_ih_l0     |     30     |\n",
            "|    GNN1.rnn.bias_hh_l0     |     30     |\n",
            "| GNN1.linear_alpha_0.weight |    6330    |\n",
            "|  GNN1.linear_alpha_0.bias  |     30     |\n",
            "| GNN1.linear_alpha_1.weight |    900     |\n",
            "|  GNN1.linear_alpha_1.bias  |     30     |\n",
            "| GNN1.linear_alpha_2.weight |     30     |\n",
            "|  GNN1.linear_alpha_2.bias  |     1      |\n",
            "|      linear_1.weight       |    450     |\n",
            "|       linear_1.bias        |     15     |\n",
            "|      linear_2.weight       |    180     |\n",
            "|       linear_2.bias        |     12     |\n",
            "+----------------------------+------------+\n",
            "Total Trainable Params: 33748\n"
          ]
        },
        {
          "data": {
            "text/plain": [
              "33748"
            ]
          },
          "execution_count": 27,
          "metadata": {
            "tags": []
          },
          "output_type": "execute_result"
        }
      ],
      "source": [
        "# Test with a good initial state and without BN before alpha updater\n",
        "\n",
        "class GNN(nn.Module):\n",
        "    def __init__(self):\n",
        "        super().__init__()\n",
        "        self.GNN1 = GGNN(29,19,200,30,30,30,30,30,30,30,30,30,1,30,30,num_layers=3)\n",
        "        self.linear_1 = nn.Linear(30, 15)\n",
        "        self.linear_2 = nn.Linear(15, 12)\n",
        "        self.bn = nn.BatchNorm1d(15, affine=False)\n",
        "        self.reset_parameters()\n",
        "    def reset_parameters(self):\n",
        "        \"\"\"Reinitialize learnable parameters.\"\"\"\n",
        "        gain = nn.init.calculate_gain('sigmoid')\n",
        "        nn.init.xavier_normal_(self.linear_1.weight, gain=gain)\n",
        "        nn.init.xavier_normal_(self.linear_2.weight, gain=gain)  \n",
        "    def forward(self, mol_dgl_graph,fg):\n",
        "      output = self.GNN1(mol_dgl_graph,fg)[0]\n",
        "      output = nn.functional.relu(self.linear_1(output))\n",
        "      output = self.bn(output)\n",
        "      output = nn.functional.sigmoid(self.linear_2(output))     \n",
        "      return output\n",
        "model= GNN().to(device)\n",
        "optimizer = torch.optim.Adam(model.parameters(), lr=0.001)\n",
        "model, train_losses, val_losses = train_model(model, batch_size=32, optimizer=optimizer, patience=25, n_epochs=10)\n",
        "model, train_losses, val_losses = train_model(model, batch_size=32, optimizer=optimizer, patience=25, n_epochs=200)\n",
        "count_parameters(model)"
      ]
    },
    {
      "cell_type": "code",
      "execution_count": null,
      "metadata": {
        "colab": {
          "base_uri": "https://localhost:8080/",
          "height": 1000
        },
        "id": "Mm-opy0_zyWI",
        "outputId": "07e1d00a-e11c-4e31-a60e-381d2441f543"
      },
      "outputs": [
        {
          "name": "stdout",
          "output_type": "stream",
          "text": [
            "[ 76/200] train_loss: 0.13663 valid_loss: 0.17954\n",
            "EarlyStopping counter: 25 out of 25\n",
            "Early Stopping\n",
            "\n",
            " Training Time was 1093.4514906406403 seconds in cpu\n",
            "\n",
            "\n"
          ]
        },
        {
          "data": {
            "text/plain": [
              "<Figure size 504x360 with 0 Axes>"
            ]
          },
          "metadata": {
            "tags": []
          },
          "output_type": "display_data"
        },
        {
          "data": {
            "image/png": "[encoded data removed]",
            "text/plain": [
              "<Figure size 504x360 with 1 Axes>"
            ]
          },
          "metadata": {
            "needs_background": "light",
            "tags": []
          },
          "output_type": "display_data"
        },
        {
          "name": "stdout",
          "output_type": "stream",
          "text": [
            "\n",
            " Test AUC is 0.7952938079833984\n",
            "+----------------------------+------------+\n",
            "|          Modules           | Parameters |\n",
            "+----------------------------+------------+\n",
            "|   GNN1.linear_0_v.weight   |    870     |\n",
            "|    GNN1.linear_0_v.bias    |     30     |\n",
            "|   GNN1.linear_0_e.weight   |    570     |\n",
            "|    GNN1.linear_0_e.bias    |     30     |\n",
            "|   GNN1.linear_0_g.weight   |    6000    |\n",
            "|    GNN1.linear_0_g.bias    |     30     |\n",
            "|   GNN1.linear_e_0.weight   |    5400    |\n",
            "|    GNN1.linear_e_0.bias    |     30     |\n",
            "|   GNN1.linear_e_1.weight   |    900     |\n",
            "|    GNN1.linear_e_1.bias    |     30     |\n",
            "|   GNN1.linear_m_0.weight   |    1800    |\n",
            "|   GNN1.linear_m_1.weight   |    900     |\n",
            "|   GNN1.linear_v_0.weight   |    2700    |\n",
            "|    GNN1.linear_v_0.bias    |     30     |\n",
            "|   GNN1.linear_v_1.weight   |    900     |\n",
            "|    GNN1.linear_v_1.bias    |     30     |\n",
            "|   GNN1.linear_r_0.weight   |    2700    |\n",
            "|    GNN1.linear_r_0.bias    |     30     |\n",
            "|   GNN1.linear_r_1.weight   |    900     |\n",
            "|    GNN1.linear_r_1.bias    |     30     |\n",
            "|   GNN1.rnn.weight_ih_l0    |    900     |\n",
            "|   GNN1.rnn.weight_hh_l0    |    900     |\n",
            "|    GNN1.rnn.bias_ih_l0     |     30     |\n",
            "|    GNN1.rnn.bias_hh_l0     |     30     |\n",
            "| GNN1.linear_alpha_0.weight |    6330    |\n",
            "|  GNN1.linear_alpha_0.bias  |     30     |\n",
            "| GNN1.linear_alpha_1.weight |    900     |\n",
            "|  GNN1.linear_alpha_1.bias  |     30     |\n",
            "| GNN1.linear_alpha_2.weight |     30     |\n",
            "|  GNN1.linear_alpha_2.bias  |     1      |\n",
            "|      linear_1.weight       |    450     |\n",
            "|       linear_1.bias        |     15     |\n",
            "|      linear_2.weight       |    180     |\n",
            "|       linear_2.bias        |     12     |\n",
            "+----------------------------+------------+\n",
            "Total Trainable Params: 33748\n"
          ]
        },
        {
          "data": {
            "text/plain": [
              "33748"
            ]
          },
          "execution_count": 36,
          "metadata": {
            "tags": []
          },
          "output_type": "execute_result"
        }
      ],
      "source": [
        "# Test without BN before alpha updater\n",
        "class GNN(nn.Module):\n",
        "    def __init__(self):\n",
        "        super().__init__()\n",
        "        self.GNN1 = GGNN(29,19,200,30,30,30,30,30,30,30,30,30,1,30,30,num_layers=2)\n",
        "        self.linear_1 = nn.Linear(30, 15)\n",
        "        self.linear_2 = nn.Linear(15, 12)\n",
        "        self.reset_parameters()\n",
        "    def reset_parameters(self):\n",
        "        \"\"\"Reinitialize learnable parameters.\"\"\"\n",
        "        gain = nn.init.calculate_gain('sigmoid')\n",
        "        nn.init.xavier_normal_(self.linear_1.weight, gain=gain)\n",
        "        nn.init.xavier_normal_(self.linear_2.weight, gain=gain)  \n",
        "    def forward(self, mol_dgl_graph,fg):\n",
        "      output = self.GNN1(mol_dgl_graph,fg)[0]\n",
        "      output = nn.functional.relu(self.linear_1(output))\n",
        "      output = nn.BatchNorm1d(15, affine=False)(output)\n",
        "      output = nn.functional.sigmoid(self.linear_2(output))     \n",
        "      return output\n",
        "model= GNN().to(device)\n",
        "optimizer = torch.optim.Adam(model.parameters(), lr=0.001)\n",
        "model, train_losses, val_losses = train_model(model, batch_size=32, optimizer=optimizer, patience=25, n_epochs=10)\n",
        "model, train_losses, val_losses = train_model(model, batch_size=32, optimizer=optimizer, patience=25, n_epochs=200)\n",
        "count_parameters(model)"
      ]
    },
    {
      "cell_type": "code",
      "execution_count": null,
      "metadata": {
        "colab": {
          "base_uri": "https://localhost:8080/",
          "height": 1000
        },
        "id": "lDaxlja10NVH",
        "outputId": "971363d0-f1dd-4a75-ef4c-b862384403d4"
      },
      "outputs": [
        {
          "name": "stdout",
          "output_type": "stream",
          "text": [
            "[ 90/200] train_loss: 0.17919 valid_loss: 0.19406\n",
            "EarlyStopping counter: 25 out of 25\n",
            "Early Stopping\n",
            "\n",
            " Training Time was 2138.197608232498 seconds in cuda:0\n",
            "\n",
            "\n"
          ]
        },
        {
          "data": {
            "text/plain": [
              "<Figure size 504x360 with 0 Axes>"
            ]
          },
          "metadata": {
            "tags": []
          },
          "output_type": "display_data"
        },
        {
          "data": {
            "image/png": "[encoded data removed]",
            "text/plain": [
              "<Figure size 504x360 with 1 Axes>"
            ]
          },
          "metadata": {
            "needs_background": "light",
            "tags": []
          },
          "output_type": "display_data"
        },
        {
          "name": "stdout",
          "output_type": "stream",
          "text": [
            "\n",
            " Test AUC is 0.7752970854441324\n",
            "+----------------------------+------------+\n",
            "|          Modules           | Parameters |\n",
            "+----------------------------+------------+\n",
            "|   GNN1.linear_0_v.weight   |    870     |\n",
            "|    GNN1.linear_0_v.bias    |     30     |\n",
            "|   GNN1.linear_0_e.weight   |    570     |\n",
            "|    GNN1.linear_0_e.bias    |     30     |\n",
            "|   GNN1.linear_0_g.weight   |    6000    |\n",
            "|    GNN1.linear_0_g.bias    |     30     |\n",
            "|   GNN1.linear_e_0.weight   |    5400    |\n",
            "|    GNN1.linear_e_0.bias    |     30     |\n",
            "|   GNN1.linear_e_1.weight   |    900     |\n",
            "|    GNN1.linear_e_1.bias    |     30     |\n",
            "|   GNN1.linear_m_0.weight   |    1800    |\n",
            "|   GNN1.linear_m_1.weight   |    900     |\n",
            "|   GNN1.linear_v_0.weight   |    2700    |\n",
            "|    GNN1.linear_v_0.bias    |     30     |\n",
            "|   GNN1.linear_v_1.weight   |    900     |\n",
            "|    GNN1.linear_v_1.bias    |     30     |\n",
            "|   GNN1.linear_r_0.weight   |    2700    |\n",
            "|    GNN1.linear_r_0.bias    |     30     |\n",
            "|   GNN1.linear_r_1.weight   |    900     |\n",
            "|    GNN1.linear_r_1.bias    |     30     |\n",
            "|   GNN1.rnn.weight_ih_l0    |    900     |\n",
            "|   GNN1.rnn.weight_hh_l0    |    900     |\n",
            "|    GNN1.rnn.bias_ih_l0     |     30     |\n",
            "|    GNN1.rnn.bias_hh_l0     |     30     |\n",
            "| GNN1.linear_alpha_0.weight |    6330    |\n",
            "|  GNN1.linear_alpha_0.bias  |     30     |\n",
            "| GNN1.linear_alpha_1.weight |    900     |\n",
            "|  GNN1.linear_alpha_1.bias  |     30     |\n",
            "| GNN1.linear_alpha_2.weight |     30     |\n",
            "|  GNN1.linear_alpha_2.bias  |     1      |\n",
            "|      linear_1.weight       |    450     |\n",
            "|       linear_1.bias        |     15     |\n",
            "|      linear_2.weight       |    180     |\n",
            "|       linear_2.bias        |     12     |\n",
            "+----------------------------+------------+\n",
            "Total Trainable Params: 33748\n"
          ]
        },
        {
          "data": {
            "text/plain": [
              "33748"
            ]
          },
          "execution_count": 7,
          "metadata": {
            "tags": []
          },
          "output_type": "execute_result"
        }
      ],
      "source": [
        "# Test with a good initial state and without BN before alpha updater\n",
        "\n",
        "class GNN(nn.Module):\n",
        "    def __init__(self):\n",
        "        super().__init__()\n",
        "        self.GNN1 = GGNN(29,19,200,30,30,30,30,30,30,30,30,30,1,30,30,num_layers=5)\n",
        "        self.linear_1 = nn.Linear(30, 15)\n",
        "        self.linear_2 = nn.Linear(15, 12)\n",
        "        self.bn = nn.BatchNorm1d(15, affine=False)\n",
        "        self.reset_parameters()\n",
        "    def reset_parameters(self):\n",
        "        \"\"\"Reinitialize learnable parameters.\"\"\"\n",
        "        gain = nn.init.calculate_gain('sigmoid')\n",
        "        nn.init.xavier_normal_(self.linear_1.weight, gain=gain)\n",
        "        nn.init.xavier_normal_(self.linear_2.weight, gain=gain)  \n",
        "    def forward(self, mol_dgl_graph,fg):\n",
        "      output = self.GNN1(mol_dgl_graph,fg)[0]\n",
        "      output = nn.functional.relu(self.linear_1(output))\n",
        "      output = self.bn(output)\n",
        "      output = nn.functional.sigmoid(self.linear_2(output))     \n",
        "      return output\n",
        "model= GNN().to(device)\n",
        "optimizer = torch.optim.Adam(model.parameters(), lr=0.001)\n",
        "model, train_losses, val_losses = train_model(model, batch_size=32, optimizer=optimizer, patience=25, n_epochs=10)\n",
        "model, train_losses, val_losses = train_model(model, batch_size=32, optimizer=optimizer, patience=25, n_epochs=200)\n",
        "count_parameters(model)"
      ]
    },
    {
      "cell_type": "code",
      "execution_count": null,
      "metadata": {
        "colab": {
          "base_uri": "https://localhost:8080/"
        },
        "id": "0T6ol6CDSU8k",
        "outputId": "97df0741-ecad-41ac-cc90-bb86f622772d"
      },
      "outputs": [
        {
          "name": "stdout",
          "output_type": "stream",
          "text": [
            "\n",
            " Test AUC is 0.7752970854441324\n"
          ]
        }
      ],
      "source": [
        "    model.eval()\n",
        "    train_dataloader, val_dataloader, test_dataloader  = loader(1000)\n",
        "    metric = roc_auc_score\n",
        "    with torch.no_grad():\n",
        "        iter = 0\n",
        "        prediction_all= torch.empty(0, device=device)\n",
        "        labels_all= torch.empty(0, device=device)\n",
        "        masks_all= torch.empty(0, device=device)\n",
        "        for i, (_, mol_dgl_graph, fg, labels, masks) in enumerate(test_dataloader):\n",
        "            mol_dgl_graph=mol_dgl_graph.to(device)\n",
        "            labels=labels.to(device)\n",
        "            masks=masks.to(device)\n",
        "            fg=fg.to(device)\n",
        "            prediction = model(mol_dgl_graph, fg)\n",
        "            prediction_all = torch.cat((prediction_all, prediction), 0)\n",
        "            labels_all = torch.cat((labels_all, labels), 0)\n",
        "            masks_all = torch.cat((masks_all, labels), 0)\n",
        "        average = torch.tensor([0.], device=device)\n",
        "        for i in range(12):\n",
        "          #average += metric(prediction_all[:, i].view(-1), labels_all[:, i].view(-1).int()) with pytorch-lightening\n",
        "          average += metric(labels_all[:, i].view(-1).int().to('cpu'), prediction_all[:, i].view(-1).to('cpu')) \n",
        "    print('\\n Test AUC is', average.item()/12)\n"
      ]
    },
    {
      "cell_type": "code",
      "execution_count": null,
      "metadata": {
        "id": "cP3sKHVQB2yY"
      },
      "outputs": [],
      "source": [
        "# Test without BN before alpha updater\n",
        "class GNN(nn.Module):\n",
        "    def __init__(self):\n",
        "        super().__init__()\n",
        "        self.GNN1 = GGNN(29,19,200,30,30,30,30,30,30,30,30,30,1,30,30, num_layers=5)\n",
        "        self.linear_1 = nn.Linear(30, 15)\n",
        "        self.linear_2 = nn.Linear(15, 12)\n",
        "        self.reset_parameters()\n",
        "    def reset_parameters(self):\n",
        "        \"\"\"Reinitialize learnable parameters.\"\"\"\n",
        "        gain = nn.init.calculate_gain('sigmoid')\n",
        "        nn.init.xavier_normal_(self.linear_1.weight, gain=gain)\n",
        "        nn.init.xavier_normal_(self.linear_2.weight, gain=gain)  \n",
        "    def forward(self, mol_dgl_graph,fg):\n",
        "      output = self.GNN1(mol_dgl_graph,fg)[0]\n",
        "      output = nn.functional.relu(self.linear_1(output))\n",
        "      output = nn.BatchNorm1d(15, affine=False)(output)\n",
        "      output = nn.functional.sigmoid(self.linear_2(output))     \n",
        "      return output\n",
        "model= GNN().to(device)\n",
        "optimizer = torch.optim.Adam(model.parameters(), lr=0.001)\n",
        "model, train_losses, val_losses = train_model(model, batch_size=32, optimizer=optimizer, patience=10, n_epochs=10)\n",
        "model, train_losses, val_losses = train_model(model, batch_size=32, optimizer=optimizer, patience=20, n_epochs=200)\n",
        "count_parameters(model)"
      ]
    },
    {
      "cell_type": "code",
      "execution_count": null,
      "metadata": {
        "colab": {
          "base_uri": "https://localhost:8080/",
          "height": 1000
        },
        "id": "YI2_Ewz8oMwH",
        "outputId": "31103cf1-85f1-43eb-d33a-32f5e37a6123"
      },
      "outputs": [
        {
          "name": "stdout",
          "output_type": "stream",
          "text": [
            "[ 60/200] train_loss: 0.15401 valid_loss: 0.20192\n",
            "EarlyStopping counter: 25 out of 25\n",
            "Early Stopping\n",
            "\n",
            " Training Time was 887.3742315769196 seconds in cpu\n",
            "\n",
            "\n"
          ]
        },
        {
          "data": {
            "text/plain": [
              "<Figure size 504x360 with 0 Axes>"
            ]
          },
          "metadata": {
            "tags": []
          },
          "output_type": "display_data"
        },
        {
          "data": {
            "image/png": "[encoded data removed]",
            "text/plain": [
              "<Figure size 504x360 with 1 Axes>"
            ]
          },
          "metadata": {
            "needs_background": "light",
            "tags": []
          },
          "output_type": "display_data"
        },
        {
          "name": "stdout",
          "output_type": "stream",
          "text": [
            "\n",
            " Test AUC is 0.7474063237508138\n",
            "+----------------------------+------------+\n",
            "|          Modules           | Parameters |\n",
            "+----------------------------+------------+\n",
            "|   GNN1.linear_0_v.weight   |    870     |\n",
            "|    GNN1.linear_0_v.bias    |     30     |\n",
            "|   GNN1.linear_0_e.weight   |    570     |\n",
            "|    GNN1.linear_0_e.bias    |     30     |\n",
            "|   GNN1.linear_0_g.weight   |    6000    |\n",
            "|    GNN1.linear_0_g.bias    |     30     |\n",
            "|   GNN1.linear_e_0.weight   |    5400    |\n",
            "|    GNN1.linear_e_0.bias    |     30     |\n",
            "|   GNN1.linear_e_1.weight   |    900     |\n",
            "|    GNN1.linear_e_1.bias    |     30     |\n",
            "|   GNN1.linear_m_0.weight   |    1800    |\n",
            "|   GNN1.linear_m_1.weight   |    900     |\n",
            "|   GNN1.linear_v_0.weight   |    2700    |\n",
            "|    GNN1.linear_v_0.bias    |     30     |\n",
            "|   GNN1.linear_v_1.weight   |    900     |\n",
            "|    GNN1.linear_v_1.bias    |     30     |\n",
            "|   GNN1.linear_r_0.weight   |    2700    |\n",
            "|    GNN1.linear_r_0.bias    |     30     |\n",
            "|   GNN1.linear_r_1.weight   |    900     |\n",
            "|    GNN1.linear_r_1.bias    |     30     |\n",
            "|   GNN1.rnn.weight_ih_l0    |    900     |\n",
            "|   GNN1.rnn.weight_hh_l0    |    900     |\n",
            "|    GNN1.rnn.bias_ih_l0     |     30     |\n",
            "|    GNN1.rnn.bias_hh_l0     |     30     |\n",
            "| GNN1.linear_alpha_0.weight |    6330    |\n",
            "|  GNN1.linear_alpha_0.bias  |     30     |\n",
            "| GNN1.linear_alpha_1.weight |    900     |\n",
            "|  GNN1.linear_alpha_1.bias  |     30     |\n",
            "| GNN1.linear_alpha_2.weight |     30     |\n",
            "|  GNN1.linear_alpha_2.bias  |     1      |\n",
            "|      linear_1.weight       |    450     |\n",
            "|       linear_1.bias        |     15     |\n",
            "|      linear_2.weight       |    180     |\n",
            "|       linear_2.bias        |     12     |\n",
            "+----------------------------+------------+\n",
            "Total Trainable Params: 33748\n"
          ]
        },
        {
          "data": {
            "text/plain": [
              "33748"
            ]
          },
          "execution_count": 13,
          "metadata": {
            "tags": []
          },
          "output_type": "execute_result"
        }
      ],
      "source": [
        "\n",
        "class GNN(nn.Module):\n",
        "    def __init__(self):\n",
        "        super().__init__()\n",
        "        self.GNN1 = GGNN(29,19,200,30,30,30,30,30,30,30,30,30,1,30,30,num_layers=2)\n",
        "        self.linear_1 = nn.Linear(30, 15)\n",
        "        self.linear_2 = nn.Linear(15, 12)\n",
        "        self.reset_parameters()\n",
        "    def reset_parameters(self):\n",
        "        \"\"\"Reinitialize learnable parameters.\"\"\"\n",
        "        gain = nn.init.calculate_gain('sigmoid')\n",
        "        nn.init.xavier_normal_(self.linear_1.weight, gain=gain)\n",
        "        nn.init.xavier_normal_(self.linear_2.weight, gain=gain)  \n",
        "    def forward(self, mol_dgl_graph,fg):\n",
        "      output = self.GNN1(mol_dgl_graph,fg)[0]\n",
        "      output = nn.functional.relu(self.linear_1(output))\n",
        "      output = nn.BatchNorm1d(15, affine=False)(output)\n",
        "      output = nn.functional.sigmoid(self.linear_2(output))     \n",
        "      return output\n",
        "model= GNN().to(device)\n",
        "optimizer = torch.optim.Adam(model.parameters(), lr=0.001)\n",
        "model, train_losses, val_losses = train_model(model, batch_size=32, optimizer=optimizer, patience=25, n_epochs=10)\n",
        "model, train_losses, val_losses = train_model(model, batch_size=32, optimizer=optimizer, patience=25, n_epochs=200)\n",
        "count_parameters(model)"
      ]
    },
    {
      "cell_type": "code",
      "execution_count": null,
      "metadata": {
        "colab": {
          "base_uri": "https://localhost:8080/"
        },
        "id": "y0nkMTZcARYy",
        "outputId": "34532c59-9021-42d3-9282-25614ef8d0da"
      },
      "outputs": [
        {
          "name": "stdout",
          "output_type": "stream",
          "text": [
            "\n",
            " Test AUC is 0.728668212890625\n"
          ]
        }
      ],
      "source": [
        "    metric = roc_auc_score\n",
        "    with torch.no_grad():\n",
        "        iter = 0\n",
        "        prediction_all= torch.empty(0, device=device)\n",
        "        labels_all= torch.empty(0, device=device)\n",
        "        masks_all= torch.empty(0, device=device)\n",
        "        for i, (_, mol_dgl_graph, fg, labels, masks) in enumerate(test_dataloader):\n",
        "            mol_dgl_graph=mol_dgl_graph.to(device)\n",
        "            labels=labels.to(device)\n",
        "            masks=masks.to(device)\n",
        "            fg=fg.to(device)\n",
        "            prediction = model(mol_dgl_graph, fg)\n",
        "            prediction_all = torch.cat((prediction_all, prediction), 0)\n",
        "            labels_all = torch.cat((labels_all, labels), 0)\n",
        "            masks_all = torch.cat((masks_all, labels), 0)\n",
        "        average = torch.tensor([0.], device=device)\n",
        "        for i in range(12):\n",
        "          #average += metric(prediction_all[:, i].view(-1), labels_all[:, i].view(-1).int()) with pytorch-lightening\n",
        "          average += metric(labels_all[:, i].view(-1).int().to('cpu'), prediction_all[:, i].view(-1).to('cpu')) \n",
        "    print('\\n Test AUC is', average.item()/12)\n"
      ]
    },
    {
      "cell_type": "code",
      "execution_count": null,
      "metadata": {
        "colab": {
          "base_uri": "https://localhost:8080/"
        },
        "id": "863eo0dBrao8",
        "outputId": "c8688f14-df5a-4772-c2a6-63b80ab146c7"
      },
      "outputs": [
        {
          "name": "stdout",
          "output_type": "stream",
          "text": [
            "\u001b[0m\u001b[01;34msample_data\u001b[0m/\n"
          ]
        }
      ],
      "source": [
        "ls"
      ]
    },
    {
      "cell_type": "code",
      "execution_count": null,
      "metadata": {
        "colab": {
          "base_uri": "https://localhost:8080/"
        },
        "id": "1oyJmCzRrbHW",
        "outputId": "920e4d91-f617-4e32-a4fa-7d91d5bb7592"
      },
      "outputs": [
        {
          "data": {
            "text/plain": [
              "(tensor([[  68.8421, -111.5514],\n",
              "         [ -38.1391,   79.8285],\n",
              "         [  82.4185,  237.3892],\n",
              "         [  55.6399,  -99.5923],\n",
              "         [-200.2856,   37.8318],\n",
              "         [-128.8514,  153.7194],\n",
              "         [  18.8411,   12.2055],\n",
              "         [ -11.9588, -190.8757],\n",
              "         [-146.3088,   -9.6151],\n",
              "         [-111.5356,  -33.1359],\n",
              "         [ -16.0692,  -66.2575],\n",
              "         [-109.5591,  -65.8367],\n",
              "         [ 222.7342,    2.6988],\n",
              "         [  96.8187,   66.0808],\n",
              "         [ -31.1790, -236.9653],\n",
              "         [ 139.7986,    5.3781],\n",
              "         [  53.3613,   11.9775],\n",
              "         [ -22.2658, -121.7942],\n",
              "         [-100.6796,   23.3015],\n",
              "         [  57.9128,  155.7978],\n",
              "         [  48.2635,    4.8502],\n",
              "         [  54.7197, -158.1169],\n",
              "         [  69.7944,  227.0485],\n",
              "         [   2.2320,   -4.7171],\n",
              "         [ 114.0674,   31.5817],\n",
              "         [ -43.9052,   26.0957],\n",
              "         [  11.8256,   49.5903],\n",
              "         [  98.6113,  103.6091],\n",
              "         [  87.0475,  -55.6893],\n",
              "         [   2.3992,   27.5002],\n",
              "         [  11.3561,   12.2759],\n",
              "         [-204.4865,   84.1599],\n",
              "         [-106.3323, -142.7738],\n",
              "         [ -71.9528, -149.3578],\n",
              "         [ 110.6161,   56.4722],\n",
              "         [ -23.1294, -140.3053],\n",
              "         [ -64.4549,  -84.2444],\n",
              "         [ -75.8477,   59.5654],\n",
              "         [ -61.6888,  108.9956],\n",
              "         [ -58.6173,   80.1686],\n",
              "         [ 169.1775,   63.3235],\n",
              "         [ -92.0195, -108.4728],\n",
              "         [ -87.4754,   78.2116],\n",
              "         [  54.6410,   29.3390],\n",
              "         [  15.6349,   90.2672],\n",
              "         [ -40.3031,   84.7548],\n",
              "         [  13.7071,   19.7636],\n",
              "         [-160.2896,   -2.6506],\n",
              "         [ 151.6923, -103.1971],\n",
              "         [  86.4594, -183.9150]]), tensor([[ 0.7466, -1.0677],\n",
              "         [-0.3781,  0.7790],\n",
              "         [ 0.8893,  2.2994],\n",
              "         [ 0.6078, -0.9523],\n",
              "         [-2.0827,  0.3738],\n",
              "         [-1.3318,  1.4920],\n",
              "         [ 0.2209,  0.1265],\n",
              "         [-0.1029, -1.8331],\n",
              "         [-1.5153, -0.0840],\n",
              "         [-1.1497, -0.3110],\n",
              "         [-0.1461, -0.6306],\n",
              "         [-1.1289, -0.6265],\n",
              "         [ 2.3645,  0.0348],\n",
              "         [ 1.0407,  0.6464],\n",
              "         [-0.3049, -2.2778],\n",
              "         [ 1.4926,  0.0606],\n",
              "         [ 0.5838,  0.1243],\n",
              "         [-0.2112, -1.1665],\n",
              "         [-1.0356,  0.2336],\n",
              "         [ 0.6317,  1.5121],\n",
              "         [ 0.5303,  0.0555],\n",
              "         [ 0.5981, -1.5170],\n",
              "         [ 0.7566,  2.1996],\n",
              "         [ 0.0463, -0.0368],\n",
              "         [ 1.2220,  0.3135],\n",
              "         [-0.4387,  0.2605],\n",
              "         [ 0.1472,  0.4873],\n",
              "         [ 1.0596,  1.0085],\n",
              "         [ 0.9380, -0.5286],\n",
              "         [ 0.0481,  0.2741],\n",
              "         [ 0.1422,  0.1272],\n",
              "         [-2.1269,  0.8208],\n",
              "         [-1.0950, -1.3689],\n",
              "         [-0.7336, -1.4325],\n",
              "         [ 1.1858,  0.5537],\n",
              "         [-0.2203, -1.3451],\n",
              "         [-0.6548, -0.8042],\n",
              "         [-0.7745,  0.5835],\n",
              "         [-0.6257,  1.0605],\n",
              "         [-0.5934,  0.7823],\n",
              "         [ 1.8014,  0.6198],\n",
              "         [-0.9445, -1.0380],\n",
              "         [-0.8968,  0.7634],\n",
              "         [ 0.5973,  0.2918],\n",
              "         [ 0.1872,  0.8798],\n",
              "         [-0.4008,  0.8266],\n",
              "         [ 0.1670,  0.1994],\n",
              "         [-1.6623, -0.0168],\n",
              "         [ 1.6176, -0.9871],\n",
              "         [ 0.9318, -1.7659]]))"
            ]
          },
          "execution_count": 9,
          "metadata": {
            "tags": []
          },
          "output_type": "execute_result"
        }
      ],
      "source": [
        ">>> # With Learnable Parameters\n",
        ">>> m1 = nn.BatchNorm1d(2)\n",
        ">>> # Without Learnable Parameters\n",
        ">>> m2 = nn.BatchNorm1d(2, affine=False)\n",
        ">>> input = 100*torch.randn(50, 2)\n",
        ">>> output = m2(input)\n",
        "input, output"
      ]
    },
    {
      "cell_type": "code",
      "execution_count": null,
      "metadata": {
        "id": "5_iTwWuIsf_K"
      },
      "outputs": [],
      "source": []
    }
  ],
  "metadata": {
    "colab": {
      "name": "YGNN2.ipynb",
      "provenance": []
    },
    "kernelspec": {
      "display_name": "Python 3.9.7 ('GNN1')",
      "language": "python",
      "name": "python3"
    },
    "language_info": {
      "name": "python",
      "version": "3.9.7"
    },
    "vscode": {
      "interpreter": {
        "hash": "87ffea2e41b6ead491fde35e7bf5b9e0d430364dfdc38aeafa8d259bf27dfbce"
      }
    }
  },
  "nbformat": 4,
  "nbformat_minor": 0
}
